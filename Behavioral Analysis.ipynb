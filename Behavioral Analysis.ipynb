{
 "cells": [
  {
   "cell_type": "code",
   "execution_count": null,
   "metadata": {},
   "outputs": [],
   "source": [
    "import pandas as pd\n",
    "import numpy as np\n",
    "import json\n",
    "import re\n",
    "import glob\n",
    "import os\n",
    "import pandasql\n",
    "import matplotlib.pyplot as plt"
   ]
  },
  {
   "cell_type": "code",
   "execution_count": null,
   "metadata": {},
   "outputs": [],
   "source": [
    "#df_1 = pd.read_json('C:/Users/vansh/Desktop/Book/Capstone2/SRL/Data/final_grade/106570final_grade.JSON')\n",
    "#users_106570 = df_1[\"user_id\"].unique()"
   ]
  },
  {
   "cell_type": "code",
   "execution_count": null,
   "metadata": {},
   "outputs": [],
   "source": [
    "path = r'C:/Users/vansh/Desktop/Book/Capstone2/SRL/Data/pageview/106570' # use your path\n",
    "all_files = glob.glob(os.path.join(path, \"*.xlsx\"))"
   ]
  },
  {
   "cell_type": "code",
   "execution_count": null,
   "metadata": {},
   "outputs": [],
   "source": [
    "li_1 = []\n",
    "for filename in all_files:\n",
    "    df = pd.read_excel(filename, index_col=None, header=0)\n",
    "    li_1.append(df)\n",
    "\n",
    "pgv_570 = pd.concat(li_1, axis=0, ignore_index=True)"
   ]
  },
  {
   "cell_type": "code",
   "execution_count": null,
   "metadata": {},
   "outputs": [],
   "source": [
    "ids = []\n",
    "for i in range(len(pgv_570[\"links\"])):\n",
    "    m = re.search(\"user': (.+?), 'cont\",pgv_570[\"links\"][i])\n",
    "    if m:\n",
    "        lost = m.group(1)\n",
    "    ids.append(lost)\n",
    "\n",
    "pgv_570['Ids']=ids\n",
    "#pgv_570.head()"
   ]
  },
  {
   "cell_type": "code",
   "execution_count": null,
   "metadata": {},
   "outputs": [],
   "source": [
    "date = []\n",
    "for i in range(len(pgv_570[\"created_at\"])):\n",
    "    m = re.search(\"(.+?)T\",pgv_570[\"created_at\"][i])\n",
    "    if m:\n",
    "        lost = m.group(1)\n",
    "    date.append(lost)\n",
    "#print(date)\n",
    "pgv_570['Date']=date"
   ]
  },
  {
   "cell_type": "code",
   "execution_count": null,
   "metadata": {},
   "outputs": [],
   "source": [
    "final_570_frame = pgv_570.drop(['session_id','links','created_at','url'],axis=1)\n",
    "final_570_frame.head()"
   ]
  },
  {
   "cell_type": "code",
   "execution_count": null,
   "metadata": {},
   "outputs": [],
   "source": [
    "final_570_frame.shape"
   ]
  },
  {
   "cell_type": "code",
   "execution_count": null,
   "metadata": {},
   "outputs": [],
   "source": [
    "w1_570 = pandasql.sqldf(\"SELECT * FROM final_570_frame where Date > '2021-02-28' and Date < '2021-03-08';\", globals())\n",
    "w2_570 = pandasql.sqldf(\"SELECT * FROM final_570_frame where Date > '2021-03-07' and Date < '2021-03-15';\", globals())\n",
    "w3_570 = pandasql.sqldf(\"SELECT * FROM final_570_frame where Date > '2021-03-14' and Date < '2021-03-22';\", globals())\n",
    "w4_570 = pandasql.sqldf(\"SELECT * FROM final_570_frame where Date > '2021-03-20' and Date < '2021-03-29';\", globals())\n",
    "w5_570 = pandasql.sqldf(\"SELECT * FROM final_570_frame where Date > '2021-03-28' and Date < '2021-04-05';\", globals())\n",
    "w6_570 = pandasql.sqldf(\"SELECT * FROM final_570_frame where Date > '2021-04-11' and Date < '2021-04-19';\", globals())\n",
    "w7_570 = pandasql.sqldf(\"SELECT * FROM final_570_frame where Date > '2021-04-18' and Date < '2021-04-26';\", globals())\n",
    "w8_570 = pandasql.sqldf(\"SELECT * FROM final_570_frame where Date > '2021-05-02' and Date < '2021-05-10';\", globals())\n",
    "w9_570 = pandasql.sqldf(\"SELECT * FROM final_570_frame where Date > '2021-05-09' and Date < '2021-05-17';\", globals())\n",
    "w10_570 = pandasql.sqldf(\"SELECT * FROM final_570_frame where Date > '2021-05-16' and Date < '2021-05-24';\", globals())\n",
    "w11_570 = pandasql.sqldf(\"SELECT * FROM final_570_frame where Date > '2021-05-23' and Date < '2021-05-31';\", globals())\n",
    "w12_570 = pandasql.sqldf(\"SELECT * FROM final_570_frame where Date > '2021-05-30' and Date < '2021-06-07';\", globals())"
   ]
  },
  {
   "cell_type": "code",
   "execution_count": null,
   "metadata": {},
   "outputs": [],
   "source": [
    "w1_570_count = pandasql.sqldf(\"SELECT ids, controller, count(ids) as Visit_Count FROM w1_570 where controller in ('announcements','assignments','courses','discussion_topics','files','quizzes/quizzes','submissions') group by ids, controller\", globals())\n",
    "w2_570_count = pandasql.sqldf(\"SELECT ids, controller, count(ids) as Visit_Count FROM w2_570 where controller in ('announcements','assignments','courses','discussion_topics','files','quizzes/quizzes','submissions') group by ids, controller\", globals())\n",
    "w3_570_count = pandasql.sqldf(\"SELECT ids, controller, count(ids) as Visit_Count FROM w3_570 where controller in ('announcements','assignments','courses','discussion_topics','files','quizzes/quizzes','submissions') group by ids, controller\", globals())\n",
    "w4_570_count = pandasql.sqldf(\"SELECT ids, controller, count(ids) as Visit_Count FROM w4_570 where controller in ('announcements','assignments','courses','discussion_topics','files','quizzes/quizzes','submissions') group by ids, controller\", globals())\n",
    "w5_570_count = pandasql.sqldf(\"SELECT ids, controller, count(ids) as Visit_Count FROM w5_570 where controller in ('announcements','assignments','courses','discussion_topics','files','quizzes/quizzes','submissions') group by ids, controller\", globals())\n",
    "w6_570_count = pandasql.sqldf(\"SELECT ids, controller, count(ids) as Visit_Count FROM w6_570 where controller in ('announcements','assignments','courses','discussion_topics','files','quizzes/quizzes','submissions') group by ids, controller\", globals())\n",
    "w7_570_count = pandasql.sqldf(\"SELECT ids, controller, count(ids) as Visit_Count FROM w7_570 where controller in ('announcements','assignments','courses','discussion_topics','files','quizzes/quizzes','submissions') group by ids, controller\", globals())\n",
    "w8_570_count = pandasql.sqldf(\"SELECT ids, controller, count(ids) as Visit_Count FROM w8_570 where controller in ('announcements','assignments','courses','discussion_topics','files','quizzes/quizzes','submissions') group by ids, controller\", globals())\n",
    "w9_570_count = pandasql.sqldf(\"SELECT ids, controller, count(ids) as Visit_Count FROM w9_570 where controller in ('announcements','assignments','courses','discussion_topics','files','quizzes/quizzes','submissions') group by ids, controller\", globals())\n",
    "w10_570_count = pandasql.sqldf(\"SELECT ids, controller, count(ids) as Visit_Count FROM w10_570 where controller in ('announcements','assignments','courses','discussion_topics','files','quizzes/quizzes','submissions') group by ids, controller\", globals())\n",
    "w11_570_count = pandasql.sqldf(\"SELECT ids, controller, count(ids) as Visit_Count FROM w11_570 where controller in ('announcements','assignments','courses','discussion_topics','files','quizzes/quizzes','submissions') group by ids, controller\", globals())\n",
    "w12_570_count = pandasql.sqldf(\"SELECT ids, controller, count(ids) as Visit_Count FROM w12_570 where controller in ('announcements','assignments','courses','discussion_topics','files','quizzes/quizzes','submissions') group by ids, controller\", globals())"
   ]
  },
  {
   "cell_type": "code",
   "execution_count": null,
   "metadata": {},
   "outputs": [],
   "source": [
    "w1_570_count['Week'] = 'Week 1'\n",
    "w2_570_count['Week'] = 'Week 2'\n",
    "w3_570_count['Week'] = 'Week 3'\n",
    "w4_570_count['Week'] = 'Week 4'\n",
    "w5_570_count['Week'] = 'Week 5'\n",
    "w6_570_count['Week'] = 'Week 6'\n",
    "w7_570_count['Week'] = 'Week 7'\n",
    "w8_570_count['Week'] = 'Week 8'\n",
    "w9_570_count['Week'] = 'Week 9'\n",
    "w10_570_count['Week'] = 'Week 10'\n",
    "w11_570_count['Week'] = 'Week 11'\n",
    "w12_570_count['Week'] = 'Week 12'"
   ]
  },
  {
   "cell_type": "code",
   "execution_count": null,
   "metadata": {},
   "outputs": [],
   "source": [
    "first_half_570 = [w1_570_count,w2_570_count,w3_570_count,w4_570_count,w5_570_count,w6_570_count]\n",
    "first_half_570 = pd.concat(first_half_570)\n",
    "\n",
    "second_half_570 = [w7_570_count,w8_570_count,w9_570_count,w10_570_count,w11_570_count,w12_570_count]\n",
    "second_half_570 = pd.concat(second_half_570)\n",
    "\n",
    "full_data = [w1_570_count,w2_570_count,w3_570_count,w4_570_count,w5_570_count,w6_570_count,w7_570_count,w8_570_count,w9_570_count,w10_570_count,w11_570_count,w12_570_count]\n",
    "full_data = pd.concat(full_data)"
   ]
  },
  {
   "cell_type": "code",
   "execution_count": null,
   "metadata": {},
   "outputs": [],
   "source": [
    "second_half_570"
   ]
  },
  {
   "cell_type": "code",
   "execution_count": null,
   "metadata": {},
   "outputs": [],
   "source": [
    "un_ids = full_data['Ids'].unique()\n",
    "#un_ids"
   ]
  },
  {
   "cell_type": "code",
   "execution_count": null,
   "metadata": {},
   "outputs": [],
   "source": [
    "d = []\n",
    "cont = ['announcements','assignments','courses','discussion_topics','files','quizzes/quizzes','submissions']\n",
    "for j in range(0,len(cont)):\n",
    "    for i in range(len(un_ids)):\n",
    "        query = pandasql.sqldf(f\"SELECT sum(Visit_count) as Sum FROM full_data where Ids={un_ids[i]} and controller = '{cont[j]}'\", globals())\n",
    "        d.append(\n",
    "            {\n",
    "                'Ids' : un_ids[i],\n",
    "                'Controller' : cont[j],\n",
    "                'Count_m' : query['Sum'][0]\n",
    "            }\n",
    "        )\n",
    "    \n",
    "#pd.DataFrame(d)"
   ]
  },
  {
   "cell_type": "code",
   "execution_count": null,
   "metadata": {},
   "outputs": [],
   "source": [
    "EDA_data = pd.DataFrame(d)"
   ]
  },
  {
   "cell_type": "code",
   "execution_count": null,
   "metadata": {},
   "outputs": [],
   "source": [
    "l = []\n",
    "for i in range(len(un_ids)):\n",
    "    q1 = pandasql.sqldf(f\"SELECT Count_m as ct FROM EDA_data where Ids={un_ids[i]} and controller = 'announcements'\", globals())\n",
    "    q2 = pandasql.sqldf(f\"SELECT Count_m as ct FROM EDA_data where Ids={un_ids[i]} and controller = 'assignments'\", globals())\n",
    "    q3 = pandasql.sqldf(f\"SELECT Count_m as ct FROM EDA_data where Ids={un_ids[i]} and controller = 'courses'\", globals())\n",
    "    q4 = pandasql.sqldf(f\"SELECT Count_m as ct FROM EDA_data where Ids={un_ids[i]} and controller = 'discussion_topics'\", globals())\n",
    "    q5 = pandasql.sqldf(f\"SELECT Count_m as ct FROM EDA_data where Ids={un_ids[i]} and controller = 'files'\", globals())\n",
    "    q6 = pandasql.sqldf(f\"SELECT Count_m as ct FROM EDA_data where Ids={un_ids[i]} and controller = 'quizzes/quizzes'\", globals())\n",
    "    q7 = pandasql.sqldf(f\"SELECT Count_m as ct FROM EDA_data where Ids={un_ids[i]} and controller = 'submissions'\", globals())\n",
    "    l.append(\n",
    "        {\n",
    "            'Ids':un_ids[i],\n",
    "            'Announcements':q1['ct'][0],\n",
    "            'Assignments':q2['ct'][0],\n",
    "            'Courses':q3['ct'][0],\n",
    "            'Discussions':q4['ct'][0],\n",
    "            'Files':q5['ct'][0],\n",
    "            'Quizzes':q6['ct'][0],\n",
    "            'Submissions':q7['ct'][0]        \n",
    "        }\n",
    "    )"
   ]
  },
  {
   "cell_type": "code",
   "execution_count": null,
   "metadata": {},
   "outputs": [],
   "source": [
    "EDA_data = pd.DataFrame(l)\n",
    "EDA_data = EDA_data.sort_values('Ids')\n",
    "#EDA_data.head()"
   ]
  },
  {
   "cell_type": "code",
   "execution_count": null,
   "metadata": {},
   "outputs": [],
   "source": [
    "sum_list = list(EDA_data)\n",
    "sum_list.remove('Ids')\n",
    "EDA_data['Total_Views'] = EDA_data[sum_list].sum(axis=1)"
   ]
  },
  {
   "cell_type": "code",
   "execution_count": null,
   "metadata": {},
   "outputs": [],
   "source": [
    "EDA_data.head()"
   ]
  },
  {
   "cell_type": "code",
   "execution_count": null,
   "metadata": {},
   "outputs": [],
   "source": [
    "marks_1 = pd.read_json('C:/Users/vansh/Desktop/Book/Capstone2/SRL/Data/final_grade/106570final_grade.JSON')\n",
    "marks_1"
   ]
  },
  {
   "cell_type": "code",
   "execution_count": null,
   "metadata": {},
   "outputs": [],
   "source": [
    "marks_1 = marks_1[['user_id', 'grades']].copy()\n",
    "marks_1.dtypes"
   ]
  },
  {
   "cell_type": "code",
   "execution_count": null,
   "metadata": {},
   "outputs": [],
   "source": [
    "marks_1['grades'] = marks_1['grades'].astype('string')\n",
    "marks_1.dtypes"
   ]
  },
  {
   "cell_type": "code",
   "execution_count": null,
   "metadata": {},
   "outputs": [],
   "source": [
    "marks_1 = marks_1.drop_duplicates()"
   ]
  },
  {
   "cell_type": "code",
   "execution_count": null,
   "metadata": {},
   "outputs": [],
   "source": [
    "marks_1 = marks_1.reset_index(drop=True)\n",
    "marks_1.head()"
   ]
  },
  {
   "cell_type": "code",
   "execution_count": null,
   "metadata": {},
   "outputs": [],
   "source": [
    "grades.dtypes"
   ]
  },
  {
   "cell_type": "code",
   "execution_count": null,
   "metadata": {},
   "outputs": [],
   "source": [
    "g = []\n",
    "for i in range(len(marks_1[\"grades\"])):\n",
    "    m = re.search(\"'current_grade': '(.+?)', 'current_score':\",marks_1['grades'][i].astype('string'))\n",
    "    if m:\n",
    "        lost = m.group(1)\n",
    "    g.append(lost)\n",
    "#print(date)\n",
    "marks_1['Grade']=g"
   ]
  },
  {
   "cell_type": "code",
   "execution_count": null,
   "metadata": {},
   "outputs": [],
   "source": [
    "marks = []\n",
    "for i in range(len(grades[\"grades\"])):\n",
    "    m = re.search(\", 'current_score': (.+?), 'final_grade':\",grades[\"grades\"][i])\n",
    "    if m:\n",
    "        lost = m.group(1)\n",
    "    marks.append(lost)\n",
    "#print(date)\n",
    "grades['Marks']=marks"
   ]
  },
  {
   "cell_type": "code",
   "execution_count": null,
   "metadata": {},
   "outputs": [],
   "source": [
    "grades = pd.read_csv('C:/Users/vansh/New Grades.csv')\n",
    "grades"
   ]
  },
  {
   "cell_type": "code",
   "execution_count": null,
   "metadata": {},
   "outputs": [],
   "source": [
    "grades = grades.drop(['Unnamed: 0','grades'],axis=1)\n",
    "grades"
   ]
  },
  {
   "cell_type": "code",
   "execution_count": null,
   "metadata": {},
   "outputs": [],
   "source": [
    "grades = grades.rename({'user_id': 'Ids'}, axis=1)"
   ]
  },
  {
   "cell_type": "code",
   "execution_count": null,
   "metadata": {},
   "outputs": [],
   "source": [
    "#grades"
   ]
  },
  {
   "cell_type": "code",
   "execution_count": null,
   "metadata": {},
   "outputs": [],
   "source": [
    "#Change data type of Ids column\n",
    "EDA_data['Ids'] =EDA_data['Ids'].astype(np.int64)"
   ]
  },
  {
   "cell_type": "code",
   "execution_count": null,
   "metadata": {},
   "outputs": [],
   "source": [
    "EDA_data_final_1 = EDA_data.merge(grades, on='Ids', how='left')\n",
    "EDA_data_final_1 = EDA_data_final_1.drop_duplicates()\n",
    "EDA_data_final_1 = EDA_data_final_1.dropna().reset_index(drop=True)\n"
   ]
  },
  {
   "cell_type": "code",
   "execution_count": null,
   "metadata": {},
   "outputs": [],
   "source": [
    "EDA_data_final_1.head()"
   ]
  },
  {
   "cell_type": "code",
   "execution_count": null,
   "metadata": {},
   "outputs": [],
   "source": [
    "EDA_data_final = EDA_data_final_1[['Announcements', 'Assignments', 'Discussions', 'Files','Quizzes','Submissions','Grade']].copy()"
   ]
  },
  {
   "cell_type": "code",
   "execution_count": null,
   "metadata": {},
   "outputs": [],
   "source": [
    "EDA_data_final"
   ]
  },
  {
   "cell_type": "code",
   "execution_count": null,
   "metadata": {},
   "outputs": [],
   "source": [
    "import seaborn as sns\n",
    "sns.set()"
   ]
  },
  {
   "cell_type": "code",
   "execution_count": null,
   "metadata": {},
   "outputs": [],
   "source": [
    "EDA_data_final.hist(figsize=(15,12),bins = 15)\n",
    "#plt.title(\"Features Distribution\")\n",
    "plt.show()"
   ]
  },
  {
   "cell_type": "code",
   "execution_count": null,
   "metadata": {},
   "outputs": [],
   "source": [
    "sns.countplot(y=EDA_data_final.Grade, data=EDA_data_final)\n",
    "plt.xlabel(\"Count of each Target class\")\n",
    "plt.ylabel(\"Target classes\")\n",
    "plt.show()"
   ]
  },
  {
   "cell_type": "code",
   "execution_count": null,
   "metadata": {},
   "outputs": [],
   "source": [
    "fig,ax = plt.subplots(nrows = 3, ncols=2, figsize=(16,10))\n",
    "row = 0\n",
    "col = 0\n",
    "for i in range(len(EDA_data_final.columns) -1):\n",
    "    if col > 1:\n",
    "        row += 1\n",
    "        col = 0\n",
    "    axes = ax[row,col]\n",
    "    sns.boxplot(x = EDA_data_final['Grade'], y = EDA_data_final[EDA_data_final.columns[i]],ax = axes)\n",
    "    col += 1\n",
    "plt.tight_layout()\n",
    "# plt.title(\"Individual Features by Class\")\n",
    "plt.show()"
   ]
  },
  {
   "cell_type": "code",
   "execution_count": null,
   "metadata": {},
   "outputs": [],
   "source": [
    "p=sns.pairplot(EDA_data_final, hue = 'Grade')"
   ]
  },
  {
   "cell_type": "code",
   "execution_count": null,
   "metadata": {},
   "outputs": [],
   "source": [
    "plt.figure(figsize=(15,15))\n",
    "p=sns.heatmap(EDA_data_final.corr(), annot=True,cmap='RdYlGn')"
   ]
  },
  {
   "cell_type": "code",
   "execution_count": null,
   "metadata": {},
   "outputs": [],
   "source": [
    "#EDA_data_final_sort = EDA_data_final.sort_values('Marks')\n",
    "#EDA_data_final_sort.head()"
   ]
  },
  {
   "cell_type": "code",
   "execution_count": null,
   "metadata": {},
   "outputs": [],
   "source": [
    "#Set inputs and run query\n",
    "\n",
    "id = 17126\n",
    "cont = 'assignments'\n",
    "\n",
    "query_1 = pandasql.sqldf(f\"SELECT * FROM first_half_570 where Ids={id} and controller = '{cont}'\", globals())\n",
    "query_2 = pandasql.sqldf(f\"SELECT * FROM second_half_570 where Ids={id} and controller = '{cont}'\", globals())\n",
    "query_3 = pandasql.sqldf(f\"SELECT * FROM full_data where Ids={id} and controller = '{cont}'\", globals())\n",
    "query_3"
   ]
  },
  {
   "cell_type": "code",
   "execution_count": null,
   "metadata": {},
   "outputs": [],
   "source": [
    "plt.rcParams[\"figure.figsize\"] = (10,5.5)\n",
    "\n",
    "plt.subplot(1, 2, 1) # row 1, col 2 index 1\n",
    "plt.plot(query_1['Week'], query_1['Visit_Count'], color='green')\n",
    "plt.title(\"First Half\")\n",
    "plt.xlabel('Week')\n",
    "plt.ylabel('Count')\n",
    "\n",
    "plt.subplot(1, 2, 2) # row 1, col 2 index 1\n",
    "plt.plot(query_2['Week'], query_2['Visit_Count'], color='green')\n",
    "plt.title(\"Second Half\")\n",
    "plt.xlabel('Week')\n",
    "plt.ylabel('Count')\n",
    "\n",
    "plt.show()"
   ]
  },
  {
   "cell_type": "code",
   "execution_count": null,
   "metadata": {},
   "outputs": [],
   "source": [
    "plt.rcParams[\"figure.figsize\"] = (10,5.5)\n",
    "\n",
    "plt.subplot(1, 2, 1) # row 1, col 2 index 1\n",
    "plt.bar(query_1['Week'], query_1['Visit_Count'], color='blue')\n",
    "plt.title(\"First Half\")\n",
    "plt.xlabel('Week')\n",
    "plt.ylabel('Count')\n",
    "\n",
    "plt.subplot(1, 2, 2) # row 1, col 2 index 1\n",
    "plt.bar(query_2['Week'], query_2['Visit_Count'], color='blue')\n",
    "plt.title(\"Second Half\")\n",
    "plt.xlabel('Week')\n",
    "plt.ylabel('Count')\n",
    "\n",
    "plt.show()"
   ]
  },
  {
   "cell_type": "code",
   "execution_count": null,
   "metadata": {},
   "outputs": [],
   "source": [
    "fig,ax = plt.subplots(nrows = 2, ncols=2, figsize=(16,10))\n",
    "for i in range(len(EDA_data_final.columns) -1):\n",
    "    if col > 1:\n",
    "        row += 1\n",
    "        col = 0\n",
    "    axes = ax[row,col]\n",
    "    sns.boxplot(x = EDA_data_final['Grade'], y = EDA_data_final[EDA_data_final.columns[i]],ax = axes)\n",
    "    col += 1\n",
    "plt.tight_layout()\n",
    "# plt.title(\"Individual Features by Class\")\n",
    "plt.show()\n"
   ]
  },
  {
   "cell_type": "code",
   "execution_count": null,
   "metadata": {},
   "outputs": [],
   "source": [
    "plt.rcParams[\"figure.figsize\"] = [7.50, 3.50]\n",
    "plt.rcParams[\"figure.autolayout\"] = True\n",
    "\n",
    "query.plot(x=\"Week\", y=\"Visit_Count\", kind=\"bar\", color='blue') \n",
    "query.plot(x=\"Week\", y=\"Visit_Count\", kind=\"line\", color='Green')"
   ]
  },
  {
   "cell_type": "code",
   "execution_count": null,
   "metadata": {},
   "outputs": [],
   "source": []
  },
  {
   "cell_type": "code",
   "execution_count": null,
   "metadata": {},
   "outputs": [],
   "source": [
    "#convert to time series:\n",
    "ts = full_data['Visit_Count']\n",
    "#ts.head(10)"
   ]
  },
  {
   "cell_type": "code",
   "execution_count": null,
   "metadata": {},
   "outputs": [],
   "source": [
    "plt.plot(ts)"
   ]
  },
  {
   "cell_type": "code",
   "execution_count": null,
   "metadata": {},
   "outputs": [],
   "source": [
    "ts_1 = pandasql.sqldf(\"select Week, Visit_count from full_data where controller = 'discussion_topics'\", globals())\n"
   ]
  },
  {
   "cell_type": "code",
   "execution_count": null,
   "metadata": {},
   "outputs": [],
   "source": [
    "x = ts_1['Week'].values\n",
    "y1 = ts_1['Visit_Count'].values\n",
    "\n",
    "# Plot\n",
    "fig, ax = plt.subplots(1, 1, figsize=(16,5), dpi= 120)\n",
    "plt.fill_between(x, y1=y1, y2=-y1, alpha=0.5, linewidth=2, color='seagreen')\n",
    "plt.ylim(-800, 800)\n",
    "plt.title('Visit Counts (Two Side View)', fontsize=16)\n",
    "plt.hlines(y=0, xmin=np.min(ts_1['Week']), xmax=np.max(ts_1['Week']), linewidth=.5)\n",
    "plt.show()"
   ]
  },
  {
   "cell_type": "code",
   "execution_count": null,
   "metadata": {},
   "outputs": [],
   "source": [
    "query_1.head()"
   ]
  },
  {
   "cell_type": "code",
   "execution_count": null,
   "metadata": {},
   "outputs": [],
   "source": [
    "plt.rcParams[\"figure.figsize\"] = (15,5.5)\n",
    "\n",
    "plt.subplot(1, 2, 1)\n",
    "plt.style.use('seaborn')\n",
    "plt.bar(x = query_1['Week'], height = query_1['Visit_Count'])#, width = 0.4)\n",
    "plt.xticks(query_1['Week'], ('Week 1','Week 2','Week 3','Week 4','Week 5','Week 6'))\n",
    "\n",
    "plt.plot(query_1['Week'], query_1['Visit_Count'], color = 'red')\n",
    "plt.scatter(query_1['Week'],query_1['Visit_Count'])\n",
    "plt.ylim([0, 50])\n",
    "\n",
    "\n",
    "plt.subplot(1, 2, 2)\n",
    "plt.style.use('seaborn')\n",
    "plt.bar(x = query_2['Week'], height = query_2['Visit_Count'])#, width = 0.4)\n",
    "plt.xticks(query_2['Week'], ('Week 7','Week 8','Week 9','Week 10','Week 11','Week 12'))\n",
    "\n",
    "plt.plot(query_2['Week'], query_2['Visit_Count'], color = 'red')\n",
    "plt.scatter(query_2['Week'],query_2['Visit_Count'])\n",
    "plt.ylim([0, 50])"
   ]
  },
  {
   "cell_type": "code",
   "execution_count": null,
   "metadata": {},
   "outputs": [],
   "source": [
    "second_half_570.to_csv(\"sfdata.csv\")"
   ]
  },
  {
   "cell_type": "code",
   "execution_count": null,
   "metadata": {},
   "outputs": [],
   "source": []
  }
 ],
 "metadata": {
  "kernelspec": {
   "display_name": "Python 3",
   "language": "python",
   "name": "python3"
  },
  "language_info": {
   "codemirror_mode": {
    "name": "ipython",
    "version": 3
   },
   "file_extension": ".py",
   "mimetype": "text/x-python",
   "name": "python",
   "nbconvert_exporter": "python",
   "pygments_lexer": "ipython3",
   "version": "3.8.5"
  }
 },
 "nbformat": 4,
 "nbformat_minor": 4
}
