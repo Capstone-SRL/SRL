{
 "cells": [
  {
   "cell_type": "markdown",
   "source": [
    "# Clustering Analysis"
   ],
   "metadata": {
    "collapsed": false
   }
  },
  {
   "cell_type": "code",
   "execution_count": 1,
   "outputs": [],
   "source": [
    "# import packages\n",
    "import numpy as np\n",
    "import pandas as pd\n",
    "from sklearn import cluster\n",
    "from matplotlib import pyplot as plt\n",
    "from sklearn import mixture\n",
    "from pandas.plotting import radviz\n",
    "from sklearn.decomposition import PCA\n",
    "import plotly.express as px"
   ],
   "metadata": {
    "collapsed": false,
    "pycharm": {
     "name": "#%%\n"
    }
   }
  },
  {
   "cell_type": "code",
   "execution_count": 2,
   "outputs": [],
   "source": [
    "# import data\n",
    "# csv file\n",
    "df = pd.read_excel('data/res3.0.xlsx')\n",
    "# json file\n",
    "#df = pd.read_json()"
   ],
   "metadata": {
    "collapsed": false,
    "pycharm": {
     "name": "#%%\n"
    }
   }
  },
  {
   "cell_type": "code",
   "execution_count": 4,
   "outputs": [],
   "source": [
    "MF_scores = df[['c1','c2', 'c3_grade', 'c4_grade', 'c5grade', 'c7_grade']]"
   ],
   "metadata": {
    "collapsed": false,
    "pycharm": {
     "name": "#%%\n"
    }
   }
  },
  {
   "cell_type": "code",
   "execution_count": 5,
   "outputs": [
    {
     "name": "stderr",
     "output_type": "stream",
     "text": [
      "C:\\Users\\Simin Zuo\\AppData\\Local\\Temp\\ipykernel_25060\\951541075.py:1: SettingWithCopyWarning: \n",
      "A value is trying to be set on a copy of a slice from a DataFrame\n",
      "\n",
      "See the caveats in the documentation: https://pandas.pydata.org/pandas-docs/stable/user_guide/indexing.html#returning-a-view-versus-a-copy\n",
      "  MF_scores.rename(columns={'c1':'Itme1', 'c2':'Item2', 'c3_grade':'Itme3', 'c4_grade':'Itme4', 'c5grade':'Item5', 'c7_grade':'Item7'}, inplace=True)\n"
     ]
    }
   ],
   "source": [
    "MF_scores.rename(columns={'c1':'Itme1', 'c2':'Item2', 'c3_grade':'Itme3', 'c4_grade':'Itme4', 'c5grade':'Item5', 'c7_grade':'Item7'}, inplace=True)"
   ],
   "metadata": {
    "collapsed": false,
    "pycharm": {
     "name": "#%%\n"
    }
   }
  },
  {
   "cell_type": "code",
   "execution_count": 3,
   "outputs": [
    {
     "name": "stdout",
     "output_type": "stream",
     "text": [
      "(90, 7)\n"
     ]
    },
    {
     "data": {
      "text/plain": "   c1  c2  c3_grade  c4_grade  c5grade  c7_grade  dummy_grade_level\n0   0   3         0         0        0         0                  2\n1   0   3         0         0        0         0                  3\n2   0   2         0         0        0         0                  4\n3   0   3         0         0        0         0                  1\n4   1   3         0         0        0         1                  3",
      "text/html": "<div>\n<style scoped>\n    .dataframe tbody tr th:only-of-type {\n        vertical-align: middle;\n    }\n\n    .dataframe tbody tr th {\n        vertical-align: top;\n    }\n\n    .dataframe thead th {\n        text-align: right;\n    }\n</style>\n<table border=\"1\" class=\"dataframe\">\n  <thead>\n    <tr style=\"text-align: right;\">\n      <th></th>\n      <th>c1</th>\n      <th>c2</th>\n      <th>c3_grade</th>\n      <th>c4_grade</th>\n      <th>c5grade</th>\n      <th>c7_grade</th>\n      <th>dummy_grade_level</th>\n    </tr>\n  </thead>\n  <tbody>\n    <tr>\n      <th>0</th>\n      <td>0</td>\n      <td>3</td>\n      <td>0</td>\n      <td>0</td>\n      <td>0</td>\n      <td>0</td>\n      <td>2</td>\n    </tr>\n    <tr>\n      <th>1</th>\n      <td>0</td>\n      <td>3</td>\n      <td>0</td>\n      <td>0</td>\n      <td>0</td>\n      <td>0</td>\n      <td>3</td>\n    </tr>\n    <tr>\n      <th>2</th>\n      <td>0</td>\n      <td>2</td>\n      <td>0</td>\n      <td>0</td>\n      <td>0</td>\n      <td>0</td>\n      <td>4</td>\n    </tr>\n    <tr>\n      <th>3</th>\n      <td>0</td>\n      <td>3</td>\n      <td>0</td>\n      <td>0</td>\n      <td>0</td>\n      <td>0</td>\n      <td>1</td>\n    </tr>\n    <tr>\n      <th>4</th>\n      <td>1</td>\n      <td>3</td>\n      <td>0</td>\n      <td>0</td>\n      <td>0</td>\n      <td>1</td>\n      <td>3</td>\n    </tr>\n  </tbody>\n</table>\n</div>"
     },
     "execution_count": 3,
     "metadata": {},
     "output_type": "execute_result"
    }
   ],
   "source": [
    "full_data = df[['c1','c2', 'c3_grade', 'c4_grade', 'c5grade', 'c7_grade', 'final_grade_level']].copy()\n",
    "full_data.replace (to_replace=r'^\\s*$',value=np.nan,regex=True,inplace=True)\n",
    "full_data = full_data.dropna()\n",
    "dummy_grade_level = []\n",
    "for i in full_data.final_grade_level:\n",
    "    if i == 'H1':\n",
    "        l = 1\n",
    "    elif i == 'H2A':\n",
    "        l = 2\n",
    "    elif i == 'H2B':\n",
    "        l = 3\n",
    "    elif i == 'H3':\n",
    "        l = 4\n",
    "    else:\n",
    "        l = 5\n",
    "    dummy_grade_level.append(l)\n",
    "full_data['dummy_grade_level'] = dummy_grade_level\n",
    "full_data.pop('final_grade_level')\n",
    "print(full_data.shape)\n",
    "full_data.head()"
   ],
   "metadata": {
    "collapsed": false,
    "pycharm": {
     "name": "#%%\n"
    }
   }
  },
  {
   "cell_type": "code",
   "execution_count": 32,
   "outputs": [
    {
     "data": {
      "text/plain": "Index(['c1', 'c2', 'c3_grade', 'c4_grade', 'c5grade', 'c7_grade',\n       'dummy_grade_level'],\n      dtype='object')"
     },
     "execution_count": 32,
     "metadata": {},
     "output_type": "execute_result"
    }
   ],
   "source": [
    "full_data.columns"
   ],
   "metadata": {
    "collapsed": false,
    "pycharm": {
     "name": "#%%\n"
    }
   }
  },
  {
   "cell_type": "code",
   "execution_count": 29,
   "outputs": [],
   "source": [
    "def display(function):\n",
    "    model = function\n",
    "    print(model.labels_)\n",
    "    n_clusters_ = len(set(model.labels_)) - (1 if -1 in model.labels_ else 0)\n",
    "    n_noise_ = list(model.labels_).count(-1)\n",
    "    print(\"Estimated number of clusters: %d\" % n_clusters_)\n",
    "    print(\"Estimated number of noise points: %d\" % n_noise_)\n",
    "    return"
   ],
   "metadata": {
    "collapsed": false,
    "pycharm": {
     "name": "#%%\n"
    }
   }
  },
  {
   "cell_type": "code",
   "execution_count": 30,
   "outputs": [],
   "source": [
    "def classify(data, labels, file):\n",
    "    dic = {}\n",
    "    for i in range(len(labels)):\n",
    "        if labels[i] in dic:\n",
    "            dic[labels[i]].append(data.iloc[i,:])\n",
    "        else:\n",
    "            dic[labels[i]] = [data.iloc[i,:]]\n",
    "    for key,val in dic.items():\n",
    "        dic[key] = pd.DataFrame(val)\n",
    "        print(f'Cluster {key}:')\n",
    "        print(dic[key].describe())\n",
    "        dic[key].describe().to_csv(f'Clustering/{file}/Cluster {key}.csv')\n",
    "    return"
   ],
   "metadata": {
    "collapsed": false,
    "pycharm": {
     "name": "#%%\n"
    }
   }
  },
  {
   "cell_type": "code",
   "execution_count": 42,
   "outputs": [],
   "source": [
    "def pca(data,labels, dimension=4):\n",
    "    # data preparation\n",
    "    y = pd.DataFrame([str(i) for i in labels])\n",
    "    x = data\n",
    "    # PCA\n",
    "    pca = PCA()\n",
    "    components = pca.fit_transform(x)\n",
    "    label = {\n",
    "        str(i): f\"PC {i+1} ({var:.1f}%)\"\n",
    "        for i, var in enumerate(pca.explained_variance_ratio_ * 100)\n",
    "    }\n",
    "    fig = px.scatter_matrix(\n",
    "        components,\n",
    "        labels=label,\n",
    "        dimensions=range(dimension),\n",
    "        color=y\n",
    "    )\n",
    "    fig.update_traces(diagonal_visible=False)\n",
    "    fig.show()\n",
    "    return"
   ],
   "metadata": {
    "collapsed": false,
    "pycharm": {
     "name": "#%%\n"
    }
   }
  },
  {
   "cell_type": "markdown",
   "source": [
    "Calculate inner group sum of square"
   ],
   "metadata": {
    "collapsed": false
   }
  },
  {
   "cell_type": "code",
   "execution_count": 81,
   "outputs": [],
   "source": [
    "def within_group_square(full_data,clustering):\n",
    "    data = full_data.copy()\n",
    "    data['cluster'] = clustering\n",
    "    clusters = list(set(clustering))\n",
    "    classifer = {}\n",
    "    for c in clusters:\n",
    "        classifer[c] = []\n",
    "        for i in range(data.shape[0]):\n",
    "            if data.iloc[i,6] == c:\n",
    "                classifer[c].append(data.iloc[i,:].tolist())\n",
    "    sumVar = {}\n",
    "    for key,item in classifer.items():\n",
    "        item = np.array(item)\n",
    "        if len(item) > 0:\n",
    "            var = 0\n",
    "            for j in range(item.shape[1]):\n",
    "                var += np.var(item[:,j])\n",
    "            sumVar[key] = var\n",
    "        else:\n",
    "            sumVar[key] = 0\n",
    "    totalVar = 0\n",
    "    for val in sumVar.values():\n",
    "        totalVar += val\n",
    "    return totalVar/len(sumVar.keys())"
   ],
   "metadata": {
    "collapsed": false,
    "pycharm": {
     "name": "#%%\n"
    }
   }
  },
  {
   "cell_type": "markdown",
   "source": [
    "# Cluster methods"
   ],
   "metadata": {
    "collapsed": false
   }
  },
  {
   "cell_type": "code",
   "execution_count": 19,
   "outputs": [],
   "source": [
    "### Affinity Propagation\n",
    "#Do not need to determine number of clusters\n",
    "def affi_prop(X, damping=0.9):\n",
    "    # define model\n",
    "    model = cluster.AffinityPropagation(damping=damping,random_state=5)\n",
    "    # fit model\n",
    "    model.fit(X)\n",
    "    # predict\n",
    "    yhat = model.predict(X)\n",
    "    return model\n",
    "\n",
    "\n",
    "### DBSCAN\n",
    "#DBSCAN relies on cluster design based on the concept of density to discover clusters of arbitrary shape\n",
    "def DBSCAN(X, eps=0.30, min_samples=9):\n",
    "    # define model\n",
    "    model = cluster.DBSCAN(eps=eps, min_samples=min_samples).fit(X)\n",
    "    #clusters = unique(yhat)\n",
    "    return model\n",
    "\n",
    "\n",
    "### Mean Shift\n",
    "def meanShift(X, bandwidth=2):\n",
    "    # define model\n",
    "    model = cluster.MeanShift(bandwidth=bandwidth).fit(X)\n",
    "    return model\n",
    "\n",
    "\n",
    "### Mini Batch K Means\n",
    "#It’s a modified version of k-means and suitable for small sample size datasets\n",
    "def miniBatch(X, n_clusters=3):\n",
    "    # define model\n",
    "    model = cluster.MiniBatchKMeans(n_clusters=n_clusters).fit(X)\n",
    "    return model\n",
    "\n",
    "\n",
    "### BIRCH\n",
    "#It is used for uneven cluster sizes\n",
    "def birch(X, threshold=0.01, n_clusters=2):\n",
    "    # define model\n",
    "    model = cluster.Birch(threshold=threshold, n_clusters=n_clusters).fit(X)\n",
    "    return model"
   ],
   "metadata": {
    "collapsed": false,
    "pycharm": {
     "name": "#%%\n"
    }
   }
  },
  {
   "cell_type": "markdown",
   "source": [
    "# other methods"
   ],
   "metadata": {
    "collapsed": false
   }
  },
  {
   "cell_type": "code",
   "execution_count": 18,
   "outputs": [],
   "source": [
    "### Spectral\n",
    "#medium number of clusters\n",
    "#Suitable for clusters of different sizes\n",
    "def Spectral(X, n_clusters=2):\n",
    "    # define model\n",
    "    model = cluster.SpectralClustering(n_clusters=n_clusters).fit(X)\n",
    "    return model\n",
    "\n",
    "\n",
    "### Gaussian Mixture\n",
    "def GaussianMixture(X, n_clusters=2):\n",
    "    # define model\n",
    "    model = mixture.GaussianMixture(n_components=n_clusters).fit(X)\n",
    "    return model"
   ],
   "metadata": {
    "collapsed": false,
    "pycharm": {
     "name": "#%%\n"
    }
   }
  },
  {
   "cell_type": "markdown",
   "source": [
    "# Training and tuning"
   ],
   "metadata": {
    "collapsed": false
   }
  },
  {
   "cell_type": "code",
   "execution_count": 34,
   "outputs": [],
   "source": [
    "#### Affinity Propagation\n",
    "def aff(data):\n",
    "    num_clu = []\n",
    "    num_noise = []\n",
    "    d = np.arange(0.5,0.68,0.01)\n",
    "    for i in d:\n",
    "        model = affi_prop(data, damping=i)\n",
    "        n_clusters_ = len(set(model.labels_)) - (1 if -1 in model.labels_ else 0)\n",
    "        num_clu.append(n_clusters_)\n",
    "        n_noise_ = list(model.labels_).count(-1)\n",
    "        num_noise.append(n_noise_)\n",
    "\n",
    "    fig, ax = plt.subplots()\n",
    "    ax.scatter(d, num_clu, linewidth=2.0)\n",
    "    ax.set(xlim=(0.6, 0.7))\n",
    "    plt.show()\n",
    "\n",
    "    fig, ax = plt.subplots()\n",
    "    ax.plot(d, num_noise, linewidth=2.0)\n",
    "    ax.set(xlim=(0.6, 0.7))\n",
    "    plt.show()\n",
    "    return"
   ],
   "metadata": {
    "collapsed": false,
    "pycharm": {
     "name": "#%%\n"
    }
   }
  },
  {
   "cell_type": "code",
   "execution_count": null,
   "outputs": [],
   "source": [
    "aff(MF_scores)"
   ],
   "metadata": {
    "collapsed": false,
    "pycharm": {
     "name": "#%%\n"
    }
   }
  },
  {
   "cell_type": "code",
   "execution_count": 35,
   "outputs": [
    {
     "name": "stderr",
     "output_type": "stream",
     "text": [
      "D:\\anaconda3\\lib\\site-packages\\sklearn\\cluster\\_affinity_propagation.py:246: ConvergenceWarning: Affinity propagation did not converge, this model will not have any cluster centers.\n",
      "  warnings.warn(\"Affinity propagation did not converge, this model \"\n",
      "D:\\anaconda3\\lib\\site-packages\\sklearn\\cluster\\_affinity_propagation.py:460: ConvergenceWarning: This model does not have any cluster centers because affinity propagation did not converge. Labeling every sample as '-1'.\n",
      "  warnings.warn(\"This model does not have any cluster centers \"\n",
      "D:\\anaconda3\\lib\\site-packages\\sklearn\\cluster\\_affinity_propagation.py:246: ConvergenceWarning: Affinity propagation did not converge, this model will not have any cluster centers.\n",
      "  warnings.warn(\"Affinity propagation did not converge, this model \"\n",
      "D:\\anaconda3\\lib\\site-packages\\sklearn\\cluster\\_affinity_propagation.py:460: ConvergenceWarning: This model does not have any cluster centers because affinity propagation did not converge. Labeling every sample as '-1'.\n",
      "  warnings.warn(\"This model does not have any cluster centers \"\n",
      "D:\\anaconda3\\lib\\site-packages\\sklearn\\cluster\\_affinity_propagation.py:246: ConvergenceWarning: Affinity propagation did not converge, this model will not have any cluster centers.\n",
      "  warnings.warn(\"Affinity propagation did not converge, this model \"\n",
      "D:\\anaconda3\\lib\\site-packages\\sklearn\\cluster\\_affinity_propagation.py:460: ConvergenceWarning: This model does not have any cluster centers because affinity propagation did not converge. Labeling every sample as '-1'.\n",
      "  warnings.warn(\"This model does not have any cluster centers \"\n",
      "D:\\anaconda3\\lib\\site-packages\\sklearn\\cluster\\_affinity_propagation.py:246: ConvergenceWarning: Affinity propagation did not converge, this model will not have any cluster centers.\n",
      "  warnings.warn(\"Affinity propagation did not converge, this model \"\n",
      "D:\\anaconda3\\lib\\site-packages\\sklearn\\cluster\\_affinity_propagation.py:460: ConvergenceWarning: This model does not have any cluster centers because affinity propagation did not converge. Labeling every sample as '-1'.\n",
      "  warnings.warn(\"This model does not have any cluster centers \"\n",
      "D:\\anaconda3\\lib\\site-packages\\sklearn\\cluster\\_affinity_propagation.py:246: ConvergenceWarning: Affinity propagation did not converge, this model will not have any cluster centers.\n",
      "  warnings.warn(\"Affinity propagation did not converge, this model \"\n",
      "D:\\anaconda3\\lib\\site-packages\\sklearn\\cluster\\_affinity_propagation.py:460: ConvergenceWarning: This model does not have any cluster centers because affinity propagation did not converge. Labeling every sample as '-1'.\n",
      "  warnings.warn(\"This model does not have any cluster centers \"\n",
      "D:\\anaconda3\\lib\\site-packages\\sklearn\\cluster\\_affinity_propagation.py:246: ConvergenceWarning: Affinity propagation did not converge, this model will not have any cluster centers.\n",
      "  warnings.warn(\"Affinity propagation did not converge, this model \"\n",
      "D:\\anaconda3\\lib\\site-packages\\sklearn\\cluster\\_affinity_propagation.py:460: ConvergenceWarning: This model does not have any cluster centers because affinity propagation did not converge. Labeling every sample as '-1'.\n",
      "  warnings.warn(\"This model does not have any cluster centers \"\n",
      "D:\\anaconda3\\lib\\site-packages\\sklearn\\cluster\\_affinity_propagation.py:246: ConvergenceWarning: Affinity propagation did not converge, this model will not have any cluster centers.\n",
      "  warnings.warn(\"Affinity propagation did not converge, this model \"\n",
      "D:\\anaconda3\\lib\\site-packages\\sklearn\\cluster\\_affinity_propagation.py:460: ConvergenceWarning: This model does not have any cluster centers because affinity propagation did not converge. Labeling every sample as '-1'.\n",
      "  warnings.warn(\"This model does not have any cluster centers \"\n"
     ]
    },
    {
     "data": {
      "text/plain": "<Figure size 432x288 with 1 Axes>",
      "image/png": "[encoded data removed]"
     },
     "metadata": {
      "needs_background": "light"
     },
     "output_type": "display_data"
    },
    {
     "data": {
      "text/plain": "<Figure size 432x288 with 1 Axes>",
      "image/png": "[encoded data removed]"
     },
     "metadata": {
      "needs_background": "light"
     },
     "output_type": "display_data"
    }
   ],
   "source": [
    "aff(full_data)"
   ],
   "metadata": {
    "collapsed": false,
    "pycharm": {
     "name": "#%%\n"
    }
   }
  },
  {
   "cell_type": "code",
   "execution_count": 37,
   "outputs": [
    {
     "name": "stdout",
     "output_type": "stream",
     "text": [
      "Cluster 2:\n",
      "              c1         c2  c3_grade  c4_grade    c5grade   c7_grade  \\\n",
      "count  27.000000  27.000000      27.0      27.0  27.000000  27.000000   \n",
      "mean    0.111111   2.814815       0.0       0.0   0.185185   0.037037   \n",
      "std     0.320256   0.483341       0.0       0.0   0.483341   0.192450   \n",
      "min     0.000000   1.000000       0.0       0.0   0.000000   0.000000   \n",
      "25%     0.000000   3.000000       0.0       0.0   0.000000   0.000000   \n",
      "50%     0.000000   3.000000       0.0       0.0   0.000000   0.000000   \n",
      "75%     0.000000   3.000000       0.0       0.0   0.000000   0.000000   \n",
      "max     1.000000   3.000000       0.0       0.0   2.000000   1.000000   \n",
      "\n",
      "       dummy_grade_level  \n",
      "count          27.000000  \n",
      "mean            1.148148  \n",
      "std             0.362014  \n",
      "min             1.000000  \n",
      "25%             1.000000  \n",
      "50%             1.000000  \n",
      "75%             1.000000  \n",
      "max             2.000000  \n",
      "Cluster 0:\n",
      "              c1         c2  c3_grade  c4_grade  c5grade  c7_grade  \\\n",
      "count  16.000000  16.000000      16.0      16.0  16.0000   16.0000   \n",
      "mean    0.125000   2.250000       0.0       0.0   0.0625    0.0625   \n",
      "std     0.341565   0.930949       0.0       0.0   0.2500    0.2500   \n",
      "min     0.000000   0.000000       0.0       0.0   0.0000    0.0000   \n",
      "25%     0.000000   2.000000       0.0       0.0   0.0000    0.0000   \n",
      "50%     0.000000   2.500000       0.0       0.0   0.0000    0.0000   \n",
      "75%     0.000000   3.000000       0.0       0.0   0.0000    0.0000   \n",
      "max     1.000000   3.000000       0.0       0.0   1.0000    1.0000   \n",
      "\n",
      "       dummy_grade_level  \n",
      "count          16.000000  \n",
      "mean            3.562500  \n",
      "std             0.629153  \n",
      "min             3.000000  \n",
      "25%             3.000000  \n",
      "50%             3.500000  \n",
      "75%             4.000000  \n",
      "max             5.000000  \n",
      "Cluster 1:\n",
      "             c1   c2  c3_grade  c4_grade  c5grade  c7_grade  dummy_grade_level\n",
      "count  3.000000  3.0       3.0       3.0      3.0       3.0           3.000000\n",
      "mean   2.333333  3.0       0.0       0.0      2.0       1.0           1.333333\n",
      "std    1.154701  0.0       0.0       0.0      0.0       1.0           0.577350\n",
      "min    1.000000  3.0       0.0       0.0      2.0       0.0           1.000000\n",
      "25%    2.000000  3.0       0.0       0.0      2.0       0.5           1.000000\n",
      "50%    3.000000  3.0       0.0       0.0      2.0       1.0           1.000000\n",
      "75%    3.000000  3.0       0.0       0.0      2.0       1.5           1.500000\n",
      "max    3.000000  3.0       0.0       0.0      2.0       2.0           2.000000\n",
      "Cluster 5:\n",
      "              c1         c2  c3_grade   c4_grade    c5grade   c7_grade  \\\n",
      "count  24.000000  24.000000      24.0  24.000000  24.000000  24.000000   \n",
      "mean    2.875000   2.708333       0.0   0.791667   1.541667   0.125000   \n",
      "std     0.337832   0.464306       0.0   0.414851   0.508977   0.337832   \n",
      "min     2.000000   2.000000       0.0   0.000000   1.000000   0.000000   \n",
      "25%     3.000000   2.000000       0.0   1.000000   1.000000   0.000000   \n",
      "50%     3.000000   3.000000       0.0   1.000000   2.000000   0.000000   \n",
      "75%     3.000000   3.000000       0.0   1.000000   2.000000   0.000000   \n",
      "max     3.000000   3.000000       0.0   1.000000   2.000000   1.000000   \n",
      "\n",
      "       dummy_grade_level  \n",
      "count               24.0  \n",
      "mean                 5.0  \n",
      "std                  0.0  \n",
      "min                  5.0  \n",
      "25%                  5.0  \n",
      "50%                  5.0  \n",
      "75%                  5.0  \n",
      "max                  5.0  \n",
      "Cluster 3:\n",
      "        c1   c2  c3_grade  c4_grade   c5grade  c7_grade  dummy_grade_level\n",
      "count  5.0  5.0       5.0       5.0  5.000000       5.0                5.0\n",
      "mean   3.0  2.0       0.0       1.0  1.600000       2.0                5.0\n",
      "std    0.0  0.0       0.0       0.0  0.547723       0.0                0.0\n",
      "min    3.0  2.0       0.0       1.0  1.000000       2.0                5.0\n",
      "25%    3.0  2.0       0.0       1.0  1.000000       2.0                5.0\n",
      "50%    3.0  2.0       0.0       1.0  2.000000       2.0                5.0\n",
      "75%    3.0  2.0       0.0       1.0  2.000000       2.0                5.0\n",
      "max    3.0  2.0       0.0       1.0  2.000000       2.0                5.0\n",
      "Cluster 4:\n",
      "         c1         c2  c3_grade  c4_grade    c5grade   c7_grade  \\\n",
      "count  15.0  15.000000      15.0      15.0  15.000000  15.000000   \n",
      "mean    3.0   2.666667       0.0       3.0   1.800000   0.266667   \n",
      "std     0.0   0.487950       0.0       0.0   0.414039   0.593617   \n",
      "min     3.0   2.000000       0.0       3.0   1.000000   0.000000   \n",
      "25%     3.0   2.000000       0.0       3.0   2.000000   0.000000   \n",
      "50%     3.0   3.000000       0.0       3.0   2.000000   0.000000   \n",
      "75%     3.0   3.000000       0.0       3.0   2.000000   0.000000   \n",
      "max     3.0   3.000000       0.0       3.0   2.000000   2.000000   \n",
      "\n",
      "       dummy_grade_level  \n",
      "count               15.0  \n",
      "mean                 5.0  \n",
      "std                  0.0  \n",
      "min                  5.0  \n",
      "25%                  5.0  \n",
      "50%                  5.0  \n",
      "75%                  5.0  \n",
      "max                  5.0  \n"
     ]
    }
   ],
   "source": [
    "classify(full_data, affi_prop(full_data, damping=0.65).labels_, 'affi_prop')"
   ],
   "metadata": {
    "collapsed": false,
    "pycharm": {
     "name": "#%%\n"
    }
   }
  },
  {
   "cell_type": "code",
   "execution_count": 102,
   "outputs": [
    {
     "name": "stderr",
     "output_type": "stream",
     "text": [
      "D:\\anaconda3\\lib\\site-packages\\sklearn\\cluster\\_affinity_propagation.py:246: ConvergenceWarning:\n",
      "\n",
      "Affinity propagation did not converge, this model will not have any cluster centers.\n",
      "\n",
      "D:\\anaconda3\\lib\\site-packages\\sklearn\\cluster\\_affinity_propagation.py:460: ConvergenceWarning:\n",
      "\n",
      "This model does not have any cluster centers because affinity propagation did not converge. Labeling every sample as '-1'.\n",
      "\n",
      "D:\\anaconda3\\lib\\site-packages\\sklearn\\cluster\\_affinity_propagation.py:246: ConvergenceWarning:\n",
      "\n",
      "Affinity propagation did not converge, this model will not have any cluster centers.\n",
      "\n",
      "D:\\anaconda3\\lib\\site-packages\\sklearn\\cluster\\_affinity_propagation.py:460: ConvergenceWarning:\n",
      "\n",
      "This model does not have any cluster centers because affinity propagation did not converge. Labeling every sample as '-1'.\n",
      "\n",
      "D:\\anaconda3\\lib\\site-packages\\sklearn\\cluster\\_affinity_propagation.py:246: ConvergenceWarning:\n",
      "\n",
      "Affinity propagation did not converge, this model will not have any cluster centers.\n",
      "\n",
      "D:\\anaconda3\\lib\\site-packages\\sklearn\\cluster\\_affinity_propagation.py:460: ConvergenceWarning:\n",
      "\n",
      "This model does not have any cluster centers because affinity propagation did not converge. Labeling every sample as '-1'.\n",
      "\n",
      "D:\\anaconda3\\lib\\site-packages\\sklearn\\cluster\\_affinity_propagation.py:246: ConvergenceWarning:\n",
      "\n",
      "Affinity propagation did not converge, this model will not have any cluster centers.\n",
      "\n",
      "D:\\anaconda3\\lib\\site-packages\\sklearn\\cluster\\_affinity_propagation.py:460: ConvergenceWarning:\n",
      "\n",
      "This model does not have any cluster centers because affinity propagation did not converge. Labeling every sample as '-1'.\n",
      "\n",
      "D:\\anaconda3\\lib\\site-packages\\sklearn\\cluster\\_affinity_propagation.py:246: ConvergenceWarning:\n",
      "\n",
      "Affinity propagation did not converge, this model will not have any cluster centers.\n",
      "\n",
      "D:\\anaconda3\\lib\\site-packages\\sklearn\\cluster\\_affinity_propagation.py:460: ConvergenceWarning:\n",
      "\n",
      "This model does not have any cluster centers because affinity propagation did not converge. Labeling every sample as '-1'.\n",
      "\n",
      "D:\\anaconda3\\lib\\site-packages\\sklearn\\cluster\\_affinity_propagation.py:246: ConvergenceWarning:\n",
      "\n",
      "Affinity propagation did not converge, this model will not have any cluster centers.\n",
      "\n",
      "D:\\anaconda3\\lib\\site-packages\\sklearn\\cluster\\_affinity_propagation.py:460: ConvergenceWarning:\n",
      "\n",
      "This model does not have any cluster centers because affinity propagation did not converge. Labeling every sample as '-1'.\n",
      "\n",
      "D:\\anaconda3\\lib\\site-packages\\sklearn\\cluster\\_affinity_propagation.py:246: ConvergenceWarning:\n",
      "\n",
      "Affinity propagation did not converge, this model will not have any cluster centers.\n",
      "\n",
      "D:\\anaconda3\\lib\\site-packages\\sklearn\\cluster\\_affinity_propagation.py:460: ConvergenceWarning:\n",
      "\n",
      "This model does not have any cluster centers because affinity propagation did not converge. Labeling every sample as '-1'.\n",
      "\n",
      "D:\\anaconda3\\lib\\site-packages\\sklearn\\cluster\\_affinity_propagation.py:246: ConvergenceWarning:\n",
      "\n",
      "Affinity propagation did not converge, this model will not have any cluster centers.\n",
      "\n",
      "D:\\anaconda3\\lib\\site-packages\\sklearn\\cluster\\_affinity_propagation.py:460: ConvergenceWarning:\n",
      "\n",
      "This model does not have any cluster centers because affinity propagation did not converge. Labeling every sample as '-1'.\n",
      "\n",
      "D:\\anaconda3\\lib\\site-packages\\sklearn\\cluster\\_affinity_propagation.py:246: ConvergenceWarning:\n",
      "\n",
      "Affinity propagation did not converge, this model will not have any cluster centers.\n",
      "\n",
      "D:\\anaconda3\\lib\\site-packages\\sklearn\\cluster\\_affinity_propagation.py:460: ConvergenceWarning:\n",
      "\n",
      "This model does not have any cluster centers because affinity propagation did not converge. Labeling every sample as '-1'.\n",
      "\n",
      "D:\\anaconda3\\lib\\site-packages\\sklearn\\cluster\\_affinity_propagation.py:246: ConvergenceWarning:\n",
      "\n",
      "Affinity propagation did not converge, this model will not have any cluster centers.\n",
      "\n",
      "D:\\anaconda3\\lib\\site-packages\\sklearn\\cluster\\_affinity_propagation.py:460: ConvergenceWarning:\n",
      "\n",
      "This model does not have any cluster centers because affinity propagation did not converge. Labeling every sample as '-1'.\n",
      "\n",
      "D:\\anaconda3\\lib\\site-packages\\sklearn\\cluster\\_affinity_propagation.py:246: ConvergenceWarning:\n",
      "\n",
      "Affinity propagation did not converge, this model will not have any cluster centers.\n",
      "\n",
      "D:\\anaconda3\\lib\\site-packages\\sklearn\\cluster\\_affinity_propagation.py:460: ConvergenceWarning:\n",
      "\n",
      "This model does not have any cluster centers because affinity propagation did not converge. Labeling every sample as '-1'.\n",
      "\n",
      "D:\\anaconda3\\lib\\site-packages\\sklearn\\cluster\\_affinity_propagation.py:246: ConvergenceWarning:\n",
      "\n",
      "Affinity propagation did not converge, this model will not have any cluster centers.\n",
      "\n",
      "D:\\anaconda3\\lib\\site-packages\\sklearn\\cluster\\_affinity_propagation.py:460: ConvergenceWarning:\n",
      "\n",
      "This model does not have any cluster centers because affinity propagation did not converge. Labeling every sample as '-1'.\n",
      "\n",
      "D:\\anaconda3\\lib\\site-packages\\sklearn\\cluster\\_affinity_propagation.py:246: ConvergenceWarning:\n",
      "\n",
      "Affinity propagation did not converge, this model will not have any cluster centers.\n",
      "\n",
      "D:\\anaconda3\\lib\\site-packages\\sklearn\\cluster\\_affinity_propagation.py:460: ConvergenceWarning:\n",
      "\n",
      "This model does not have any cluster centers because affinity propagation did not converge. Labeling every sample as '-1'.\n",
      "\n",
      "D:\\anaconda3\\lib\\site-packages\\sklearn\\cluster\\_affinity_propagation.py:246: ConvergenceWarning:\n",
      "\n",
      "Affinity propagation did not converge, this model will not have any cluster centers.\n",
      "\n",
      "D:\\anaconda3\\lib\\site-packages\\sklearn\\cluster\\_affinity_propagation.py:460: ConvergenceWarning:\n",
      "\n",
      "This model does not have any cluster centers because affinity propagation did not converge. Labeling every sample as '-1'.\n",
      "\n"
     ]
    },
    {
     "data": {
      "text/plain": "<Figure size 432x288 with 1 Axes>",
      "image/png": "[encoded data removed]"
     },
     "metadata": {
      "needs_background": "light"
     },
     "output_type": "display_data"
    }
   ],
   "source": [
    "re = []\n",
    "num_clu = []\n",
    "num_noise = []\n",
    "tuner = np.arange(0.5,0.68,0.01)\n",
    "for damping in tuner:\n",
    "    re.append(within_group_square(full_data,affi_prop(full_data, damping=damping).labels_))\n",
    "    model = affi_prop(data, damping=damping)\n",
    "    n_clusters_ = len(set(model.labels_)) - (1 if -1 in model.labels_ else 0)\n",
    "    num_clu.append(n_clusters_)\n",
    "    n_noise_ = list(model.labels_).count(-1)\n",
    "    num_noise.append(n_noise_)\n",
    "\n",
    "plt.plot(tuner, re, linewidth=2, color='tan', label=\"sum of within group variance\")\n",
    "plt.scatter(tuner, num_clu, s=1, marker=\"^\", label=\"number of clusters\")\n",
    "plt.scatter(tuner, num_noise, s=1, marker=\"D\", label=\"number of noises\")\n",
    "plt.legend(loc=\"best\")\n",
    "plt.title(\"Affinity Tuning - damping\", fontsize=19, weight=\"bold\")\n",
    "# plt.xlabel(\"This is x axis\", fontsize=20, weight=\"bold\")\n",
    "# plt.ylabel(\"This is y axis\")\n",
    "plt.savefig(\"./demo-2.svg\", dpi=400, bbox_inches=\"tight\")\n",
    "plt.show()"
   ],
   "metadata": {
    "collapsed": false,
    "pycharm": {
     "name": "#%%\n"
    }
   }
  },
  {
   "cell_type": "code",
   "execution_count": 50,
   "outputs": [],
   "source": [
    "def pca(data,labels, dimension=4):\n",
    "    # data preparation\n",
    "    y = [str(i) for i in labels]\n",
    "    x = data\n",
    "    # PCA\n",
    "    pca = PCA()\n",
    "    components = pca.fit_transform(x)\n",
    "    label = {\n",
    "        str(i): f\"PC {i+1} ({var:.1f}%)\"\n",
    "        for i, var in enumerate(pca.explained_variance_ratio_ * 100)\n",
    "    }\n",
    "    fig = px.scatter_matrix(\n",
    "        components,\n",
    "        labels=label,\n",
    "        dimensions=range(dimension),\n",
    "        color=y\n",
    "    )\n",
    "    fig.update_traces(diagonal_visible=False)\n",
    "    fig.show()\n",
    "    return"
   ],
   "metadata": {
    "collapsed": false,
    "pycharm": {
     "name": "#%%\n"
    }
   }
  },
  {
   "cell_type": "code",
   "execution_count": 104,
   "outputs": [
    {
     "name": "stderr",
     "output_type": "stream",
     "text": [
      "D:\\anaconda3\\lib\\site-packages\\plotly\\express\\_core.py:279: FutureWarning:\n",
      "\n",
      "iteritems is deprecated and will be removed in a future version. Use .items instead.\n",
      "\n"
     ]
    },
    {
     "data": {
      "application/vnd.plotly.v1+json": {
       "data": [
        {
         "dimensions": [
          {
           "axis": {
            "matches": true
           },
           "label": "PC 1 (73.8%)",
           "values": [
            2.455574355125071,
            3.138287309269505,
            3.116392317467094,
            3.138287309269506,
            2.275374168109534,
            3.116392317467094,
            3.138287309269506,
            3.138287309269506,
            3.138287309269506,
            3.116392317467094,
            3.138287309269506,
            1.8275498770394567,
            2.8370760771122283,
            3.138287309269506,
            2.455574355125074,
            3.138287309269506,
            3.0944973256646833,
            3.138287309269506,
            1.85315189081052,
            2.275374168109534,
            3.138287309269506,
            3.138287309269506,
            3.138287309269506,
            3.138287309269506,
            3.138287309269506,
            3.138287309269506,
            3.138287309269506
           ]
          },
          {
           "axis": {
            "matches": true
           },
           "label": "PC 2 (10.3%)",
           "values": [
            0.1297362444028717,
            -0.5245838155078518,
            -0.13624552019969977,
            -0.5245838155078517,
            -1.2776023435874453,
            -0.13624552019969996,
            -0.5245838155078517,
            -0.5245838155078517,
            -0.5245838155078517,
            -0.13624552019969996,
            -0.5245838155078517,
            -0.342577643385514,
            -0.9064227838032058,
            -0.5245838155078517,
            0.1297362444028702,
            -0.5245838155078517,
            0.2520927751084521,
            -0.5245838155078517,
            -0.633941692187838,
            -1.2776023435874453,
            -0.5245838155078517,
            -0.5245838155078517,
            -0.5245838155078517,
            -0.5245838155078517,
            -0.5245838155078517,
            -0.5245838155078517,
            -0.5245838155078517
           ]
          },
          {
           "axis": {
            "matches": true
           },
           "label": "PC 3 (6.6%)",
           "values": [
            -0.19047484101506124,
            -0.18747263200776526,
            -0.28139878024719234,
            -0.18747263200776423,
            0.4287613668396422,
            -0.28139878024719234,
            -0.18747263200776423,
            -0.18747263200776423,
            -0.18747263200776423,
            -0.28139878024719234,
            -0.18747263200776423,
            0.4661838849040098,
            0.06996858924025447,
            -0.18747263200776423,
            -0.19047484101505976,
            -0.18747263200776423,
            -0.3753249284866204,
            -0.18747263200776423,
            0.3244076014809776,
            0.4287613668396422,
            -0.18747263200776423,
            -0.18747263200776423,
            -0.18747263200776423,
            -0.18747263200776423,
            -0.18747263200776423,
            -0.18747263200776423,
            -0.18747263200776423
           ]
          }
         ],
         "hovertemplate": "color=2<br>%{xaxis.title.text}=%{x}<br>%{yaxis.title.text}=%{y}<extra></extra>",
         "legendgroup": "2",
         "marker": {
          "color": "#636efa",
          "symbol": "circle"
         },
         "name": "2",
         "showlegend": true,
         "type": "splom",
         "diagonal": {
          "visible": false
         }
        },
        {
         "dimensions": [
          {
           "axis": {
            "matches": true
           },
           "label": "PC 1 (73.8%)",
           "values": [
            1.7728614009806418,
            1.0682534550337992,
            1.1448369228950248,
            1.772861400980642,
            1.7509664091782309,
            1.0901484468362101,
            1.068253455033799,
            0.34175051728454553,
            1.772861400980642,
            1.72907141737582,
            1.7509664091782309,
            1.0463584632313878,
            1.772861400980642,
            1.068253455033799,
            0.22723530567623873,
            1.0901484468362101
           ]
          },
          {
           "axis": {
            "matches": true
           },
           "label": "PC 2 (10.3%)",
           "values": [
            0.7840563043135923,
            1.8267146595324668,
            0.31174241652520757,
            0.7840563043135923,
            1.172394599621744,
            1.4383763642243141,
            1.826714659532466,
            3.2577113100594914,
            0.7840563043135923,
            1.5607328949298955,
            1.172394599621744,
            2.2150529548406177,
            0.7840563043135923,
            1.826714659532466,
            0.6853578361447202,
            1.4383763642243141
           ]
          },
          {
           "axis": {
            "matches": true
           },
           "label": "PC 3 (6.6%)",
           "values": [
            -0.1934770500223552,
            -0.29040540726907915,
            0.4631816758967144,
            -0.1934770500223553,
            -0.2874031982617834,
            -0.19647925902965085,
            -0.29040540726907893,
            -0.48125991275523067,
            -0.1934770500223553,
            -0.3813293465012115,
            -0.2874031982617834,
            -0.38433155550850695,
            -0.1934770500223553,
            -0.29040540726907893,
            0.41975473981775563,
            -0.19647925902965085
           ]
          }
         ],
         "hovertemplate": "color=0<br>%{xaxis.title.text}=%{x}<br>%{yaxis.title.text}=%{y}<extra></extra>",
         "legendgroup": "0",
         "marker": {
          "color": "#EF553B",
          "symbol": "circle"
         },
         "name": "0",
         "showlegend": true,
         "type": "splom",
         "diagonal": {
          "visible": false
         }
        },
        {
         "dimensions": [
          {
           "axis": {
            "matches": true
           },
           "label": "PC 1 (73.8%)",
           "values": [
            0.8507591179468698,
            0.10172359471951523,
            1.8415177977864117
           ]
          },
          {
           "axis": {
            "matches": true
           },
           "label": "PC 2 (10.3%)",
           "values": [
            -2.401800431451279,
            -1.848614699544702,
            -1.8617099678910893
           ]
          },
          {
           "axis": {
            "matches": true
           },
           "label": "PC 3 (6.6%)",
           "values": [
            1.4037881432864365,
            1.6986518825988228,
            1.2819344847270246
           ]
          }
         ],
         "hovertemplate": "color=1<br>%{xaxis.title.text}=%{x}<br>%{yaxis.title.text}=%{y}<extra></extra>",
         "legendgroup": "1",
         "marker": {
          "color": "#00cc96",
          "symbol": "circle"
         },
         "name": "1",
         "showlegend": true,
         "type": "splom",
         "diagonal": {
          "visible": false
         }
        },
        {
         "dimensions": [
          {
           "axis": {
            "matches": true
           },
           "label": "PC 1 (73.8%)",
           "values": [
            -1.951187227877357,
            -1.951187227877357,
            -1.66880155922953,
            -1.66880155922953,
            -2.296826037315146,
            -1.8800926986308573,
            -1.9292922360749454,
            -2.230503468232223,
            -1.8800926986308573,
            -2.230503468232223,
            -1.9292922360749454,
            -2.2523984600346343,
            -1.8800926986308573,
            -2.230503468232223,
            -1.951187227877357,
            -1.9292922360749454,
            -2.230503468232223,
            -1.951187227877357,
            -1.9292922360749454,
            -1.4339128961551753,
            -1.6007764582759918,
            -2.296826037315146,
            -2.2523984600346343,
            -1.5788814664735804
           ]
          },
          {
           "axis": {
            "matches": true
           },
           "label": "PC 2 (10.3%)",
           "values": [
            0.6289285868317513,
            0.6289285868317513,
            0.22993088301248538,
            0.22993088301248538,
            -0.24238300477589927,
            0.21547980819160842,
            0.24059029152359962,
            -0.14124867677175448,
            0.21547980819160842,
            -0.14124867677175448,
            0.24059029152359962,
            0.24708961853639727,
            0.21547980819160842,
            -0.14124867677175448,
            0.6289285868317513,
            0.24059029152359962,
            -0.14124867677175448,
            0.6289285868317513,
            0.24059029152359962,
            0.5106355233036947,
            0.9856570717951142,
            -0.24238300477589927,
            0.24708961853639727,
            0.5973187764869626
           ]
          },
          {
           "axis": {
            "matches": true
           },
           "label": "PC 3 (6.6%)",
           "values": [
            0.19931949184341197,
            0.19931949184341197,
            0.19189408373147104,
            0.19189408373147104,
            0.8485528096505407,
            1.3917793072572544,
            0.29324564008284,
            0.5506868613308588,
            1.3917793072572544,
            0.5506868613308588,
            0.29324564008284,
            0.4567607130914307,
            1.3917793072572544,
            0.5506868613308588,
            0.19931949184341197,
            0.29324564008284,
            0.5506868613308588,
            0.19931949184341197,
            0.29324564008284,
            0.23231881080313416,
            1.0404119377698076,
            0.8485528096505407,
            0.4567607130914307,
            1.1343380860092356
           ]
          }
         ],
         "hovertemplate": "color=5<br>%{xaxis.title.text}=%{x}<br>%{yaxis.title.text}=%{y}<extra></extra>",
         "legendgroup": "5",
         "marker": {
          "color": "#ab63fa",
          "symbol": "circle"
         },
         "name": "5",
         "showlegend": true,
         "type": "splom",
         "diagonal": {
          "visible": false
         }
        },
        {
         "dimensions": [
          {
           "axis": {
            "matches": true
           },
           "label": "PC 1 (73.8%)",
           "values": [
            -2.0838323660432025,
            -2.38504359820048,
            -2.38504359820048,
            -2.38504359820048,
            -2.0838323660432025
           ]
          },
          {
           "axis": {
            "matches": true
           },
           "label": "PC 2 (10.3%)",
           "values": [
            0.42665993082346204,
            0.044820962528107855,
            0.044820962528107855,
            0.044820962528107855,
            0.42665993082346204
           ]
          },
          {
           "axis": {
            "matches": true
           },
           "label": "PC 3 (6.6%)",
           "values": [
            0.7950513884827759,
            1.0524926097307947,
            1.0524926097307947,
            1.0524926097307947,
            0.7950513884827759
           ]
          }
         ],
         "hovertemplate": "color=3<br>%{xaxis.title.text}=%{x}<br>%{yaxis.title.text}=%{y}<extra></extra>",
         "legendgroup": "3",
         "marker": {
          "color": "#FFA15A",
          "symbol": "circle"
         },
         "name": "3",
         "showlegend": true,
         "type": "splom",
         "diagonal": {
          "visible": false
         }
        },
        {
         "dimensions": [
          {
           "axis": {
            "matches": true
           },
           "label": "PC 1 (73.8%)",
           "values": [
            -2.9976475765178767,
            -3.0639701456007997,
            -2.9532199992373656,
            -2.9532199992373656,
            -2.9313250074349537,
            -2.9532199992373656,
            -2.9313250074349537,
            -2.9313250074349537,
            -2.6301137752776764,
            -3.0195425683202886,
            -2.9532199992373656,
            -2.9313250074349537,
            -2.6301137752776764,
            -2.9313250074349537,
            -2.630113775277677
           ]
          },
          {
           "axis": {
            "matches": true
           },
           "label": "PC 2 (10.3%)",
           "values": [
            -0.9558399747026249,
            -1.0569743027067697,
            -0.4663673513903287,
            -0.4663673513903287,
            -0.8547056466984804,
            -0.4663673513903287,
            -0.8547056466984804,
            -0.8547056466984804,
            -0.4728666784031263,
            -0.5675016793944734,
            -0.4663673513903287,
            -0.8547056466984804,
            -0.4728666784031263,
            -0.8547056466984804,
            -0.4728666784031264
           ]
          },
          {
           "axis": {
            "matches": true
           },
           "label": "PC 3 (6.6%)",
           "values": [
            -0.8336320822022505,
            -0.5357661338825683,
            -1.2254241787613607,
            -1.2254241787613607,
            -1.1314980305219322,
            -1.2254241787613607,
            -1.1314980305219322,
            -1.1314980305219322,
            -1.388939251769951,
            -0.927558230441679,
            -1.2254241787613607,
            -1.1314980305219322,
            -1.388939251769951,
            -1.1314980305219322,
            -1.3889392517699513
           ]
          }
         ],
         "hovertemplate": "color=4<br>%{xaxis.title.text}=%{x}<br>%{yaxis.title.text}=%{y}<extra></extra>",
         "legendgroup": "4",
         "marker": {
          "color": "#19d3f3",
          "symbol": "circle"
         },
         "name": "4",
         "showlegend": true,
         "type": "splom",
         "diagonal": {
          "visible": false
         }
        }
       ],
       "layout": {
        "template": {
         "data": {
          "histogram2dcontour": [
           {
            "type": "histogram2dcontour",
            "colorbar": {
             "outlinewidth": 0,
             "ticks": ""
            },
            "colorscale": [
             [
              0.0,
              "#0d0887"
             ],
             [
              0.1111111111111111,
              "#46039f"
             ],
             [
              0.2222222222222222,
              "#7201a8"
             ],
             [
              0.3333333333333333,
              "#9c179e"
             ],
             [
              0.4444444444444444,
              "#bd3786"
             ],
             [
              0.5555555555555556,
              "#d8576b"
             ],
             [
              0.6666666666666666,
              "#ed7953"
             ],
             [
              0.7777777777777778,
              "#fb9f3a"
             ],
             [
              0.8888888888888888,
              "#fdca26"
             ],
             [
              1.0,
              "#f0f921"
             ]
            ]
           }
          ],
          "choropleth": [
           {
            "type": "choropleth",
            "colorbar": {
             "outlinewidth": 0,
             "ticks": ""
            }
           }
          ],
          "histogram2d": [
           {
            "type": "histogram2d",
            "colorbar": {
             "outlinewidth": 0,
             "ticks": ""
            },
            "colorscale": [
             [
              0.0,
              "#0d0887"
             ],
             [
              0.1111111111111111,
              "#46039f"
             ],
             [
              0.2222222222222222,
              "#7201a8"
             ],
             [
              0.3333333333333333,
              "#9c179e"
             ],
             [
              0.4444444444444444,
              "#bd3786"
             ],
             [
              0.5555555555555556,
              "#d8576b"
             ],
             [
              0.6666666666666666,
              "#ed7953"
             ],
             [
              0.7777777777777778,
              "#fb9f3a"
             ],
             [
              0.8888888888888888,
              "#fdca26"
             ],
             [
              1.0,
              "#f0f921"
             ]
            ]
           }
          ],
          "heatmap": [
           {
            "type": "heatmap",
            "colorbar": {
             "outlinewidth": 0,
             "ticks": ""
            },
            "colorscale": [
             [
              0.0,
              "#0d0887"
             ],
             [
              0.1111111111111111,
              "#46039f"
             ],
             [
              0.2222222222222222,
              "#7201a8"
             ],
             [
              0.3333333333333333,
              "#9c179e"
             ],
             [
              0.4444444444444444,
              "#bd3786"
             ],
             [
              0.5555555555555556,
              "#d8576b"
             ],
             [
              0.6666666666666666,
              "#ed7953"
             ],
             [
              0.7777777777777778,
              "#fb9f3a"
             ],
             [
              0.8888888888888888,
              "#fdca26"
             ],
             [
              1.0,
              "#f0f921"
             ]
            ]
           }
          ],
          "heatmapgl": [
           {
            "type": "heatmapgl",
            "colorbar": {
             "outlinewidth": 0,
             "ticks": ""
            },
            "colorscale": [
             [
              0.0,
              "#0d0887"
             ],
             [
              0.1111111111111111,
              "#46039f"
             ],
             [
              0.2222222222222222,
              "#7201a8"
             ],
             [
              0.3333333333333333,
              "#9c179e"
             ],
             [
              0.4444444444444444,
              "#bd3786"
             ],
             [
              0.5555555555555556,
              "#d8576b"
             ],
             [
              0.6666666666666666,
              "#ed7953"
             ],
             [
              0.7777777777777778,
              "#fb9f3a"
             ],
             [
              0.8888888888888888,
              "#fdca26"
             ],
             [
              1.0,
              "#f0f921"
             ]
            ]
           }
          ],
          "contourcarpet": [
           {
            "type": "contourcarpet",
            "colorbar": {
             "outlinewidth": 0,
             "ticks": ""
            }
           }
          ],
          "contour": [
           {
            "type": "contour",
            "colorbar": {
             "outlinewidth": 0,
             "ticks": ""
            },
            "colorscale": [
             [
              0.0,
              "#0d0887"
             ],
             [
              0.1111111111111111,
              "#46039f"
             ],
             [
              0.2222222222222222,
              "#7201a8"
             ],
             [
              0.3333333333333333,
              "#9c179e"
             ],
             [
              0.4444444444444444,
              "#bd3786"
             ],
             [
              0.5555555555555556,
              "#d8576b"
             ],
             [
              0.6666666666666666,
              "#ed7953"
             ],
             [
              0.7777777777777778,
              "#fb9f3a"
             ],
             [
              0.8888888888888888,
              "#fdca26"
             ],
             [
              1.0,
              "#f0f921"
             ]
            ]
           }
          ],
          "surface": [
           {
            "type": "surface",
            "colorbar": {
             "outlinewidth": 0,
             "ticks": ""
            },
            "colorscale": [
             [
              0.0,
              "#0d0887"
             ],
             [
              0.1111111111111111,
              "#46039f"
             ],
             [
              0.2222222222222222,
              "#7201a8"
             ],
             [
              0.3333333333333333,
              "#9c179e"
             ],
             [
              0.4444444444444444,
              "#bd3786"
             ],
             [
              0.5555555555555556,
              "#d8576b"
             ],
             [
              0.6666666666666666,
              "#ed7953"
             ],
             [
              0.7777777777777778,
              "#fb9f3a"
             ],
             [
              0.8888888888888888,
              "#fdca26"
             ],
             [
              1.0,
              "#f0f921"
             ]
            ]
           }
          ],
          "mesh3d": [
           {
            "type": "mesh3d",
            "colorbar": {
             "outlinewidth": 0,
             "ticks": ""
            }
           }
          ],
          "scatter": [
           {
            "fillpattern": {
             "fillmode": "overlay",
             "size": 10,
             "solidity": 0.2
            },
            "type": "scatter"
           }
          ],
          "parcoords": [
           {
            "type": "parcoords",
            "line": {
             "colorbar": {
              "outlinewidth": 0,
              "ticks": ""
             }
            }
           }
          ],
          "scatterpolargl": [
           {
            "type": "scatterpolargl",
            "marker": {
             "colorbar": {
              "outlinewidth": 0,
              "ticks": ""
             }
            }
           }
          ],
          "bar": [
           {
            "error_x": {
             "color": "#2a3f5f"
            },
            "error_y": {
             "color": "#2a3f5f"
            },
            "marker": {
             "line": {
              "color": "#E5ECF6",
              "width": 0.5
             },
             "pattern": {
              "fillmode": "overlay",
              "size": 10,
              "solidity": 0.2
             }
            },
            "type": "bar"
           }
          ],
          "scattergeo": [
           {
            "type": "scattergeo",
            "marker": {
             "colorbar": {
              "outlinewidth": 0,
              "ticks": ""
             }
            }
           }
          ],
          "scatterpolar": [
           {
            "type": "scatterpolar",
            "marker": {
             "colorbar": {
              "outlinewidth": 0,
              "ticks": ""
             }
            }
           }
          ],
          "histogram": [
           {
            "marker": {
             "pattern": {
              "fillmode": "overlay",
              "size": 10,
              "solidity": 0.2
             }
            },
            "type": "histogram"
           }
          ],
          "scattergl": [
           {
            "type": "scattergl",
            "marker": {
             "colorbar": {
              "outlinewidth": 0,
              "ticks": ""
             }
            }
           }
          ],
          "scatter3d": [
           {
            "type": "scatter3d",
            "line": {
             "colorbar": {
              "outlinewidth": 0,
              "ticks": ""
             }
            },
            "marker": {
             "colorbar": {
              "outlinewidth": 0,
              "ticks": ""
             }
            }
           }
          ],
          "scattermapbox": [
           {
            "type": "scattermapbox",
            "marker": {
             "colorbar": {
              "outlinewidth": 0,
              "ticks": ""
             }
            }
           }
          ],
          "scatterternary": [
           {
            "type": "scatterternary",
            "marker": {
             "colorbar": {
              "outlinewidth": 0,
              "ticks": ""
             }
            }
           }
          ],
          "scattercarpet": [
           {
            "type": "scattercarpet",
            "marker": {
             "colorbar": {
              "outlinewidth": 0,
              "ticks": ""
             }
            }
           }
          ],
          "carpet": [
           {
            "aaxis": {
             "endlinecolor": "#2a3f5f",
             "gridcolor": "white",
             "linecolor": "white",
             "minorgridcolor": "white",
             "startlinecolor": "#2a3f5f"
            },
            "baxis": {
             "endlinecolor": "#2a3f5f",
             "gridcolor": "white",
             "linecolor": "white",
             "minorgridcolor": "white",
             "startlinecolor": "#2a3f5f"
            },
            "type": "carpet"
           }
          ],
          "table": [
           {
            "cells": {
             "fill": {
              "color": "#EBF0F8"
             },
             "line": {
              "color": "white"
             }
            },
            "header": {
             "fill": {
              "color": "#C8D4E3"
             },
             "line": {
              "color": "white"
             }
            },
            "type": "table"
           }
          ],
          "barpolar": [
           {
            "marker": {
             "line": {
              "color": "#E5ECF6",
              "width": 0.5
             },
             "pattern": {
              "fillmode": "overlay",
              "size": 10,
              "solidity": 0.2
             }
            },
            "type": "barpolar"
           }
          ],
          "pie": [
           {
            "automargin": true,
            "type": "pie"
           }
          ]
         },
         "layout": {
          "autotypenumbers": "strict",
          "colorway": [
           "#636efa",
           "#EF553B",
           "#00cc96",
           "#ab63fa",
           "#FFA15A",
           "#19d3f3",
           "#FF6692",
           "#B6E880",
           "#FF97FF",
           "#FECB52"
          ],
          "font": {
           "color": "#2a3f5f"
          },
          "hovermode": "closest",
          "hoverlabel": {
           "align": "left"
          },
          "paper_bgcolor": "white",
          "plot_bgcolor": "#E5ECF6",
          "polar": {
           "bgcolor": "#E5ECF6",
           "angularaxis": {
            "gridcolor": "white",
            "linecolor": "white",
            "ticks": ""
           },
           "radialaxis": {
            "gridcolor": "white",
            "linecolor": "white",
            "ticks": ""
           }
          },
          "ternary": {
           "bgcolor": "#E5ECF6",
           "aaxis": {
            "gridcolor": "white",
            "linecolor": "white",
            "ticks": ""
           },
           "baxis": {
            "gridcolor": "white",
            "linecolor": "white",
            "ticks": ""
           },
           "caxis": {
            "gridcolor": "white",
            "linecolor": "white",
            "ticks": ""
           }
          },
          "coloraxis": {
           "colorbar": {
            "outlinewidth": 0,
            "ticks": ""
           }
          },
          "colorscale": {
           "sequential": [
            [
             0.0,
             "#0d0887"
            ],
            [
             0.1111111111111111,
             "#46039f"
            ],
            [
             0.2222222222222222,
             "#7201a8"
            ],
            [
             0.3333333333333333,
             "#9c179e"
            ],
            [
             0.4444444444444444,
             "#bd3786"
            ],
            [
             0.5555555555555556,
             "#d8576b"
            ],
            [
             0.6666666666666666,
             "#ed7953"
            ],
            [
             0.7777777777777778,
             "#fb9f3a"
            ],
            [
             0.8888888888888888,
             "#fdca26"
            ],
            [
             1.0,
             "#f0f921"
            ]
           ],
           "sequentialminus": [
            [
             0.0,
             "#0d0887"
            ],
            [
             0.1111111111111111,
             "#46039f"
            ],
            [
             0.2222222222222222,
             "#7201a8"
            ],
            [
             0.3333333333333333,
             "#9c179e"
            ],
            [
             0.4444444444444444,
             "#bd3786"
            ],
            [
             0.5555555555555556,
             "#d8576b"
            ],
            [
             0.6666666666666666,
             "#ed7953"
            ],
            [
             0.7777777777777778,
             "#fb9f3a"
            ],
            [
             0.8888888888888888,
             "#fdca26"
            ],
            [
             1.0,
             "#f0f921"
            ]
           ],
           "diverging": [
            [
             0,
             "#8e0152"
            ],
            [
             0.1,
             "#c51b7d"
            ],
            [
             0.2,
             "#de77ae"
            ],
            [
             0.3,
             "#f1b6da"
            ],
            [
             0.4,
             "#fde0ef"
            ],
            [
             0.5,
             "#f7f7f7"
            ],
            [
             0.6,
             "#e6f5d0"
            ],
            [
             0.7,
             "#b8e186"
            ],
            [
             0.8,
             "#7fbc41"
            ],
            [
             0.9,
             "#4d9221"
            ],
            [
             1,
             "#276419"
            ]
           ]
          },
          "xaxis": {
           "gridcolor": "white",
           "linecolor": "white",
           "ticks": "",
           "title": {
            "standoff": 15
           },
           "zerolinecolor": "white",
           "automargin": true,
           "zerolinewidth": 2
          },
          "yaxis": {
           "gridcolor": "white",
           "linecolor": "white",
           "ticks": "",
           "title": {
            "standoff": 15
           },
           "zerolinecolor": "white",
           "automargin": true,
           "zerolinewidth": 2
          },
          "scene": {
           "xaxis": {
            "backgroundcolor": "#E5ECF6",
            "gridcolor": "white",
            "linecolor": "white",
            "showbackground": true,
            "ticks": "",
            "zerolinecolor": "white",
            "gridwidth": 2
           },
           "yaxis": {
            "backgroundcolor": "#E5ECF6",
            "gridcolor": "white",
            "linecolor": "white",
            "showbackground": true,
            "ticks": "",
            "zerolinecolor": "white",
            "gridwidth": 2
           },
           "zaxis": {
            "backgroundcolor": "#E5ECF6",
            "gridcolor": "white",
            "linecolor": "white",
            "showbackground": true,
            "ticks": "",
            "zerolinecolor": "white",
            "gridwidth": 2
           }
          },
          "shapedefaults": {
           "line": {
            "color": "#2a3f5f"
           }
          },
          "annotationdefaults": {
           "arrowcolor": "#2a3f5f",
           "arrowhead": 0,
           "arrowwidth": 1
          },
          "geo": {
           "bgcolor": "white",
           "landcolor": "#E5ECF6",
           "subunitcolor": "white",
           "showland": true,
           "showlakes": true,
           "lakecolor": "white"
          },
          "title": {
           "x": 0.05
          },
          "mapbox": {
           "style": "light"
          }
         }
        },
        "legend": {
         "title": {
          "text": "color"
         },
         "tracegroupgap": 0
        },
        "margin": {
         "t": 60
        },
        "dragmode": "select"
       },
       "config": {
        "plotlyServerURL": "https://plot.ly"
       }
      },
      "text/html": "<div>                            <div id=\"9fb01f9c-eced-4707-b3da-1e7dd7455189\" class=\"plotly-graph-div\" style=\"height:525px; width:100%;\"></div>            <script type=\"text/javascript\">                require([\"plotly\"], function(Plotly) {                    window.PLOTLYENV=window.PLOTLYENV || {};                                    if (document.getElementById(\"9fb01f9c-eced-4707-b3da-1e7dd7455189\")) {                    Plotly.newPlot(                        \"9fb01f9c-eced-4707-b3da-1e7dd7455189\",                        [{\"dimensions\":[{\"axis\":{\"matches\":true},\"label\":\"PC 1 (73.8%)\",\"values\":[2.455574355125071,3.138287309269505,3.116392317467094,3.138287309269506,2.275374168109534,3.116392317467094,3.138287309269506,3.138287309269506,3.138287309269506,3.116392317467094,3.138287309269506,1.8275498770394567,2.8370760771122283,3.138287309269506,2.455574355125074,3.138287309269506,3.0944973256646833,3.138287309269506,1.85315189081052,2.275374168109534,3.138287309269506,3.138287309269506,3.138287309269506,3.138287309269506,3.138287309269506,3.138287309269506,3.138287309269506]},{\"axis\":{\"matches\":true},\"label\":\"PC 2 (10.3%)\",\"values\":[0.1297362444028717,-0.5245838155078518,-0.13624552019969977,-0.5245838155078517,-1.2776023435874453,-0.13624552019969996,-0.5245838155078517,-0.5245838155078517,-0.5245838155078517,-0.13624552019969996,-0.5245838155078517,-0.342577643385514,-0.9064227838032058,-0.5245838155078517,0.1297362444028702,-0.5245838155078517,0.2520927751084521,-0.5245838155078517,-0.633941692187838,-1.2776023435874453,-0.5245838155078517,-0.5245838155078517,-0.5245838155078517,-0.5245838155078517,-0.5245838155078517,-0.5245838155078517,-0.5245838155078517]},{\"axis\":{\"matches\":true},\"label\":\"PC 3 (6.6%)\",\"values\":[-0.19047484101506124,-0.18747263200776526,-0.28139878024719234,-0.18747263200776423,0.4287613668396422,-0.28139878024719234,-0.18747263200776423,-0.18747263200776423,-0.18747263200776423,-0.28139878024719234,-0.18747263200776423,0.4661838849040098,0.06996858924025447,-0.18747263200776423,-0.19047484101505976,-0.18747263200776423,-0.3753249284866204,-0.18747263200776423,0.3244076014809776,0.4287613668396422,-0.18747263200776423,-0.18747263200776423,-0.18747263200776423,-0.18747263200776423,-0.18747263200776423,-0.18747263200776423,-0.18747263200776423]}],\"hovertemplate\":\"color=2<br>%{xaxis.title.text}=%{x}<br>%{yaxis.title.text}=%{y}<extra></extra>\",\"legendgroup\":\"2\",\"marker\":{\"color\":\"#636efa\",\"symbol\":\"circle\"},\"name\":\"2\",\"showlegend\":true,\"type\":\"splom\",\"diagonal\":{\"visible\":false}},{\"dimensions\":[{\"axis\":{\"matches\":true},\"label\":\"PC 1 (73.8%)\",\"values\":[1.7728614009806418,1.0682534550337992,1.1448369228950248,1.772861400980642,1.7509664091782309,1.0901484468362101,1.068253455033799,0.34175051728454553,1.772861400980642,1.72907141737582,1.7509664091782309,1.0463584632313878,1.772861400980642,1.068253455033799,0.22723530567623873,1.0901484468362101]},{\"axis\":{\"matches\":true},\"label\":\"PC 2 (10.3%)\",\"values\":[0.7840563043135923,1.8267146595324668,0.31174241652520757,0.7840563043135923,1.172394599621744,1.4383763642243141,1.826714659532466,3.2577113100594914,0.7840563043135923,1.5607328949298955,1.172394599621744,2.2150529548406177,0.7840563043135923,1.826714659532466,0.6853578361447202,1.4383763642243141]},{\"axis\":{\"matches\":true},\"label\":\"PC 3 (6.6%)\",\"values\":[-0.1934770500223552,-0.29040540726907915,0.4631816758967144,-0.1934770500223553,-0.2874031982617834,-0.19647925902965085,-0.29040540726907893,-0.48125991275523067,-0.1934770500223553,-0.3813293465012115,-0.2874031982617834,-0.38433155550850695,-0.1934770500223553,-0.29040540726907893,0.41975473981775563,-0.19647925902965085]}],\"hovertemplate\":\"color=0<br>%{xaxis.title.text}=%{x}<br>%{yaxis.title.text}=%{y}<extra></extra>\",\"legendgroup\":\"0\",\"marker\":{\"color\":\"#EF553B\",\"symbol\":\"circle\"},\"name\":\"0\",\"showlegend\":true,\"type\":\"splom\",\"diagonal\":{\"visible\":false}},{\"dimensions\":[{\"axis\":{\"matches\":true},\"label\":\"PC 1 (73.8%)\",\"values\":[0.8507591179468698,0.10172359471951523,1.8415177977864117]},{\"axis\":{\"matches\":true},\"label\":\"PC 2 (10.3%)\",\"values\":[-2.401800431451279,-1.848614699544702,-1.8617099678910893]},{\"axis\":{\"matches\":true},\"label\":\"PC 3 (6.6%)\",\"values\":[1.4037881432864365,1.6986518825988228,1.2819344847270246]}],\"hovertemplate\":\"color=1<br>%{xaxis.title.text}=%{x}<br>%{yaxis.title.text}=%{y}<extra></extra>\",\"legendgroup\":\"1\",\"marker\":{\"color\":\"#00cc96\",\"symbol\":\"circle\"},\"name\":\"1\",\"showlegend\":true,\"type\":\"splom\",\"diagonal\":{\"visible\":false}},{\"dimensions\":[{\"axis\":{\"matches\":true},\"label\":\"PC 1 (73.8%)\",\"values\":[-1.951187227877357,-1.951187227877357,-1.66880155922953,-1.66880155922953,-2.296826037315146,-1.8800926986308573,-1.9292922360749454,-2.230503468232223,-1.8800926986308573,-2.230503468232223,-1.9292922360749454,-2.2523984600346343,-1.8800926986308573,-2.230503468232223,-1.951187227877357,-1.9292922360749454,-2.230503468232223,-1.951187227877357,-1.9292922360749454,-1.4339128961551753,-1.6007764582759918,-2.296826037315146,-2.2523984600346343,-1.5788814664735804]},{\"axis\":{\"matches\":true},\"label\":\"PC 2 (10.3%)\",\"values\":[0.6289285868317513,0.6289285868317513,0.22993088301248538,0.22993088301248538,-0.24238300477589927,0.21547980819160842,0.24059029152359962,-0.14124867677175448,0.21547980819160842,-0.14124867677175448,0.24059029152359962,0.24708961853639727,0.21547980819160842,-0.14124867677175448,0.6289285868317513,0.24059029152359962,-0.14124867677175448,0.6289285868317513,0.24059029152359962,0.5106355233036947,0.9856570717951142,-0.24238300477589927,0.24708961853639727,0.5973187764869626]},{\"axis\":{\"matches\":true},\"label\":\"PC 3 (6.6%)\",\"values\":[0.19931949184341197,0.19931949184341197,0.19189408373147104,0.19189408373147104,0.8485528096505407,1.3917793072572544,0.29324564008284,0.5506868613308588,1.3917793072572544,0.5506868613308588,0.29324564008284,0.4567607130914307,1.3917793072572544,0.5506868613308588,0.19931949184341197,0.29324564008284,0.5506868613308588,0.19931949184341197,0.29324564008284,0.23231881080313416,1.0404119377698076,0.8485528096505407,0.4567607130914307,1.1343380860092356]}],\"hovertemplate\":\"color=5<br>%{xaxis.title.text}=%{x}<br>%{yaxis.title.text}=%{y}<extra></extra>\",\"legendgroup\":\"5\",\"marker\":{\"color\":\"#ab63fa\",\"symbol\":\"circle\"},\"name\":\"5\",\"showlegend\":true,\"type\":\"splom\",\"diagonal\":{\"visible\":false}},{\"dimensions\":[{\"axis\":{\"matches\":true},\"label\":\"PC 1 (73.8%)\",\"values\":[-2.0838323660432025,-2.38504359820048,-2.38504359820048,-2.38504359820048,-2.0838323660432025]},{\"axis\":{\"matches\":true},\"label\":\"PC 2 (10.3%)\",\"values\":[0.42665993082346204,0.044820962528107855,0.044820962528107855,0.044820962528107855,0.42665993082346204]},{\"axis\":{\"matches\":true},\"label\":\"PC 3 (6.6%)\",\"values\":[0.7950513884827759,1.0524926097307947,1.0524926097307947,1.0524926097307947,0.7950513884827759]}],\"hovertemplate\":\"color=3<br>%{xaxis.title.text}=%{x}<br>%{yaxis.title.text}=%{y}<extra></extra>\",\"legendgroup\":\"3\",\"marker\":{\"color\":\"#FFA15A\",\"symbol\":\"circle\"},\"name\":\"3\",\"showlegend\":true,\"type\":\"splom\",\"diagonal\":{\"visible\":false}},{\"dimensions\":[{\"axis\":{\"matches\":true},\"label\":\"PC 1 (73.8%)\",\"values\":[-2.9976475765178767,-3.0639701456007997,-2.9532199992373656,-2.9532199992373656,-2.9313250074349537,-2.9532199992373656,-2.9313250074349537,-2.9313250074349537,-2.6301137752776764,-3.0195425683202886,-2.9532199992373656,-2.9313250074349537,-2.6301137752776764,-2.9313250074349537,-2.630113775277677]},{\"axis\":{\"matches\":true},\"label\":\"PC 2 (10.3%)\",\"values\":[-0.9558399747026249,-1.0569743027067697,-0.4663673513903287,-0.4663673513903287,-0.8547056466984804,-0.4663673513903287,-0.8547056466984804,-0.8547056466984804,-0.4728666784031263,-0.5675016793944734,-0.4663673513903287,-0.8547056466984804,-0.4728666784031263,-0.8547056466984804,-0.4728666784031264]},{\"axis\":{\"matches\":true},\"label\":\"PC 3 (6.6%)\",\"values\":[-0.8336320822022505,-0.5357661338825683,-1.2254241787613607,-1.2254241787613607,-1.1314980305219322,-1.2254241787613607,-1.1314980305219322,-1.1314980305219322,-1.388939251769951,-0.927558230441679,-1.2254241787613607,-1.1314980305219322,-1.388939251769951,-1.1314980305219322,-1.3889392517699513]}],\"hovertemplate\":\"color=4<br>%{xaxis.title.text}=%{x}<br>%{yaxis.title.text}=%{y}<extra></extra>\",\"legendgroup\":\"4\",\"marker\":{\"color\":\"#19d3f3\",\"symbol\":\"circle\"},\"name\":\"4\",\"showlegend\":true,\"type\":\"splom\",\"diagonal\":{\"visible\":false}}],                        {\"template\":{\"data\":{\"histogram2dcontour\":[{\"type\":\"histogram2dcontour\",\"colorbar\":{\"outlinewidth\":0,\"ticks\":\"\"},\"colorscale\":[[0.0,\"#0d0887\"],[0.1111111111111111,\"#46039f\"],[0.2222222222222222,\"#7201a8\"],[0.3333333333333333,\"#9c179e\"],[0.4444444444444444,\"#bd3786\"],[0.5555555555555556,\"#d8576b\"],[0.6666666666666666,\"#ed7953\"],[0.7777777777777778,\"#fb9f3a\"],[0.8888888888888888,\"#fdca26\"],[1.0,\"#f0f921\"]]}],\"choropleth\":[{\"type\":\"choropleth\",\"colorbar\":{\"outlinewidth\":0,\"ticks\":\"\"}}],\"histogram2d\":[{\"type\":\"histogram2d\",\"colorbar\":{\"outlinewidth\":0,\"ticks\":\"\"},\"colorscale\":[[0.0,\"#0d0887\"],[0.1111111111111111,\"#46039f\"],[0.2222222222222222,\"#7201a8\"],[0.3333333333333333,\"#9c179e\"],[0.4444444444444444,\"#bd3786\"],[0.5555555555555556,\"#d8576b\"],[0.6666666666666666,\"#ed7953\"],[0.7777777777777778,\"#fb9f3a\"],[0.8888888888888888,\"#fdca26\"],[1.0,\"#f0f921\"]]}],\"heatmap\":[{\"type\":\"heatmap\",\"colorbar\":{\"outlinewidth\":0,\"ticks\":\"\"},\"colorscale\":[[0.0,\"#0d0887\"],[0.1111111111111111,\"#46039f\"],[0.2222222222222222,\"#7201a8\"],[0.3333333333333333,\"#9c179e\"],[0.4444444444444444,\"#bd3786\"],[0.5555555555555556,\"#d8576b\"],[0.6666666666666666,\"#ed7953\"],[0.7777777777777778,\"#fb9f3a\"],[0.8888888888888888,\"#fdca26\"],[1.0,\"#f0f921\"]]}],\"heatmapgl\":[{\"type\":\"heatmapgl\",\"colorbar\":{\"outlinewidth\":0,\"ticks\":\"\"},\"colorscale\":[[0.0,\"#0d0887\"],[0.1111111111111111,\"#46039f\"],[0.2222222222222222,\"#7201a8\"],[0.3333333333333333,\"#9c179e\"],[0.4444444444444444,\"#bd3786\"],[0.5555555555555556,\"#d8576b\"],[0.6666666666666666,\"#ed7953\"],[0.7777777777777778,\"#fb9f3a\"],[0.8888888888888888,\"#fdca26\"],[1.0,\"#f0f921\"]]}],\"contourcarpet\":[{\"type\":\"contourcarpet\",\"colorbar\":{\"outlinewidth\":0,\"ticks\":\"\"}}],\"contour\":[{\"type\":\"contour\",\"colorbar\":{\"outlinewidth\":0,\"ticks\":\"\"},\"colorscale\":[[0.0,\"#0d0887\"],[0.1111111111111111,\"#46039f\"],[0.2222222222222222,\"#7201a8\"],[0.3333333333333333,\"#9c179e\"],[0.4444444444444444,\"#bd3786\"],[0.5555555555555556,\"#d8576b\"],[0.6666666666666666,\"#ed7953\"],[0.7777777777777778,\"#fb9f3a\"],[0.8888888888888888,\"#fdca26\"],[1.0,\"#f0f921\"]]}],\"surface\":[{\"type\":\"surface\",\"colorbar\":{\"outlinewidth\":0,\"ticks\":\"\"},\"colorscale\":[[0.0,\"#0d0887\"],[0.1111111111111111,\"#46039f\"],[0.2222222222222222,\"#7201a8\"],[0.3333333333333333,\"#9c179e\"],[0.4444444444444444,\"#bd3786\"],[0.5555555555555556,\"#d8576b\"],[0.6666666666666666,\"#ed7953\"],[0.7777777777777778,\"#fb9f3a\"],[0.8888888888888888,\"#fdca26\"],[1.0,\"#f0f921\"]]}],\"mesh3d\":[{\"type\":\"mesh3d\",\"colorbar\":{\"outlinewidth\":0,\"ticks\":\"\"}}],\"scatter\":[{\"fillpattern\":{\"fillmode\":\"overlay\",\"size\":10,\"solidity\":0.2},\"type\":\"scatter\"}],\"parcoords\":[{\"type\":\"parcoords\",\"line\":{\"colorbar\":{\"outlinewidth\":0,\"ticks\":\"\"}}}],\"scatterpolargl\":[{\"type\":\"scatterpolargl\",\"marker\":{\"colorbar\":{\"outlinewidth\":0,\"ticks\":\"\"}}}],\"bar\":[{\"error_x\":{\"color\":\"#2a3f5f\"},\"error_y\":{\"color\":\"#2a3f5f\"},\"marker\":{\"line\":{\"color\":\"#E5ECF6\",\"width\":0.5},\"pattern\":{\"fillmode\":\"overlay\",\"size\":10,\"solidity\":0.2}},\"type\":\"bar\"}],\"scattergeo\":[{\"type\":\"scattergeo\",\"marker\":{\"colorbar\":{\"outlinewidth\":0,\"ticks\":\"\"}}}],\"scatterpolar\":[{\"type\":\"scatterpolar\",\"marker\":{\"colorbar\":{\"outlinewidth\":0,\"ticks\":\"\"}}}],\"histogram\":[{\"marker\":{\"pattern\":{\"fillmode\":\"overlay\",\"size\":10,\"solidity\":0.2}},\"type\":\"histogram\"}],\"scattergl\":[{\"type\":\"scattergl\",\"marker\":{\"colorbar\":{\"outlinewidth\":0,\"ticks\":\"\"}}}],\"scatter3d\":[{\"type\":\"scatter3d\",\"line\":{\"colorbar\":{\"outlinewidth\":0,\"ticks\":\"\"}},\"marker\":{\"colorbar\":{\"outlinewidth\":0,\"ticks\":\"\"}}}],\"scattermapbox\":[{\"type\":\"scattermapbox\",\"marker\":{\"colorbar\":{\"outlinewidth\":0,\"ticks\":\"\"}}}],\"scatterternary\":[{\"type\":\"scatterternary\",\"marker\":{\"colorbar\":{\"outlinewidth\":0,\"ticks\":\"\"}}}],\"scattercarpet\":[{\"type\":\"scattercarpet\",\"marker\":{\"colorbar\":{\"outlinewidth\":0,\"ticks\":\"\"}}}],\"carpet\":[{\"aaxis\":{\"endlinecolor\":\"#2a3f5f\",\"gridcolor\":\"white\",\"linecolor\":\"white\",\"minorgridcolor\":\"white\",\"startlinecolor\":\"#2a3f5f\"},\"baxis\":{\"endlinecolor\":\"#2a3f5f\",\"gridcolor\":\"white\",\"linecolor\":\"white\",\"minorgridcolor\":\"white\",\"startlinecolor\":\"#2a3f5f\"},\"type\":\"carpet\"}],\"table\":[{\"cells\":{\"fill\":{\"color\":\"#EBF0F8\"},\"line\":{\"color\":\"white\"}},\"header\":{\"fill\":{\"color\":\"#C8D4E3\"},\"line\":{\"color\":\"white\"}},\"type\":\"table\"}],\"barpolar\":[{\"marker\":{\"line\":{\"color\":\"#E5ECF6\",\"width\":0.5},\"pattern\":{\"fillmode\":\"overlay\",\"size\":10,\"solidity\":0.2}},\"type\":\"barpolar\"}],\"pie\":[{\"automargin\":true,\"type\":\"pie\"}]},\"layout\":{\"autotypenumbers\":\"strict\",\"colorway\":[\"#636efa\",\"#EF553B\",\"#00cc96\",\"#ab63fa\",\"#FFA15A\",\"#19d3f3\",\"#FF6692\",\"#B6E880\",\"#FF97FF\",\"#FECB52\"],\"font\":{\"color\":\"#2a3f5f\"},\"hovermode\":\"closest\",\"hoverlabel\":{\"align\":\"left\"},\"paper_bgcolor\":\"white\",\"plot_bgcolor\":\"#E5ECF6\",\"polar\":{\"bgcolor\":\"#E5ECF6\",\"angularaxis\":{\"gridcolor\":\"white\",\"linecolor\":\"white\",\"ticks\":\"\"},\"radialaxis\":{\"gridcolor\":\"white\",\"linecolor\":\"white\",\"ticks\":\"\"}},\"ternary\":{\"bgcolor\":\"#E5ECF6\",\"aaxis\":{\"gridcolor\":\"white\",\"linecolor\":\"white\",\"ticks\":\"\"},\"baxis\":{\"gridcolor\":\"white\",\"linecolor\":\"white\",\"ticks\":\"\"},\"caxis\":{\"gridcolor\":\"white\",\"linecolor\":\"white\",\"ticks\":\"\"}},\"coloraxis\":{\"colorbar\":{\"outlinewidth\":0,\"ticks\":\"\"}},\"colorscale\":{\"sequential\":[[0.0,\"#0d0887\"],[0.1111111111111111,\"#46039f\"],[0.2222222222222222,\"#7201a8\"],[0.3333333333333333,\"#9c179e\"],[0.4444444444444444,\"#bd3786\"],[0.5555555555555556,\"#d8576b\"],[0.6666666666666666,\"#ed7953\"],[0.7777777777777778,\"#fb9f3a\"],[0.8888888888888888,\"#fdca26\"],[1.0,\"#f0f921\"]],\"sequentialminus\":[[0.0,\"#0d0887\"],[0.1111111111111111,\"#46039f\"],[0.2222222222222222,\"#7201a8\"],[0.3333333333333333,\"#9c179e\"],[0.4444444444444444,\"#bd3786\"],[0.5555555555555556,\"#d8576b\"],[0.6666666666666666,\"#ed7953\"],[0.7777777777777778,\"#fb9f3a\"],[0.8888888888888888,\"#fdca26\"],[1.0,\"#f0f921\"]],\"diverging\":[[0,\"#8e0152\"],[0.1,\"#c51b7d\"],[0.2,\"#de77ae\"],[0.3,\"#f1b6da\"],[0.4,\"#fde0ef\"],[0.5,\"#f7f7f7\"],[0.6,\"#e6f5d0\"],[0.7,\"#b8e186\"],[0.8,\"#7fbc41\"],[0.9,\"#4d9221\"],[1,\"#276419\"]]},\"xaxis\":{\"gridcolor\":\"white\",\"linecolor\":\"white\",\"ticks\":\"\",\"title\":{\"standoff\":15},\"zerolinecolor\":\"white\",\"automargin\":true,\"zerolinewidth\":2},\"yaxis\":{\"gridcolor\":\"white\",\"linecolor\":\"white\",\"ticks\":\"\",\"title\":{\"standoff\":15},\"zerolinecolor\":\"white\",\"automargin\":true,\"zerolinewidth\":2},\"scene\":{\"xaxis\":{\"backgroundcolor\":\"#E5ECF6\",\"gridcolor\":\"white\",\"linecolor\":\"white\",\"showbackground\":true,\"ticks\":\"\",\"zerolinecolor\":\"white\",\"gridwidth\":2},\"yaxis\":{\"backgroundcolor\":\"#E5ECF6\",\"gridcolor\":\"white\",\"linecolor\":\"white\",\"showbackground\":true,\"ticks\":\"\",\"zerolinecolor\":\"white\",\"gridwidth\":2},\"zaxis\":{\"backgroundcolor\":\"#E5ECF6\",\"gridcolor\":\"white\",\"linecolor\":\"white\",\"showbackground\":true,\"ticks\":\"\",\"zerolinecolor\":\"white\",\"gridwidth\":2}},\"shapedefaults\":{\"line\":{\"color\":\"#2a3f5f\"}},\"annotationdefaults\":{\"arrowcolor\":\"#2a3f5f\",\"arrowhead\":0,\"arrowwidth\":1},\"geo\":{\"bgcolor\":\"white\",\"landcolor\":\"#E5ECF6\",\"subunitcolor\":\"white\",\"showland\":true,\"showlakes\":true,\"lakecolor\":\"white\"},\"title\":{\"x\":0.05},\"mapbox\":{\"style\":\"light\"}}},\"legend\":{\"title\":{\"text\":\"color\"},\"tracegroupgap\":0},\"margin\":{\"t\":60},\"dragmode\":\"select\"},                        {\"responsive\": true}                    ).then(function(){\n                            \nvar gd = document.getElementById('9fb01f9c-eced-4707-b3da-1e7dd7455189');\nvar x = new MutationObserver(function (mutations, observer) {{\n        var display = window.getComputedStyle(gd).display;\n        if (!display || display === 'none') {{\n            console.log([gd, 'removed!']);\n            Plotly.purge(gd);\n            observer.disconnect();\n        }}\n}});\n\n// Listen for the removal of the full notebook cells\nvar notebookContainer = gd.closest('#notebook-container');\nif (notebookContainer) {{\n    x.observe(notebookContainer, {childList: true});\n}}\n\n// Listen for the clearing of the current output cell\nvar outputEl = gd.closest('.output');\nif (outputEl) {{\n    x.observe(outputEl, {childList: true});\n}}\n\n                        })                };                });            </script>        </div>"
     },
     "metadata": {},
     "output_type": "display_data"
    }
   ],
   "source": [
    "pca(full_data, affi_prop(full_data, damping=0.64).labels_, 3)"
   ],
   "metadata": {
    "collapsed": false,
    "pycharm": {
     "name": "#%%\n"
    }
   }
  },
  {
   "cell_type": "code",
   "execution_count": null,
   "outputs": [],
   "source": [],
   "metadata": {
    "collapsed": false,
    "pycharm": {
     "name": "#%%\n"
    }
   }
  },
  {
   "cell_type": "code",
   "execution_count": 99,
   "outputs": [
    {
     "data": {
      "text/plain": "<Figure size 432x288 with 1 Axes>",
      "image/png": "[encoded data removed]"
     },
     "metadata": {
      "needs_background": "light"
     },
     "output_type": "display_data"
    }
   ],
   "source": [
    "### DBSCAN\n",
    "re = []\n",
    "num_clu = []\n",
    "num_noise = []\n",
    "tuner = np.arange(0.5,2,0.01)\n",
    "for eps in tuner:\n",
    "    re.append(within_group_square(full_data,DBSCAN(full_data, eps=eps, min_samples=10).labels_))\n",
    "    model = DBSCAN(full_data, eps=eps, min_samples=10)\n",
    "    n_clusters_ = len(set(model.labels_)) - (1 if -1 in model.labels_ else 0)\n",
    "    num_clu.append(n_clusters_)\n",
    "    n_noise_ = list(model.labels_).count(-1)\n",
    "    num_noise.append(n_noise_)\n",
    "\n",
    "plt.plot(tuner, re, linewidth=2, color='tan', label=\"sum of within group variance\")\n",
    "plt.scatter(tuner, num_clu, s=1, marker=\"^\", label=\"number of clusters\")\n",
    "plt.scatter(tuner, num_noise, s=1, marker=\"D\", label=\"number of noises\")\n",
    "plt.legend(loc=\"best\")\n",
    "plt.title(\"DBSCAN Tuning - eps\", fontsize=19, weight=\"bold\")\n",
    "# plt.xlabel(\"This is x axis\", fontsize=20, weight=\"bold\")\n",
    "# plt.ylabel(\"This is y axis\")\n",
    "plt.savefig(\"./demo-2.svg\", dpi=400, bbox_inches=\"tight\")\n",
    "plt.show()"
   ],
   "metadata": {
    "collapsed": false,
    "pycharm": {
     "name": "#%%\n"
    }
   }
  },
  {
   "cell_type": "code",
   "execution_count": 74,
   "outputs": [
    {
     "name": "stdout",
     "output_type": "stream",
     "text": [
      "Cluster 0:\n",
      "              c1         c2  c3_grade  c4_grade    c5grade  c7_grade  \\\n",
      "count  37.000000  37.000000      37.0      37.0  37.000000      37.0   \n",
      "mean    0.054054   2.675676       0.0       0.0   0.081081       0.0   \n",
      "std     0.229243   0.579945       0.0       0.0   0.276725       0.0   \n",
      "min     0.000000   1.000000       0.0       0.0   0.000000       0.0   \n",
      "25%     0.000000   2.000000       0.0       0.0   0.000000       0.0   \n",
      "50%     0.000000   3.000000       0.0       0.0   0.000000       0.0   \n",
      "75%     0.000000   3.000000       0.0       0.0   0.000000       0.0   \n",
      "max     1.000000   3.000000       0.0       0.0   1.000000       0.0   \n",
      "\n",
      "       dummy_grade_level  \n",
      "count          37.000000  \n",
      "mean            1.837838  \n",
      "std             1.166988  \n",
      "min             1.000000  \n",
      "25%             1.000000  \n",
      "50%             1.000000  \n",
      "75%             3.000000  \n",
      "max             4.000000  \n",
      "Cluster -1:\n",
      "              c1         c2  c3_grade   c4_grade    c5grade   c7_grade  \\\n",
      "count  16.000000  16.000000      16.0  16.000000  16.000000  16.000000   \n",
      "mean    1.875000   2.375000       0.0   0.562500   1.250000   1.125000   \n",
      "std     1.258306   0.885061       0.0   0.813941   0.856349   0.885061   \n",
      "min     0.000000   0.000000       0.0   0.000000   0.000000   0.000000   \n",
      "25%     1.000000   2.000000       0.0   0.000000   0.750000   0.000000   \n",
      "50%     2.500000   3.000000       0.0   0.000000   1.500000   1.000000   \n",
      "75%     3.000000   3.000000       0.0   1.000000   2.000000   2.000000   \n",
      "max     3.000000   3.000000       0.0   3.000000   2.000000   2.000000   \n",
      "\n",
      "       dummy_grade_level  \n",
      "count          16.000000  \n",
      "mean            3.687500  \n",
      "std             1.579821  \n",
      "min             1.000000  \n",
      "25%             2.000000  \n",
      "50%             4.500000  \n",
      "75%             5.000000  \n",
      "max             5.000000  \n",
      "Cluster 1:\n",
      "              c1         c2  c3_grade   c4_grade    c5grade   c7_grade  \\\n",
      "count  23.000000  23.000000      23.0  23.000000  23.000000  23.000000   \n",
      "mean    2.913043   2.695652       0.0   0.782609   1.565217   0.086957   \n",
      "std     0.288104   0.470472       0.0   0.421741   0.506870   0.288104   \n",
      "min     2.000000   2.000000       0.0   0.000000   1.000000   0.000000   \n",
      "25%     3.000000   2.000000       0.0   1.000000   1.000000   0.000000   \n",
      "50%     3.000000   3.000000       0.0   1.000000   2.000000   0.000000   \n",
      "75%     3.000000   3.000000       0.0   1.000000   2.000000   0.000000   \n",
      "max     3.000000   3.000000       0.0   1.000000   2.000000   1.000000   \n",
      "\n",
      "       dummy_grade_level  \n",
      "count               23.0  \n",
      "mean                 5.0  \n",
      "std                  0.0  \n",
      "min                  5.0  \n",
      "25%                  5.0  \n",
      "50%                  5.0  \n",
      "75%                  5.0  \n",
      "max                  5.0  \n",
      "Cluster 2:\n",
      "         c1         c2  c3_grade  c4_grade    c5grade   c7_grade  \\\n",
      "count  14.0  14.000000      14.0      14.0  14.000000  14.000000   \n",
      "mean    3.0   2.642857       0.0       3.0   1.785714   0.142857   \n",
      "std     0.0   0.497245       0.0       0.0   0.425815   0.363137   \n",
      "min     3.0   2.000000       0.0       3.0   1.000000   0.000000   \n",
      "25%     3.0   2.000000       0.0       3.0   2.000000   0.000000   \n",
      "50%     3.0   3.000000       0.0       3.0   2.000000   0.000000   \n",
      "75%     3.0   3.000000       0.0       3.0   2.000000   0.000000   \n",
      "max     3.0   3.000000       0.0       3.0   2.000000   1.000000   \n",
      "\n",
      "       dummy_grade_level  \n",
      "count               14.0  \n",
      "mean                 5.0  \n",
      "std                  0.0  \n",
      "min                  5.0  \n",
      "25%                  5.0  \n",
      "50%                  5.0  \n",
      "75%                  5.0  \n",
      "max                  5.0  \n"
     ]
    }
   ],
   "source": [
    "classify(full_data, DBSCAN(full_data, eps=1.4, min_samples=10).labels_, 'DBSCAN')"
   ],
   "metadata": {
    "collapsed": false,
    "pycharm": {
     "name": "#%%\n"
    }
   }
  },
  {
   "cell_type": "code",
   "execution_count": 24,
   "outputs": [
    {
     "name": "stderr",
     "output_type": "stream",
     "text": [
      "C:\\Users\\Simin Zuo\\AppData\\Local\\Temp\\ipykernel_25060\\3336420842.py:3: SettingWithCopyWarning:\n",
      "\n",
      "\n",
      "A value is trying to be set on a copy of a slice from a DataFrame.\n",
      "Try using .loc[row_indexer,col_indexer] = value instead\n",
      "\n",
      "See the caveats in the documentation: https://pandas.pydata.org/pandas-docs/stable/user_guide/indexing.html#returning-a-view-versus-a-copy\n",
      "\n",
      "D:\\anaconda3\\lib\\site-packages\\plotly\\express\\_core.py:279: FutureWarning:\n",
      "\n",
      "iteritems is deprecated and will be removed in a future version. Use .items instead.\n",
      "\n"
     ]
    },
    {
     "data": {
      "application/vnd.plotly.v1+json": {
       "data": [
        {
         "dimensions": [
          {
           "axis": {
            "matches": true
           },
           "label": "PC 1 (65.6%)",
           "values": [
            -1.4943262615332586,
            -1.4943262615332689,
            -1.6956658427583198,
            -1.4943262615332693,
            -0.6669863514206095,
            -1.695665842758319,
            -1.4943262615332689,
            -1.4943262615332689,
            -0.37673480831425404,
            -1.695665842758319,
            -1.4943262615332689,
            -1.4943262615332689,
            -1.695665842758319,
            -1.4943262615332689,
            -1.695665842758319,
            -1.4943262615332689,
            -1.4943262615332689,
            -0.6669863514206096,
            -1.0716022570711285,
            -1.695665842758319,
            -2.098345005208419,
            -1.4943262615332689,
            -1.4943262615332689,
            -1.4943262615332689,
            -1.4943262615332689,
            -1.8970054239833694,
            -1.8970054239833694,
            -1.695665842758319,
            -1.4943262615332689,
            -0.6488782526089885,
            -0.37673480831425404,
            -1.4943262615332689,
            -1.8970054239833694,
            -1.4943262615332689,
            -1.4943262615332689,
            -1.4943262615332689,
            -1.4943262615332689,
            -1.4943262615332689,
            -1.4943262615332689,
            -1.695665842758319,
            -1.4943262615332689,
            -0.37673480831425404,
            -1.4943262615332689,
            -1.695665842758319,
            -1.695665842758319,
            -2.098345005208419,
            -1.695665842758319,
            -1.695665842758319,
            -1.695665842758319,
            -1.695665842758319,
            -1.4943262615332689,
            -1.695665842758319,
            -2.098345005208419,
            -1.695665842758319,
            -1.695665842758319,
            -1.695665842758319,
            -1.695665842758319,
            -1.695665842758319,
            -1.695665842758319,
            -2.098345005208419,
            -2.098345005208419,
            -2.098345005208419,
            -2.098345005208419,
            -1.695665842758319,
            -1.695665842758319,
            -2.098345005208419,
            -2.098345005208419,
            -2.098345005208419,
            -2.098345005208419,
            -1.695665842758319,
            -1.695665842758319,
            -1.695665842758319,
            -1.695665842758319,
            -1.695665842758319,
            -1.695665842758319,
            -2.098345005208419,
            -1.695665842758319,
            -1.695665842758319,
            -1.695665842758319,
            -2.098345005208419,
            -1.695665842758319,
            -1.695665842758319,
            -1.4943262615332689,
            -2.098345005208419,
            -1.695665842758319,
            -2.098345005208419,
            -1.695665842758319,
            -2.098345005208419,
            -2.098345005208419,
            -1.4943262615332689,
            -1.4943262615332689,
            -2.098345005208419,
            -1.4943262615332689,
            -1.4943262615332689,
            -1.695665842758319,
            -1.4943262615332689,
            -1.695665842758319,
            -1.4943262615332689,
            -2.098345005208419,
            -2.098345005208419,
            -2.098345005208419,
            -2.098345005208419,
            -1.695665842758319,
            -1.695665842758319,
            -2.098345005208419,
            -2.098345005208419,
            -2.098345005208419,
            -1.695665842758319,
            -2.098345005208419,
            -1.695665842758319,
            -2.098345005208419,
            -1.695665842758319,
            -2.098345005208419,
            -2.098345005208419,
            -1.4943262615332689,
            -2.098345005208419,
            -2.098345005208419,
            -1.695665842758319,
            -1.4943262615332689,
            -2.098345005208419,
            -2.098345005208419,
            -2.098345005208419
           ]
          },
          {
           "axis": {
            "matches": true
           },
           "label": "PC 2 (15.2%)",
           "values": [
            -1.2650796911742743,
            -1.2650796911742763,
            -0.2962389871518282,
            -1.2650796911742763,
            -1.176816503251327,
            -0.2962389871518281,
            -1.265079691174276,
            -1.265079691174276,
            -1.1349547358401628,
            -0.2962389871518281,
            -1.265079691174276,
            -1.265079691174276,
            -0.2962389871518281,
            -1.265079691174276,
            -0.2962389871518281,
            -1.265079691174276,
            -1.265079691174276,
            -1.176816503251327,
            -1.2155729675739304,
            -0.2962389871518281,
            1.6414424208930678,
            -1.265079691174276,
            -1.265079691174276,
            -1.265079691174276,
            -1.265079691174276,
            0.6726017168706199,
            0.6726017168706199,
            -0.2962389871518281,
            -1.265079691174276,
            -1.1660662439735847,
            -1.1349547358401628,
            -1.265079691174276,
            0.6726017168706199,
            -1.265079691174276,
            -1.265079691174276,
            -1.265079691174276,
            -1.265079691174276,
            -1.265079691174276,
            -1.265079691174276,
            -0.2962389871518281,
            -1.265079691174276,
            -1.1349547358401628,
            -1.265079691174276,
            -0.2962389871518281,
            -0.2962389871518281,
            1.6414424208930678,
            -0.2962389871518281,
            -0.2962389871518281,
            -0.2962389871518281,
            -0.2962389871518281,
            -1.265079691174276,
            -0.2962389871518281,
            1.6414424208930678,
            -0.2962389871518281,
            -0.2962389871518281,
            -0.2962389871518281,
            -0.2962389871518281,
            -0.2962389871518281,
            -0.2962389871518281,
            1.6414424208930678,
            1.6414424208930678,
            1.6414424208930678,
            1.6414424208930678,
            -0.2962389871518281,
            -0.2962389871518281,
            1.6414424208930678,
            1.6414424208930678,
            1.6414424208930678,
            1.6414424208930678,
            -0.2962389871518281,
            -0.2962389871518281,
            -0.2962389871518281,
            -0.2962389871518281,
            -0.2962389871518281,
            -0.2962389871518281,
            1.6414424208930678,
            -0.2962389871518281,
            -0.2962389871518281,
            -0.2962389871518281,
            1.6414424208930678,
            -0.2962389871518281,
            -0.2962389871518281,
            -1.265079691174276,
            1.6414424208930678,
            -0.2962389871518281,
            1.6414424208930678,
            -0.2962389871518281,
            1.6414424208930678,
            1.6414424208930678,
            -1.265079691174276,
            -1.265079691174276,
            1.6414424208930678,
            -1.265079691174276,
            -1.265079691174276,
            -0.2962389871518281,
            -1.265079691174276,
            -0.2962389871518281,
            -1.265079691174276,
            1.6414424208930678,
            1.6414424208930678,
            1.6414424208930678,
            1.6414424208930678,
            -0.2962389871518281,
            -0.2962389871518281,
            1.6414424208930678,
            1.6414424208930678,
            1.6414424208930678,
            -0.2962389871518281,
            1.6414424208930678,
            -0.2962389871518281,
            1.6414424208930678,
            -0.2962389871518281,
            1.6414424208930678,
            1.6414424208930678,
            -1.265079691174276,
            1.6414424208930678,
            1.6414424208930678,
            -0.2962389871518281,
            -1.265079691174276,
            1.6414424208930678,
            1.6414424208930678,
            1.6414424208930678
           ]
          },
          {
           "axis": {
            "matches": true
           },
           "label": "PC 3 (7.3%)",
           "values": [
            0.31688930277543914,
            0.31688930277543537,
            0.1899455085135598,
            0.3168893027754347,
            0.10447325230623626,
            0.18994550851356073,
            0.31688930277543526,
            0.31688930277543526,
            -0.4523562982954862,
            0.18994550851356073,
            0.31688930277543526,
            0.31688930277543526,
            0.18994550851356073,
            0.31688930277543526,
            0.18994550851356073,
            0.31688930277543526,
            0.31688930277543526,
            0.10447325230623636,
            0.043201867171138865,
            0.18994550851356073,
            -0.06394208001018845,
            0.31688930277543526,
            0.31688930277543526,
            0.31688930277543526,
            0.31688930277543526,
            0.06300171425168612,
            0.06300171425168612,
            0.18994550851356073,
            0.31688930277543526,
            -0.2304855684331574,
            -0.4523562982954862,
            0.31688930277543526,
            0.06300171425168612,
            0.31688930277543526,
            0.31688930277543526,
            0.31688930277543526,
            0.31688930277543526,
            0.31688930277543526,
            0.31688930277543526,
            0.18994550851356073,
            0.31688930277543526,
            -0.4523562982954862,
            0.31688930277543526,
            0.18994550851356073,
            0.18994550851356073,
            -0.06394208001018845,
            0.18994550851356073,
            0.18994550851356073,
            0.18994550851356073,
            0.18994550851356073,
            0.31688930277543526,
            0.18994550851356073,
            -0.06394208001018845,
            0.18994550851356073,
            0.18994550851356073,
            0.18994550851356073,
            0.18994550851356073,
            0.18994550851356073,
            0.18994550851356073,
            -0.06394208001018845,
            -0.06394208001018845,
            -0.06394208001018845,
            -0.06394208001018845,
            0.18994550851356073,
            0.18994550851356073,
            -0.06394208001018845,
            -0.06394208001018845,
            -0.06394208001018845,
            -0.06394208001018845,
            0.18994550851356073,
            0.18994550851356073,
            0.18994550851356073,
            0.18994550851356073,
            0.18994550851356073,
            0.18994550851356073,
            -0.06394208001018845,
            0.18994550851356073,
            0.18994550851356073,
            0.18994550851356073,
            -0.06394208001018845,
            0.18994550851356073,
            0.18994550851356073,
            0.31688930277543526,
            -0.06394208001018845,
            0.18994550851356073,
            -0.06394208001018845,
            0.18994550851356073,
            -0.06394208001018845,
            -0.06394208001018845,
            0.31688930277543526,
            0.31688930277543526,
            -0.06394208001018845,
            0.31688930277543526,
            0.31688930277543526,
            0.18994550851356073,
            0.31688930277543526,
            0.18994550851356073,
            0.31688930277543526,
            -0.06394208001018845,
            -0.06394208001018845,
            -0.06394208001018845,
            -0.06394208001018845,
            0.18994550851356073,
            0.18994550851356073,
            -0.06394208001018845,
            -0.06394208001018845,
            -0.06394208001018845,
            0.18994550851356073,
            -0.06394208001018845,
            0.18994550851356073,
            -0.06394208001018845,
            0.18994550851356073,
            -0.06394208001018845,
            -0.06394208001018845,
            0.31688930277543526,
            -0.06394208001018845,
            -0.06394208001018845,
            0.18994550851356073,
            0.31688930277543526,
            -0.06394208001018845,
            -0.06394208001018845,
            -0.06394208001018845
           ]
          },
          {
           "axis": {
            "matches": true
           },
           "label": "PC 4 (6.1%)",
           "values": [
            -0.075830724343568,
            -0.07583072434356702,
            -0.04749389410795802,
            -0.07583072434356618,
            0.7787260374628503,
            -0.047493894107957534,
            -0.07583072434356677,
            -0.07583072434356677,
            0.05590423575919443,
            -0.047493894107957534,
            -0.07583072434356677,
            -0.07583072434356677,
            -0.047493894107957534,
            -0.07583072434356677,
            -0.047493894107957534,
            -0.07583072434356677,
            -0.07583072434356677,
            0.7787260374628502,
            -0.009013753909482763,
            -0.047493894107957534,
            0.00917976636326101,
            -0.07583072434356677,
            -0.07583072434356677,
            -0.07583072434356677,
            -0.07583072434356677,
            -0.01915706387234826,
            -0.01915706387234826,
            -0.047493894107957534,
            -0.07583072434356677,
            0.057803216524601145,
            0.05590423575919443,
            -0.07583072434356677,
            -0.01915706387234826,
            -0.07583072434356677,
            -0.07583072434356677,
            -0.07583072434356677,
            -0.07583072434356677,
            -0.07583072434356677,
            -0.07583072434356677,
            -0.047493894107957534,
            -0.07583072434356677,
            0.05590423575919443,
            -0.07583072434356677,
            -0.047493894107957534,
            -0.047493894107957534,
            0.00917976636326101,
            -0.047493894107957534,
            -0.047493894107957534,
            -0.047493894107957534,
            -0.047493894107957534,
            -0.07583072434356677,
            -0.047493894107957534,
            0.00917976636326101,
            -0.047493894107957534,
            -0.047493894107957534,
            -0.047493894107957534,
            -0.047493894107957534,
            -0.047493894107957534,
            -0.047493894107957534,
            0.00917976636326101,
            0.00917976636326101,
            0.00917976636326101,
            0.00917976636326101,
            -0.047493894107957534,
            -0.047493894107957534,
            0.00917976636326101,
            0.00917976636326101,
            0.00917976636326101,
            0.00917976636326101,
            -0.047493894107957534,
            -0.047493894107957534,
            -0.047493894107957534,
            -0.047493894107957534,
            -0.047493894107957534,
            -0.047493894107957534,
            0.00917976636326101,
            -0.047493894107957534,
            -0.047493894107957534,
            -0.047493894107957534,
            0.00917976636326101,
            -0.047493894107957534,
            -0.047493894107957534,
            -0.07583072434356677,
            0.00917976636326101,
            -0.047493894107957534,
            0.00917976636326101,
            -0.047493894107957534,
            0.00917976636326101,
            0.00917976636326101,
            -0.07583072434356677,
            -0.07583072434356677,
            0.00917976636326101,
            -0.07583072434356677,
            -0.07583072434356677,
            -0.047493894107957534,
            -0.07583072434356677,
            -0.047493894107957534,
            -0.07583072434356677,
            0.00917976636326101,
            0.00917976636326101,
            0.00917976636326101,
            0.00917976636326101,
            -0.047493894107957534,
            -0.047493894107957534,
            0.00917976636326101,
            0.00917976636326101,
            0.00917976636326101,
            -0.047493894107957534,
            0.00917976636326101,
            -0.047493894107957534,
            0.00917976636326101,
            -0.047493894107957534,
            0.00917976636326101,
            0.00917976636326101,
            -0.07583072434356677,
            0.00917976636326101,
            0.00917976636326101,
            -0.047493894107957534,
            -0.07583072434356677,
            0.00917976636326101,
            0.00917976636326101,
            0.009179766363261014
           ]
          }
         ],
         "hovertemplate": "color=0<br>%{xaxis.title.text}=%{x}<br>%{yaxis.title.text}=%{y}<extra></extra>",
         "legendgroup": "0",
         "marker": {
          "color": "#636efa",
          "symbol": "circle"
         },
         "name": "0",
         "showlegend": true,
         "type": "splom",
         "diagonal": {
          "visible": false
         }
        },
        {
         "dimensions": [
          {
           "axis": {
            "matches": true
           },
           "label": "PC 1 (65.6%)",
           "values": [
            1.4357240936616351,
            1.5681965550174197,
            2.123476096091622,
            1.7249714924301653,
            2.390508298197513,
            2.123476096091622,
            1.632889116098042,
            1.7249714924301653,
            1.7007520916294823,
            1.924223794260894,
            2.123476096091622,
            1.7249714924301653,
            2.3248156773166726,
            1.924223794260894,
            0.8116605079744446,
            1.7249714924301653,
            0.9380216673411677,
            1.5014997897987536,
            1.9020916728545325,
            1.302247487968025,
            1.5671924106795942,
            1.9899164151417348,
            1.9899164151417348,
            1.302247487968025,
            1.2314436248983411,
            1.2314436248983411,
            2.058783535011,
            1.435724093661635,
            1.9899164151417348,
            1.5035870691930748,
            1.926311073655215,
            1.435724093661635,
            1.926311073655215,
            1.5035870691930748,
            1.7249714924301653,
            1.435724093661635,
            1.926311073655215,
            1.302247487968025,
            1.5035870691930748,
            1.926311073655215,
            1.302247487968025,
            1.5035870691930748,
            0.9411920817919854,
            1.5671924106795942,
            0.8116605079744446,
            2.058783535011,
            1.7249714924301653,
            1.0130000891994946
           ]
          },
          {
           "axis": {
            "matches": true
           },
           "label": "PC 2 (15.2%)",
           "values": [
            -0.9242115487722815,
            -0.9165665925830999,
            0.5024213811422278,
            0.22750807124291147,
            -0.5885860654515149,
            0.5024213811422278,
            0.31954246514948254,
            0.22750807124291147,
            0.45291465754188215,
            0.36496472619256964,
            0.5024213811422278,
            0.22750807124291147,
            -0.46641932288022003,
            0.36496472619256964,
            -0.004877568350179461,
            0.22750807124291147,
            0.2389242334157148,
            0.315458002592224,
            -0.5159260464805657,
            0.17800134764256584,
            0.19329126002092922,
            0.24279798362127483,
            0.24279798362127483,
            0.17800134764256584,
            -0.8219508645133042,
            -0.8219508645133042,
            -0.7336876765903547,
            -0.9242115487722815,
            0.24279798362127483,
            -0.7908393563798821,
            -0.7413326327795365,
            -0.9242115487722815,
            -0.7413326327795365,
            -0.7908393563798821,
            0.22750807124291147,
            -0.9242115487722815,
            -0.7413326327795365,
            0.17800134764256584,
            -0.7908393563798821,
            -0.7413326327795365,
            0.17800134764256584,
            -0.7908393563798821,
            -0.8638126319244683,
            0.19329126002092922,
            -0.004877568350179461,
            -0.7336876765903547,
            0.22750807124291147,
            -0.9737182723726273
           ]
          },
          {
           "axis": {
            "matches": true
           },
           "label": "PC 3 (7.3%)",
           "values": [
            -1.7171600648330323,
            -1.4340179498356065,
            -0.3703973576058599,
            -1.2042585889113069,
            -0.09409994900185657,
            -0.3703973576058599,
            -1.0102426277894603,
            -1.2042585889113069,
            -0.09670992200156353,
            -0.7873279732585835,
            -0.3703973576058599,
            -1.2042585889113069,
            -0.24345356334398544,
            -0.7873279732585835,
            -1.5704164234906108,
            -1.2042585889113069,
            -0.5146844623228354,
            -0.5136405376542872,
            0.030233872260310907,
            -0.9305711533070103,
            -0.36428692331215795,
            -0.6379743589164544,
            -0.6379743589164544,
            -0.9305711533070103,
            -0.5817566291828075,
            -0.5817566291828075,
            -0.7941726796520061,
            -1.7171600648330325,
            -0.6379743589164544,
            -0.803627359045136,
            -1.0773147946494324,
            -1.7171600648330325,
            -1.0773147946494324,
            -0.803627359045136,
            -1.2042585889113069,
            -1.7171600648330325,
            -1.0773147946494324,
            -0.9305711533070103,
            -0.803627359045136,
            -1.0773147946494324,
            -0.9305711533070103,
            -0.803627359045136,
            -0.024927078581084887,
            -0.36428692331215795,
            -1.5704164234906108,
            -0.7941726796520061,
            -1.2042585889113069,
            -1.4434726292287363
           ]
          },
          {
           "axis": {
            "matches": true
           },
           "label": "PC 4 (6.1%)",
           "values": [
            0.2525571855306335,
            1.0421959576683726,
            0.48931609589414715,
            -0.21280989678579457,
            1.6891938135940467,
            0.48931609589414715,
            0.983020008446184,
            -0.21280989678579457,
            0.4224991254600631,
            0.13825309955417633,
            0.48931609589414715,
            -0.21280989678579457,
            0.46097926565853786,
            0.13825309955417633,
            0.21407704533215804,
            -0.21280989678579457,
            0.9181020187775067,
            0.07143612912009234,
            0.3941622952244538,
            -0.27962686721987867,
            1.2996506770556013,
            1.3664676474896855,
            1.3664676474896855,
            -0.27962686721987867,
            -0.306064716690081,
            -0.306064716690081,
            0.5484920451163361,
            0.2525571855306327,
            1.3664676474896855,
            -0.30796369745548785,
            -0.24114672702140388,
            0.2525571855306327,
            -0.24114672702140388,
            -0.30796369745548785,
            -0.21280989678579457,
            0.2525571855306327,
            -0.24114672702140388,
            -0.27962686721987867,
            -0.30796369745548785,
            -0.24114672702140388,
            -0.27962686721987867,
            -0.30796369745548785,
            0.4167570850135749,
            1.2996506770556013,
            0.21407704533215804,
            0.5484920451163361,
            -0.21280989678579457,
            0.18574021509654873
           ]
          }
         ],
         "hovertemplate": "color=1<br>%{xaxis.title.text}=%{x}<br>%{yaxis.title.text}=%{y}<extra></extra>",
         "legendgroup": "1",
         "marker": {
          "color": "#EF553B",
          "symbol": "circle"
         },
         "name": "1",
         "showlegend": true,
         "type": "splom",
         "diagonal": {
          "visible": false
         }
        },
        {
         "dimensions": [
          {
           "axis": {
            "matches": true
           },
           "label": "PC 1 (65.6%)",
           "values": [
            0.31093411885945577,
            1.3222923299800653,
            3.2806830169090473,
            3.5709345600154028,
            3.703407021371187,
            3.502067440146137,
            2.6747275300334783,
            2.3884210188031916,
            3.502067440146137,
            0.831705349986485,
            2.3884210188031916,
            0.5395170636797106,
            2.167036595566102
           ]
          },
          {
           "axis": {
            "matches": true
           },
           "label": "PC 2 (15.2%)",
           "values": [
            -1.070158099861454,
            2.165189479287808,
            -0.1272333459275302,
            -0.08537157851636619,
            -0.07772662232718451,
            0.8911140816952633,
            0.802850893772314,
            0.5177112935205912,
            0.8911140816952633,
            1.9823105632950626,
            0.5177112935205912,
            -0.03598907648360139,
            -0.5006361341022023
           ]
          },
          {
           "axis": {
            "matches": true
           },
           "label": "PC 3 (7.3%)",
           "values": [
            -0.1597595039049303,
            -1.458146177435056,
            2.15935075761979,
            1.6025212070180672,
            1.8856633220154932,
            1.7587195277536185,
            1.9711355782228173,
            0.19588687238899244,
            1.7587195277536185,
            -2.097991447618656,
            0.19588687238899244,
            -1.348545693628282,
            0.5965181022551633
           ]
          },
          {
           "axis": {
            "matches": true
           },
           "label": "PC 4 (6.1%)",
           "values": [
            1.701998750468758,
            -0.156136236314576,
            1.775670786533601,
            1.052848984829945,
            1.8424877569676852,
            1.870824587203294,
            1.0162678253968764,
            2.068593640169627,
            1.870824587203294,
            0.3375676762374605,
            2.068593640169627,
            0.21597602609756486,
            1.9734398394999337
           ]
          }
         ],
         "hovertemplate": "color=-1<br>%{xaxis.title.text}=%{x}<br>%{yaxis.title.text}=%{y}<extra></extra>",
         "legendgroup": "-1",
         "marker": {
          "color": "#00cc96",
          "symbol": "circle"
         },
         "name": "-1",
         "showlegend": true,
         "type": "splom",
         "diagonal": {
          "visible": false
         }
        },
        {
         "dimensions": [
          {
           "axis": {
            "matches": true
           },
           "label": "PC 1 (65.6%)",
           "values": [
            2.7061454524173256,
            2.7061454524173256,
            3.1703426769596237,
            2.907485033642376,
            3.1046500560787833,
            3.305989637303833,
            3.305989637303833,
            2.905397754248054,
            3.1046500560787833,
            3.1046500560787833,
            2.482673749785914,
            3.1046500560787833,
            3.1046500560787833,
            3.1046500560787833,
            3.1046500560787833,
            1.7878063010290401,
            2.905397754248054,
            3.1046500560787833,
            3.1046500560787833,
            3.039957494998161,
            3.1724299563539455,
            2.7061454524173256,
            2.7061454524173256,
            2.907485033642376,
            2.7061454524173256,
            2.907485033642376,
            2.907485033642376,
            2.484761029180236,
            2.8386179137731107,
            2.7061454524173256,
            2.907485033642376,
            2.484761029180236,
            2.907485033642376,
            2.484761029180236
           ]
          },
          {
           "axis": {
            "matches": true
           },
           "label": "PC 2 (15.2%)",
           "values": [
            0.593265903228402,
            0.593265903228402,
            0.7460124705564235,
            -0.3755748007940459,
            0.8681792131277183,
            -0.10066149089472955,
            -0.10066149089472955,
            0.7307225581780602,
            0.8681792131277183,
            0.8681792131277183,
            0.6812158345777145,
            0.8681792131277183,
            0.8681792131277183,
            0.8681792131277183,
            0.8681792131277183,
            0.6005976028439469,
            0.7307225581780602,
            0.8681792131277183,
            0.8681792131277183,
            -0.3679298446048642,
            -0.36028488841568257,
            0.593265903228402,
            0.593265903228402,
            -0.3755748007940459,
            0.593265903228402,
            -0.3755748007940459,
            -0.3755748007940459,
            -0.4250815243943916,
            0.6009108594175836,
            0.593265903228402,
            -0.3755748007940459,
            -0.4250815243943916,
            -0.3755748007940459,
            -0.4250815243943916
           ]
          },
          {
           "axis": {
            "matches": true
           },
           "label": "PC 3 (7.3%)",
           "values": [
            0.07543195145589343,
            0.07543195145589343,
            1.0586467971034692,
            0.20237574571776792,
            0.9092931827613401,
            1.0362369770232145,
            1.0362369770232145,
            0.49236256710861676,
            0.9092931827613401,
            0.9092931827613401,
            0.7660500027129131,
            0.9092931827613401,
            0.9092931827613401,
            0.9092931827613401,
            0.9092931827613401,
            1.2616081681795384,
            0.49236256710861676,
            0.9092931827613401,
            0.9092931827613401,
            0.48551786071519404,
            0.7686599757126201,
            0.07543195145589343,
            0.07543195145589343,
            0.20237574571776792,
            0.07543195145589343,
            0.20237574571776792,
            0.20237574571776792,
            0.47606318132206427,
            0.35857406645331963,
            0.07543195145589343,
            0.20237574571776792,
            0.47606318132206427,
            0.20237574571776792,
            0.47606318132206427
           ]
          },
          {
           "axis": {
            "matches": true
           },
           "label": "PC 4 (6.1%)",
           "values": [
            -1.2002177218898678,
            -1.2002177218898678,
            0.7301228187255833,
            -1.228554552125477,
            -0.4980917292099257,
            -0.5264285594455351,
            -0.5264285594455351,
            -0.8491547255498966,
            -0.4980917292099257,
            -0.4980917292099257,
            -0.9159716959839806,
            -0.4980917292099257,
            -0.4980917292099257,
            -0.4980917292099257,
            -0.4980917292099257,
            -0.9808896856526583,
            -0.8491547255498966,
            -0.4980917292099257,
            -0.4980917292099257,
            -0.4389157799877372,
            0.35072299215000247,
            -1.2002177218898678,
            -1.2002177218898678,
            -1.228554552125477,
            -1.2002177218898678,
            -1.228554552125477,
            -1.228554552125477,
            -1.295371522559561,
            -0.4105789497521278,
            -1.2002177218898678,
            -1.228554552125477,
            -1.295371522559561,
            -1.228554552125477,
            -1.295371522559561
           ]
          }
         ],
         "hovertemplate": "color=2<br>%{xaxis.title.text}=%{x}<br>%{yaxis.title.text}=%{y}<extra></extra>",
         "legendgroup": "2",
         "marker": {
          "color": "#ab63fa",
          "symbol": "circle"
         },
         "name": "2",
         "showlegend": true,
         "type": "splom",
         "diagonal": {
          "visible": false
         }
        }
       ],
       "layout": {
        "template": {
         "data": {
          "histogram2dcontour": [
           {
            "type": "histogram2dcontour",
            "colorbar": {
             "outlinewidth": 0,
             "ticks": ""
            },
            "colorscale": [
             [
              0.0,
              "#0d0887"
             ],
             [
              0.1111111111111111,
              "#46039f"
             ],
             [
              0.2222222222222222,
              "#7201a8"
             ],
             [
              0.3333333333333333,
              "#9c179e"
             ],
             [
              0.4444444444444444,
              "#bd3786"
             ],
             [
              0.5555555555555556,
              "#d8576b"
             ],
             [
              0.6666666666666666,
              "#ed7953"
             ],
             [
              0.7777777777777778,
              "#fb9f3a"
             ],
             [
              0.8888888888888888,
              "#fdca26"
             ],
             [
              1.0,
              "#f0f921"
             ]
            ]
           }
          ],
          "choropleth": [
           {
            "type": "choropleth",
            "colorbar": {
             "outlinewidth": 0,
             "ticks": ""
            }
           }
          ],
          "histogram2d": [
           {
            "type": "histogram2d",
            "colorbar": {
             "outlinewidth": 0,
             "ticks": ""
            },
            "colorscale": [
             [
              0.0,
              "#0d0887"
             ],
             [
              0.1111111111111111,
              "#46039f"
             ],
             [
              0.2222222222222222,
              "#7201a8"
             ],
             [
              0.3333333333333333,
              "#9c179e"
             ],
             [
              0.4444444444444444,
              "#bd3786"
             ],
             [
              0.5555555555555556,
              "#d8576b"
             ],
             [
              0.6666666666666666,
              "#ed7953"
             ],
             [
              0.7777777777777778,
              "#fb9f3a"
             ],
             [
              0.8888888888888888,
              "#fdca26"
             ],
             [
              1.0,
              "#f0f921"
             ]
            ]
           }
          ],
          "heatmap": [
           {
            "type": "heatmap",
            "colorbar": {
             "outlinewidth": 0,
             "ticks": ""
            },
            "colorscale": [
             [
              0.0,
              "#0d0887"
             ],
             [
              0.1111111111111111,
              "#46039f"
             ],
             [
              0.2222222222222222,
              "#7201a8"
             ],
             [
              0.3333333333333333,
              "#9c179e"
             ],
             [
              0.4444444444444444,
              "#bd3786"
             ],
             [
              0.5555555555555556,
              "#d8576b"
             ],
             [
              0.6666666666666666,
              "#ed7953"
             ],
             [
              0.7777777777777778,
              "#fb9f3a"
             ],
             [
              0.8888888888888888,
              "#fdca26"
             ],
             [
              1.0,
              "#f0f921"
             ]
            ]
           }
          ],
          "heatmapgl": [
           {
            "type": "heatmapgl",
            "colorbar": {
             "outlinewidth": 0,
             "ticks": ""
            },
            "colorscale": [
             [
              0.0,
              "#0d0887"
             ],
             [
              0.1111111111111111,
              "#46039f"
             ],
             [
              0.2222222222222222,
              "#7201a8"
             ],
             [
              0.3333333333333333,
              "#9c179e"
             ],
             [
              0.4444444444444444,
              "#bd3786"
             ],
             [
              0.5555555555555556,
              "#d8576b"
             ],
             [
              0.6666666666666666,
              "#ed7953"
             ],
             [
              0.7777777777777778,
              "#fb9f3a"
             ],
             [
              0.8888888888888888,
              "#fdca26"
             ],
             [
              1.0,
              "#f0f921"
             ]
            ]
           }
          ],
          "contourcarpet": [
           {
            "type": "contourcarpet",
            "colorbar": {
             "outlinewidth": 0,
             "ticks": ""
            }
           }
          ],
          "contour": [
           {
            "type": "contour",
            "colorbar": {
             "outlinewidth": 0,
             "ticks": ""
            },
            "colorscale": [
             [
              0.0,
              "#0d0887"
             ],
             [
              0.1111111111111111,
              "#46039f"
             ],
             [
              0.2222222222222222,
              "#7201a8"
             ],
             [
              0.3333333333333333,
              "#9c179e"
             ],
             [
              0.4444444444444444,
              "#bd3786"
             ],
             [
              0.5555555555555556,
              "#d8576b"
             ],
             [
              0.6666666666666666,
              "#ed7953"
             ],
             [
              0.7777777777777778,
              "#fb9f3a"
             ],
             [
              0.8888888888888888,
              "#fdca26"
             ],
             [
              1.0,
              "#f0f921"
             ]
            ]
           }
          ],
          "surface": [
           {
            "type": "surface",
            "colorbar": {
             "outlinewidth": 0,
             "ticks": ""
            },
            "colorscale": [
             [
              0.0,
              "#0d0887"
             ],
             [
              0.1111111111111111,
              "#46039f"
             ],
             [
              0.2222222222222222,
              "#7201a8"
             ],
             [
              0.3333333333333333,
              "#9c179e"
             ],
             [
              0.4444444444444444,
              "#bd3786"
             ],
             [
              0.5555555555555556,
              "#d8576b"
             ],
             [
              0.6666666666666666,
              "#ed7953"
             ],
             [
              0.7777777777777778,
              "#fb9f3a"
             ],
             [
              0.8888888888888888,
              "#fdca26"
             ],
             [
              1.0,
              "#f0f921"
             ]
            ]
           }
          ],
          "mesh3d": [
           {
            "type": "mesh3d",
            "colorbar": {
             "outlinewidth": 0,
             "ticks": ""
            }
           }
          ],
          "scatter": [
           {
            "fillpattern": {
             "fillmode": "overlay",
             "size": 10,
             "solidity": 0.2
            },
            "type": "scatter"
           }
          ],
          "parcoords": [
           {
            "type": "parcoords",
            "line": {
             "colorbar": {
              "outlinewidth": 0,
              "ticks": ""
             }
            }
           }
          ],
          "scatterpolargl": [
           {
            "type": "scatterpolargl",
            "marker": {
             "colorbar": {
              "outlinewidth": 0,
              "ticks": ""
             }
            }
           }
          ],
          "bar": [
           {
            "error_x": {
             "color": "#2a3f5f"
            },
            "error_y": {
             "color": "#2a3f5f"
            },
            "marker": {
             "line": {
              "color": "#E5ECF6",
              "width": 0.5
             },
             "pattern": {
              "fillmode": "overlay",
              "size": 10,
              "solidity": 0.2
             }
            },
            "type": "bar"
           }
          ],
          "scattergeo": [
           {
            "type": "scattergeo",
            "marker": {
             "colorbar": {
              "outlinewidth": 0,
              "ticks": ""
             }
            }
           }
          ],
          "scatterpolar": [
           {
            "type": "scatterpolar",
            "marker": {
             "colorbar": {
              "outlinewidth": 0,
              "ticks": ""
             }
            }
           }
          ],
          "histogram": [
           {
            "marker": {
             "pattern": {
              "fillmode": "overlay",
              "size": 10,
              "solidity": 0.2
             }
            },
            "type": "histogram"
           }
          ],
          "scattergl": [
           {
            "type": "scattergl",
            "marker": {
             "colorbar": {
              "outlinewidth": 0,
              "ticks": ""
             }
            }
           }
          ],
          "scatter3d": [
           {
            "type": "scatter3d",
            "line": {
             "colorbar": {
              "outlinewidth": 0,
              "ticks": ""
             }
            },
            "marker": {
             "colorbar": {
              "outlinewidth": 0,
              "ticks": ""
             }
            }
           }
          ],
          "scattermapbox": [
           {
            "type": "scattermapbox",
            "marker": {
             "colorbar": {
              "outlinewidth": 0,
              "ticks": ""
             }
            }
           }
          ],
          "scatterternary": [
           {
            "type": "scatterternary",
            "marker": {
             "colorbar": {
              "outlinewidth": 0,
              "ticks": ""
             }
            }
           }
          ],
          "scattercarpet": [
           {
            "type": "scattercarpet",
            "marker": {
             "colorbar": {
              "outlinewidth": 0,
              "ticks": ""
             }
            }
           }
          ],
          "carpet": [
           {
            "aaxis": {
             "endlinecolor": "#2a3f5f",
             "gridcolor": "white",
             "linecolor": "white",
             "minorgridcolor": "white",
             "startlinecolor": "#2a3f5f"
            },
            "baxis": {
             "endlinecolor": "#2a3f5f",
             "gridcolor": "white",
             "linecolor": "white",
             "minorgridcolor": "white",
             "startlinecolor": "#2a3f5f"
            },
            "type": "carpet"
           }
          ],
          "table": [
           {
            "cells": {
             "fill": {
              "color": "#EBF0F8"
             },
             "line": {
              "color": "white"
             }
            },
            "header": {
             "fill": {
              "color": "#C8D4E3"
             },
             "line": {
              "color": "white"
             }
            },
            "type": "table"
           }
          ],
          "barpolar": [
           {
            "marker": {
             "line": {
              "color": "#E5ECF6",
              "width": 0.5
             },
             "pattern": {
              "fillmode": "overlay",
              "size": 10,
              "solidity": 0.2
             }
            },
            "type": "barpolar"
           }
          ],
          "pie": [
           {
            "automargin": true,
            "type": "pie"
           }
          ]
         },
         "layout": {
          "autotypenumbers": "strict",
          "colorway": [
           "#636efa",
           "#EF553B",
           "#00cc96",
           "#ab63fa",
           "#FFA15A",
           "#19d3f3",
           "#FF6692",
           "#B6E880",
           "#FF97FF",
           "#FECB52"
          ],
          "font": {
           "color": "#2a3f5f"
          },
          "hovermode": "closest",
          "hoverlabel": {
           "align": "left"
          },
          "paper_bgcolor": "white",
          "plot_bgcolor": "#E5ECF6",
          "polar": {
           "bgcolor": "#E5ECF6",
           "angularaxis": {
            "gridcolor": "white",
            "linecolor": "white",
            "ticks": ""
           },
           "radialaxis": {
            "gridcolor": "white",
            "linecolor": "white",
            "ticks": ""
           }
          },
          "ternary": {
           "bgcolor": "#E5ECF6",
           "aaxis": {
            "gridcolor": "white",
            "linecolor": "white",
            "ticks": ""
           },
           "baxis": {
            "gridcolor": "white",
            "linecolor": "white",
            "ticks": ""
           },
           "caxis": {
            "gridcolor": "white",
            "linecolor": "white",
            "ticks": ""
           }
          },
          "coloraxis": {
           "colorbar": {
            "outlinewidth": 0,
            "ticks": ""
           }
          },
          "colorscale": {
           "sequential": [
            [
             0.0,
             "#0d0887"
            ],
            [
             0.1111111111111111,
             "#46039f"
            ],
            [
             0.2222222222222222,
             "#7201a8"
            ],
            [
             0.3333333333333333,
             "#9c179e"
            ],
            [
             0.4444444444444444,
             "#bd3786"
            ],
            [
             0.5555555555555556,
             "#d8576b"
            ],
            [
             0.6666666666666666,
             "#ed7953"
            ],
            [
             0.7777777777777778,
             "#fb9f3a"
            ],
            [
             0.8888888888888888,
             "#fdca26"
            ],
            [
             1.0,
             "#f0f921"
            ]
           ],
           "sequentialminus": [
            [
             0.0,
             "#0d0887"
            ],
            [
             0.1111111111111111,
             "#46039f"
            ],
            [
             0.2222222222222222,
             "#7201a8"
            ],
            [
             0.3333333333333333,
             "#9c179e"
            ],
            [
             0.4444444444444444,
             "#bd3786"
            ],
            [
             0.5555555555555556,
             "#d8576b"
            ],
            [
             0.6666666666666666,
             "#ed7953"
            ],
            [
             0.7777777777777778,
             "#fb9f3a"
            ],
            [
             0.8888888888888888,
             "#fdca26"
            ],
            [
             1.0,
             "#f0f921"
            ]
           ],
           "diverging": [
            [
             0,
             "#8e0152"
            ],
            [
             0.1,
             "#c51b7d"
            ],
            [
             0.2,
             "#de77ae"
            ],
            [
             0.3,
             "#f1b6da"
            ],
            [
             0.4,
             "#fde0ef"
            ],
            [
             0.5,
             "#f7f7f7"
            ],
            [
             0.6,
             "#e6f5d0"
            ],
            [
             0.7,
             "#b8e186"
            ],
            [
             0.8,
             "#7fbc41"
            ],
            [
             0.9,
             "#4d9221"
            ],
            [
             1,
             "#276419"
            ]
           ]
          },
          "xaxis": {
           "gridcolor": "white",
           "linecolor": "white",
           "ticks": "",
           "title": {
            "standoff": 15
           },
           "zerolinecolor": "white",
           "automargin": true,
           "zerolinewidth": 2
          },
          "yaxis": {
           "gridcolor": "white",
           "linecolor": "white",
           "ticks": "",
           "title": {
            "standoff": 15
           },
           "zerolinecolor": "white",
           "automargin": true,
           "zerolinewidth": 2
          },
          "scene": {
           "xaxis": {
            "backgroundcolor": "#E5ECF6",
            "gridcolor": "white",
            "linecolor": "white",
            "showbackground": true,
            "ticks": "",
            "zerolinecolor": "white",
            "gridwidth": 2
           },
           "yaxis": {
            "backgroundcolor": "#E5ECF6",
            "gridcolor": "white",
            "linecolor": "white",
            "showbackground": true,
            "ticks": "",
            "zerolinecolor": "white",
            "gridwidth": 2
           },
           "zaxis": {
            "backgroundcolor": "#E5ECF6",
            "gridcolor": "white",
            "linecolor": "white",
            "showbackground": true,
            "ticks": "",
            "zerolinecolor": "white",
            "gridwidth": 2
           }
          },
          "shapedefaults": {
           "line": {
            "color": "#2a3f5f"
           }
          },
          "annotationdefaults": {
           "arrowcolor": "#2a3f5f",
           "arrowhead": 0,
           "arrowwidth": 1
          },
          "geo": {
           "bgcolor": "white",
           "landcolor": "#E5ECF6",
           "subunitcolor": "white",
           "showland": true,
           "showlakes": true,
           "lakecolor": "white"
          },
          "title": {
           "x": 0.05
          },
          "mapbox": {
           "style": "light"
          }
         }
        },
        "legend": {
         "title": {
          "text": "color"
         },
         "tracegroupgap": 0
        },
        "margin": {
         "t": 60
        },
        "dragmode": "select"
       },
       "config": {
        "plotlyServerURL": "https://plot.ly"
       }
      },
      "text/html": "<div>                            <div id=\"ce7e690d-fecc-4855-9df4-1064accbcdb6\" class=\"plotly-graph-div\" style=\"height:525px; width:100%;\"></div>            <script type=\"text/javascript\">                require([\"plotly\"], function(Plotly) {                    window.PLOTLYENV=window.PLOTLYENV || {};                                    if (document.getElementById(\"ce7e690d-fecc-4855-9df4-1064accbcdb6\")) {                    Plotly.newPlot(                        \"ce7e690d-fecc-4855-9df4-1064accbcdb6\",                        [{\"dimensions\":[{\"axis\":{\"matches\":true},\"label\":\"PC 1 (65.6%)\",\"values\":[-1.4943262615332586,-1.4943262615332689,-1.6956658427583198,-1.4943262615332693,-0.6669863514206095,-1.695665842758319,-1.4943262615332689,-1.4943262615332689,-0.37673480831425404,-1.695665842758319,-1.4943262615332689,-1.4943262615332689,-1.695665842758319,-1.4943262615332689,-1.695665842758319,-1.4943262615332689,-1.4943262615332689,-0.6669863514206096,-1.0716022570711285,-1.695665842758319,-2.098345005208419,-1.4943262615332689,-1.4943262615332689,-1.4943262615332689,-1.4943262615332689,-1.8970054239833694,-1.8970054239833694,-1.695665842758319,-1.4943262615332689,-0.6488782526089885,-0.37673480831425404,-1.4943262615332689,-1.8970054239833694,-1.4943262615332689,-1.4943262615332689,-1.4943262615332689,-1.4943262615332689,-1.4943262615332689,-1.4943262615332689,-1.695665842758319,-1.4943262615332689,-0.37673480831425404,-1.4943262615332689,-1.695665842758319,-1.695665842758319,-2.098345005208419,-1.695665842758319,-1.695665842758319,-1.695665842758319,-1.695665842758319,-1.4943262615332689,-1.695665842758319,-2.098345005208419,-1.695665842758319,-1.695665842758319,-1.695665842758319,-1.695665842758319,-1.695665842758319,-1.695665842758319,-2.098345005208419,-2.098345005208419,-2.098345005208419,-2.098345005208419,-1.695665842758319,-1.695665842758319,-2.098345005208419,-2.098345005208419,-2.098345005208419,-2.098345005208419,-1.695665842758319,-1.695665842758319,-1.695665842758319,-1.695665842758319,-1.695665842758319,-1.695665842758319,-2.098345005208419,-1.695665842758319,-1.695665842758319,-1.695665842758319,-2.098345005208419,-1.695665842758319,-1.695665842758319,-1.4943262615332689,-2.098345005208419,-1.695665842758319,-2.098345005208419,-1.695665842758319,-2.098345005208419,-2.098345005208419,-1.4943262615332689,-1.4943262615332689,-2.098345005208419,-1.4943262615332689,-1.4943262615332689,-1.695665842758319,-1.4943262615332689,-1.695665842758319,-1.4943262615332689,-2.098345005208419,-2.098345005208419,-2.098345005208419,-2.098345005208419,-1.695665842758319,-1.695665842758319,-2.098345005208419,-2.098345005208419,-2.098345005208419,-1.695665842758319,-2.098345005208419,-1.695665842758319,-2.098345005208419,-1.695665842758319,-2.098345005208419,-2.098345005208419,-1.4943262615332689,-2.098345005208419,-2.098345005208419,-1.695665842758319,-1.4943262615332689,-2.098345005208419,-2.098345005208419,-2.098345005208419]},{\"axis\":{\"matches\":true},\"label\":\"PC 2 (15.2%)\",\"values\":[-1.2650796911742743,-1.2650796911742763,-0.2962389871518282,-1.2650796911742763,-1.176816503251327,-0.2962389871518281,-1.265079691174276,-1.265079691174276,-1.1349547358401628,-0.2962389871518281,-1.265079691174276,-1.265079691174276,-0.2962389871518281,-1.265079691174276,-0.2962389871518281,-1.265079691174276,-1.265079691174276,-1.176816503251327,-1.2155729675739304,-0.2962389871518281,1.6414424208930678,-1.265079691174276,-1.265079691174276,-1.265079691174276,-1.265079691174276,0.6726017168706199,0.6726017168706199,-0.2962389871518281,-1.265079691174276,-1.1660662439735847,-1.1349547358401628,-1.265079691174276,0.6726017168706199,-1.265079691174276,-1.265079691174276,-1.265079691174276,-1.265079691174276,-1.265079691174276,-1.265079691174276,-0.2962389871518281,-1.265079691174276,-1.1349547358401628,-1.265079691174276,-0.2962389871518281,-0.2962389871518281,1.6414424208930678,-0.2962389871518281,-0.2962389871518281,-0.2962389871518281,-0.2962389871518281,-1.265079691174276,-0.2962389871518281,1.6414424208930678,-0.2962389871518281,-0.2962389871518281,-0.2962389871518281,-0.2962389871518281,-0.2962389871518281,-0.2962389871518281,1.6414424208930678,1.6414424208930678,1.6414424208930678,1.6414424208930678,-0.2962389871518281,-0.2962389871518281,1.6414424208930678,1.6414424208930678,1.6414424208930678,1.6414424208930678,-0.2962389871518281,-0.2962389871518281,-0.2962389871518281,-0.2962389871518281,-0.2962389871518281,-0.2962389871518281,1.6414424208930678,-0.2962389871518281,-0.2962389871518281,-0.2962389871518281,1.6414424208930678,-0.2962389871518281,-0.2962389871518281,-1.265079691174276,1.6414424208930678,-0.2962389871518281,1.6414424208930678,-0.2962389871518281,1.6414424208930678,1.6414424208930678,-1.265079691174276,-1.265079691174276,1.6414424208930678,-1.265079691174276,-1.265079691174276,-0.2962389871518281,-1.265079691174276,-0.2962389871518281,-1.265079691174276,1.6414424208930678,1.6414424208930678,1.6414424208930678,1.6414424208930678,-0.2962389871518281,-0.2962389871518281,1.6414424208930678,1.6414424208930678,1.6414424208930678,-0.2962389871518281,1.6414424208930678,-0.2962389871518281,1.6414424208930678,-0.2962389871518281,1.6414424208930678,1.6414424208930678,-1.265079691174276,1.6414424208930678,1.6414424208930678,-0.2962389871518281,-1.265079691174276,1.6414424208930678,1.6414424208930678,1.6414424208930678]},{\"axis\":{\"matches\":true},\"label\":\"PC 3 (7.3%)\",\"values\":[0.31688930277543914,0.31688930277543537,0.1899455085135598,0.3168893027754347,0.10447325230623626,0.18994550851356073,0.31688930277543526,0.31688930277543526,-0.4523562982954862,0.18994550851356073,0.31688930277543526,0.31688930277543526,0.18994550851356073,0.31688930277543526,0.18994550851356073,0.31688930277543526,0.31688930277543526,0.10447325230623636,0.043201867171138865,0.18994550851356073,-0.06394208001018845,0.31688930277543526,0.31688930277543526,0.31688930277543526,0.31688930277543526,0.06300171425168612,0.06300171425168612,0.18994550851356073,0.31688930277543526,-0.2304855684331574,-0.4523562982954862,0.31688930277543526,0.06300171425168612,0.31688930277543526,0.31688930277543526,0.31688930277543526,0.31688930277543526,0.31688930277543526,0.31688930277543526,0.18994550851356073,0.31688930277543526,-0.4523562982954862,0.31688930277543526,0.18994550851356073,0.18994550851356073,-0.06394208001018845,0.18994550851356073,0.18994550851356073,0.18994550851356073,0.18994550851356073,0.31688930277543526,0.18994550851356073,-0.06394208001018845,0.18994550851356073,0.18994550851356073,0.18994550851356073,0.18994550851356073,0.18994550851356073,0.18994550851356073,-0.06394208001018845,-0.06394208001018845,-0.06394208001018845,-0.06394208001018845,0.18994550851356073,0.18994550851356073,-0.06394208001018845,-0.06394208001018845,-0.06394208001018845,-0.06394208001018845,0.18994550851356073,0.18994550851356073,0.18994550851356073,0.18994550851356073,0.18994550851356073,0.18994550851356073,-0.06394208001018845,0.18994550851356073,0.18994550851356073,0.18994550851356073,-0.06394208001018845,0.18994550851356073,0.18994550851356073,0.31688930277543526,-0.06394208001018845,0.18994550851356073,-0.06394208001018845,0.18994550851356073,-0.06394208001018845,-0.06394208001018845,0.31688930277543526,0.31688930277543526,-0.06394208001018845,0.31688930277543526,0.31688930277543526,0.18994550851356073,0.31688930277543526,0.18994550851356073,0.31688930277543526,-0.06394208001018845,-0.06394208001018845,-0.06394208001018845,-0.06394208001018845,0.18994550851356073,0.18994550851356073,-0.06394208001018845,-0.06394208001018845,-0.06394208001018845,0.18994550851356073,-0.06394208001018845,0.18994550851356073,-0.06394208001018845,0.18994550851356073,-0.06394208001018845,-0.06394208001018845,0.31688930277543526,-0.06394208001018845,-0.06394208001018845,0.18994550851356073,0.31688930277543526,-0.06394208001018845,-0.06394208001018845,-0.06394208001018845]},{\"axis\":{\"matches\":true},\"label\":\"PC 4 (6.1%)\",\"values\":[-0.075830724343568,-0.07583072434356702,-0.04749389410795802,-0.07583072434356618,0.7787260374628503,-0.047493894107957534,-0.07583072434356677,-0.07583072434356677,0.05590423575919443,-0.047493894107957534,-0.07583072434356677,-0.07583072434356677,-0.047493894107957534,-0.07583072434356677,-0.047493894107957534,-0.07583072434356677,-0.07583072434356677,0.7787260374628502,-0.009013753909482763,-0.047493894107957534,0.00917976636326101,-0.07583072434356677,-0.07583072434356677,-0.07583072434356677,-0.07583072434356677,-0.01915706387234826,-0.01915706387234826,-0.047493894107957534,-0.07583072434356677,0.057803216524601145,0.05590423575919443,-0.07583072434356677,-0.01915706387234826,-0.07583072434356677,-0.07583072434356677,-0.07583072434356677,-0.07583072434356677,-0.07583072434356677,-0.07583072434356677,-0.047493894107957534,-0.07583072434356677,0.05590423575919443,-0.07583072434356677,-0.047493894107957534,-0.047493894107957534,0.00917976636326101,-0.047493894107957534,-0.047493894107957534,-0.047493894107957534,-0.047493894107957534,-0.07583072434356677,-0.047493894107957534,0.00917976636326101,-0.047493894107957534,-0.047493894107957534,-0.047493894107957534,-0.047493894107957534,-0.047493894107957534,-0.047493894107957534,0.00917976636326101,0.00917976636326101,0.00917976636326101,0.00917976636326101,-0.047493894107957534,-0.047493894107957534,0.00917976636326101,0.00917976636326101,0.00917976636326101,0.00917976636326101,-0.047493894107957534,-0.047493894107957534,-0.047493894107957534,-0.047493894107957534,-0.047493894107957534,-0.047493894107957534,0.00917976636326101,-0.047493894107957534,-0.047493894107957534,-0.047493894107957534,0.00917976636326101,-0.047493894107957534,-0.047493894107957534,-0.07583072434356677,0.00917976636326101,-0.047493894107957534,0.00917976636326101,-0.047493894107957534,0.00917976636326101,0.00917976636326101,-0.07583072434356677,-0.07583072434356677,0.00917976636326101,-0.07583072434356677,-0.07583072434356677,-0.047493894107957534,-0.07583072434356677,-0.047493894107957534,-0.07583072434356677,0.00917976636326101,0.00917976636326101,0.00917976636326101,0.00917976636326101,-0.047493894107957534,-0.047493894107957534,0.00917976636326101,0.00917976636326101,0.00917976636326101,-0.047493894107957534,0.00917976636326101,-0.047493894107957534,0.00917976636326101,-0.047493894107957534,0.00917976636326101,0.00917976636326101,-0.07583072434356677,0.00917976636326101,0.00917976636326101,-0.047493894107957534,-0.07583072434356677,0.00917976636326101,0.00917976636326101,0.009179766363261014]}],\"hovertemplate\":\"color=0<br>%{xaxis.title.text}=%{x}<br>%{yaxis.title.text}=%{y}<extra></extra>\",\"legendgroup\":\"0\",\"marker\":{\"color\":\"#636efa\",\"symbol\":\"circle\"},\"name\":\"0\",\"showlegend\":true,\"type\":\"splom\",\"diagonal\":{\"visible\":false}},{\"dimensions\":[{\"axis\":{\"matches\":true},\"label\":\"PC 1 (65.6%)\",\"values\":[1.4357240936616351,1.5681965550174197,2.123476096091622,1.7249714924301653,2.390508298197513,2.123476096091622,1.632889116098042,1.7249714924301653,1.7007520916294823,1.924223794260894,2.123476096091622,1.7249714924301653,2.3248156773166726,1.924223794260894,0.8116605079744446,1.7249714924301653,0.9380216673411677,1.5014997897987536,1.9020916728545325,1.302247487968025,1.5671924106795942,1.9899164151417348,1.9899164151417348,1.302247487968025,1.2314436248983411,1.2314436248983411,2.058783535011,1.435724093661635,1.9899164151417348,1.5035870691930748,1.926311073655215,1.435724093661635,1.926311073655215,1.5035870691930748,1.7249714924301653,1.435724093661635,1.926311073655215,1.302247487968025,1.5035870691930748,1.926311073655215,1.302247487968025,1.5035870691930748,0.9411920817919854,1.5671924106795942,0.8116605079744446,2.058783535011,1.7249714924301653,1.0130000891994946]},{\"axis\":{\"matches\":true},\"label\":\"PC 2 (15.2%)\",\"values\":[-0.9242115487722815,-0.9165665925830999,0.5024213811422278,0.22750807124291147,-0.5885860654515149,0.5024213811422278,0.31954246514948254,0.22750807124291147,0.45291465754188215,0.36496472619256964,0.5024213811422278,0.22750807124291147,-0.46641932288022003,0.36496472619256964,-0.004877568350179461,0.22750807124291147,0.2389242334157148,0.315458002592224,-0.5159260464805657,0.17800134764256584,0.19329126002092922,0.24279798362127483,0.24279798362127483,0.17800134764256584,-0.8219508645133042,-0.8219508645133042,-0.7336876765903547,-0.9242115487722815,0.24279798362127483,-0.7908393563798821,-0.7413326327795365,-0.9242115487722815,-0.7413326327795365,-0.7908393563798821,0.22750807124291147,-0.9242115487722815,-0.7413326327795365,0.17800134764256584,-0.7908393563798821,-0.7413326327795365,0.17800134764256584,-0.7908393563798821,-0.8638126319244683,0.19329126002092922,-0.004877568350179461,-0.7336876765903547,0.22750807124291147,-0.9737182723726273]},{\"axis\":{\"matches\":true},\"label\":\"PC 3 (7.3%)\",\"values\":[-1.7171600648330323,-1.4340179498356065,-0.3703973576058599,-1.2042585889113069,-0.09409994900185657,-0.3703973576058599,-1.0102426277894603,-1.2042585889113069,-0.09670992200156353,-0.7873279732585835,-0.3703973576058599,-1.2042585889113069,-0.24345356334398544,-0.7873279732585835,-1.5704164234906108,-1.2042585889113069,-0.5146844623228354,-0.5136405376542872,0.030233872260310907,-0.9305711533070103,-0.36428692331215795,-0.6379743589164544,-0.6379743589164544,-0.9305711533070103,-0.5817566291828075,-0.5817566291828075,-0.7941726796520061,-1.7171600648330325,-0.6379743589164544,-0.803627359045136,-1.0773147946494324,-1.7171600648330325,-1.0773147946494324,-0.803627359045136,-1.2042585889113069,-1.7171600648330325,-1.0773147946494324,-0.9305711533070103,-0.803627359045136,-1.0773147946494324,-0.9305711533070103,-0.803627359045136,-0.024927078581084887,-0.36428692331215795,-1.5704164234906108,-0.7941726796520061,-1.2042585889113069,-1.4434726292287363]},{\"axis\":{\"matches\":true},\"label\":\"PC 4 (6.1%)\",\"values\":[0.2525571855306335,1.0421959576683726,0.48931609589414715,-0.21280989678579457,1.6891938135940467,0.48931609589414715,0.983020008446184,-0.21280989678579457,0.4224991254600631,0.13825309955417633,0.48931609589414715,-0.21280989678579457,0.46097926565853786,0.13825309955417633,0.21407704533215804,-0.21280989678579457,0.9181020187775067,0.07143612912009234,0.3941622952244538,-0.27962686721987867,1.2996506770556013,1.3664676474896855,1.3664676474896855,-0.27962686721987867,-0.306064716690081,-0.306064716690081,0.5484920451163361,0.2525571855306327,1.3664676474896855,-0.30796369745548785,-0.24114672702140388,0.2525571855306327,-0.24114672702140388,-0.30796369745548785,-0.21280989678579457,0.2525571855306327,-0.24114672702140388,-0.27962686721987867,-0.30796369745548785,-0.24114672702140388,-0.27962686721987867,-0.30796369745548785,0.4167570850135749,1.2996506770556013,0.21407704533215804,0.5484920451163361,-0.21280989678579457,0.18574021509654873]}],\"hovertemplate\":\"color=1<br>%{xaxis.title.text}=%{x}<br>%{yaxis.title.text}=%{y}<extra></extra>\",\"legendgroup\":\"1\",\"marker\":{\"color\":\"#EF553B\",\"symbol\":\"circle\"},\"name\":\"1\",\"showlegend\":true,\"type\":\"splom\",\"diagonal\":{\"visible\":false}},{\"dimensions\":[{\"axis\":{\"matches\":true},\"label\":\"PC 1 (65.6%)\",\"values\":[0.31093411885945577,1.3222923299800653,3.2806830169090473,3.5709345600154028,3.703407021371187,3.502067440146137,2.6747275300334783,2.3884210188031916,3.502067440146137,0.831705349986485,2.3884210188031916,0.5395170636797106,2.167036595566102]},{\"axis\":{\"matches\":true},\"label\":\"PC 2 (15.2%)\",\"values\":[-1.070158099861454,2.165189479287808,-0.1272333459275302,-0.08537157851636619,-0.07772662232718451,0.8911140816952633,0.802850893772314,0.5177112935205912,0.8911140816952633,1.9823105632950626,0.5177112935205912,-0.03598907648360139,-0.5006361341022023]},{\"axis\":{\"matches\":true},\"label\":\"PC 3 (7.3%)\",\"values\":[-0.1597595039049303,-1.458146177435056,2.15935075761979,1.6025212070180672,1.8856633220154932,1.7587195277536185,1.9711355782228173,0.19588687238899244,1.7587195277536185,-2.097991447618656,0.19588687238899244,-1.348545693628282,0.5965181022551633]},{\"axis\":{\"matches\":true},\"label\":\"PC 4 (6.1%)\",\"values\":[1.701998750468758,-0.156136236314576,1.775670786533601,1.052848984829945,1.8424877569676852,1.870824587203294,1.0162678253968764,2.068593640169627,1.870824587203294,0.3375676762374605,2.068593640169627,0.21597602609756486,1.9734398394999337]}],\"hovertemplate\":\"color=-1<br>%{xaxis.title.text}=%{x}<br>%{yaxis.title.text}=%{y}<extra></extra>\",\"legendgroup\":\"-1\",\"marker\":{\"color\":\"#00cc96\",\"symbol\":\"circle\"},\"name\":\"-1\",\"showlegend\":true,\"type\":\"splom\",\"diagonal\":{\"visible\":false}},{\"dimensions\":[{\"axis\":{\"matches\":true},\"label\":\"PC 1 (65.6%)\",\"values\":[2.7061454524173256,2.7061454524173256,3.1703426769596237,2.907485033642376,3.1046500560787833,3.305989637303833,3.305989637303833,2.905397754248054,3.1046500560787833,3.1046500560787833,2.482673749785914,3.1046500560787833,3.1046500560787833,3.1046500560787833,3.1046500560787833,1.7878063010290401,2.905397754248054,3.1046500560787833,3.1046500560787833,3.039957494998161,3.1724299563539455,2.7061454524173256,2.7061454524173256,2.907485033642376,2.7061454524173256,2.907485033642376,2.907485033642376,2.484761029180236,2.8386179137731107,2.7061454524173256,2.907485033642376,2.484761029180236,2.907485033642376,2.484761029180236]},{\"axis\":{\"matches\":true},\"label\":\"PC 2 (15.2%)\",\"values\":[0.593265903228402,0.593265903228402,0.7460124705564235,-0.3755748007940459,0.8681792131277183,-0.10066149089472955,-0.10066149089472955,0.7307225581780602,0.8681792131277183,0.8681792131277183,0.6812158345777145,0.8681792131277183,0.8681792131277183,0.8681792131277183,0.8681792131277183,0.6005976028439469,0.7307225581780602,0.8681792131277183,0.8681792131277183,-0.3679298446048642,-0.36028488841568257,0.593265903228402,0.593265903228402,-0.3755748007940459,0.593265903228402,-0.3755748007940459,-0.3755748007940459,-0.4250815243943916,0.6009108594175836,0.593265903228402,-0.3755748007940459,-0.4250815243943916,-0.3755748007940459,-0.4250815243943916]},{\"axis\":{\"matches\":true},\"label\":\"PC 3 (7.3%)\",\"values\":[0.07543195145589343,0.07543195145589343,1.0586467971034692,0.20237574571776792,0.9092931827613401,1.0362369770232145,1.0362369770232145,0.49236256710861676,0.9092931827613401,0.9092931827613401,0.7660500027129131,0.9092931827613401,0.9092931827613401,0.9092931827613401,0.9092931827613401,1.2616081681795384,0.49236256710861676,0.9092931827613401,0.9092931827613401,0.48551786071519404,0.7686599757126201,0.07543195145589343,0.07543195145589343,0.20237574571776792,0.07543195145589343,0.20237574571776792,0.20237574571776792,0.47606318132206427,0.35857406645331963,0.07543195145589343,0.20237574571776792,0.47606318132206427,0.20237574571776792,0.47606318132206427]},{\"axis\":{\"matches\":true},\"label\":\"PC 4 (6.1%)\",\"values\":[-1.2002177218898678,-1.2002177218898678,0.7301228187255833,-1.228554552125477,-0.4980917292099257,-0.5264285594455351,-0.5264285594455351,-0.8491547255498966,-0.4980917292099257,-0.4980917292099257,-0.9159716959839806,-0.4980917292099257,-0.4980917292099257,-0.4980917292099257,-0.4980917292099257,-0.9808896856526583,-0.8491547255498966,-0.4980917292099257,-0.4980917292099257,-0.4389157799877372,0.35072299215000247,-1.2002177218898678,-1.2002177218898678,-1.228554552125477,-1.2002177218898678,-1.228554552125477,-1.228554552125477,-1.295371522559561,-0.4105789497521278,-1.2002177218898678,-1.228554552125477,-1.295371522559561,-1.228554552125477,-1.295371522559561]}],\"hovertemplate\":\"color=2<br>%{xaxis.title.text}=%{x}<br>%{yaxis.title.text}=%{y}<extra></extra>\",\"legendgroup\":\"2\",\"marker\":{\"color\":\"#ab63fa\",\"symbol\":\"circle\"},\"name\":\"2\",\"showlegend\":true,\"type\":\"splom\",\"diagonal\":{\"visible\":false}}],                        {\"template\":{\"data\":{\"histogram2dcontour\":[{\"type\":\"histogram2dcontour\",\"colorbar\":{\"outlinewidth\":0,\"ticks\":\"\"},\"colorscale\":[[0.0,\"#0d0887\"],[0.1111111111111111,\"#46039f\"],[0.2222222222222222,\"#7201a8\"],[0.3333333333333333,\"#9c179e\"],[0.4444444444444444,\"#bd3786\"],[0.5555555555555556,\"#d8576b\"],[0.6666666666666666,\"#ed7953\"],[0.7777777777777778,\"#fb9f3a\"],[0.8888888888888888,\"#fdca26\"],[1.0,\"#f0f921\"]]}],\"choropleth\":[{\"type\":\"choropleth\",\"colorbar\":{\"outlinewidth\":0,\"ticks\":\"\"}}],\"histogram2d\":[{\"type\":\"histogram2d\",\"colorbar\":{\"outlinewidth\":0,\"ticks\":\"\"},\"colorscale\":[[0.0,\"#0d0887\"],[0.1111111111111111,\"#46039f\"],[0.2222222222222222,\"#7201a8\"],[0.3333333333333333,\"#9c179e\"],[0.4444444444444444,\"#bd3786\"],[0.5555555555555556,\"#d8576b\"],[0.6666666666666666,\"#ed7953\"],[0.7777777777777778,\"#fb9f3a\"],[0.8888888888888888,\"#fdca26\"],[1.0,\"#f0f921\"]]}],\"heatmap\":[{\"type\":\"heatmap\",\"colorbar\":{\"outlinewidth\":0,\"ticks\":\"\"},\"colorscale\":[[0.0,\"#0d0887\"],[0.1111111111111111,\"#46039f\"],[0.2222222222222222,\"#7201a8\"],[0.3333333333333333,\"#9c179e\"],[0.4444444444444444,\"#bd3786\"],[0.5555555555555556,\"#d8576b\"],[0.6666666666666666,\"#ed7953\"],[0.7777777777777778,\"#fb9f3a\"],[0.8888888888888888,\"#fdca26\"],[1.0,\"#f0f921\"]]}],\"heatmapgl\":[{\"type\":\"heatmapgl\",\"colorbar\":{\"outlinewidth\":0,\"ticks\":\"\"},\"colorscale\":[[0.0,\"#0d0887\"],[0.1111111111111111,\"#46039f\"],[0.2222222222222222,\"#7201a8\"],[0.3333333333333333,\"#9c179e\"],[0.4444444444444444,\"#bd3786\"],[0.5555555555555556,\"#d8576b\"],[0.6666666666666666,\"#ed7953\"],[0.7777777777777778,\"#fb9f3a\"],[0.8888888888888888,\"#fdca26\"],[1.0,\"#f0f921\"]]}],\"contourcarpet\":[{\"type\":\"contourcarpet\",\"colorbar\":{\"outlinewidth\":0,\"ticks\":\"\"}}],\"contour\":[{\"type\":\"contour\",\"colorbar\":{\"outlinewidth\":0,\"ticks\":\"\"},\"colorscale\":[[0.0,\"#0d0887\"],[0.1111111111111111,\"#46039f\"],[0.2222222222222222,\"#7201a8\"],[0.3333333333333333,\"#9c179e\"],[0.4444444444444444,\"#bd3786\"],[0.5555555555555556,\"#d8576b\"],[0.6666666666666666,\"#ed7953\"],[0.7777777777777778,\"#fb9f3a\"],[0.8888888888888888,\"#fdca26\"],[1.0,\"#f0f921\"]]}],\"surface\":[{\"type\":\"surface\",\"colorbar\":{\"outlinewidth\":0,\"ticks\":\"\"},\"colorscale\":[[0.0,\"#0d0887\"],[0.1111111111111111,\"#46039f\"],[0.2222222222222222,\"#7201a8\"],[0.3333333333333333,\"#9c179e\"],[0.4444444444444444,\"#bd3786\"],[0.5555555555555556,\"#d8576b\"],[0.6666666666666666,\"#ed7953\"],[0.7777777777777778,\"#fb9f3a\"],[0.8888888888888888,\"#fdca26\"],[1.0,\"#f0f921\"]]}],\"mesh3d\":[{\"type\":\"mesh3d\",\"colorbar\":{\"outlinewidth\":0,\"ticks\":\"\"}}],\"scatter\":[{\"fillpattern\":{\"fillmode\":\"overlay\",\"size\":10,\"solidity\":0.2},\"type\":\"scatter\"}],\"parcoords\":[{\"type\":\"parcoords\",\"line\":{\"colorbar\":{\"outlinewidth\":0,\"ticks\":\"\"}}}],\"scatterpolargl\":[{\"type\":\"scatterpolargl\",\"marker\":{\"colorbar\":{\"outlinewidth\":0,\"ticks\":\"\"}}}],\"bar\":[{\"error_x\":{\"color\":\"#2a3f5f\"},\"error_y\":{\"color\":\"#2a3f5f\"},\"marker\":{\"line\":{\"color\":\"#E5ECF6\",\"width\":0.5},\"pattern\":{\"fillmode\":\"overlay\",\"size\":10,\"solidity\":0.2}},\"type\":\"bar\"}],\"scattergeo\":[{\"type\":\"scattergeo\",\"marker\":{\"colorbar\":{\"outlinewidth\":0,\"ticks\":\"\"}}}],\"scatterpolar\":[{\"type\":\"scatterpolar\",\"marker\":{\"colorbar\":{\"outlinewidth\":0,\"ticks\":\"\"}}}],\"histogram\":[{\"marker\":{\"pattern\":{\"fillmode\":\"overlay\",\"size\":10,\"solidity\":0.2}},\"type\":\"histogram\"}],\"scattergl\":[{\"type\":\"scattergl\",\"marker\":{\"colorbar\":{\"outlinewidth\":0,\"ticks\":\"\"}}}],\"scatter3d\":[{\"type\":\"scatter3d\",\"line\":{\"colorbar\":{\"outlinewidth\":0,\"ticks\":\"\"}},\"marker\":{\"colorbar\":{\"outlinewidth\":0,\"ticks\":\"\"}}}],\"scattermapbox\":[{\"type\":\"scattermapbox\",\"marker\":{\"colorbar\":{\"outlinewidth\":0,\"ticks\":\"\"}}}],\"scatterternary\":[{\"type\":\"scatterternary\",\"marker\":{\"colorbar\":{\"outlinewidth\":0,\"ticks\":\"\"}}}],\"scattercarpet\":[{\"type\":\"scattercarpet\",\"marker\":{\"colorbar\":{\"outlinewidth\":0,\"ticks\":\"\"}}}],\"carpet\":[{\"aaxis\":{\"endlinecolor\":\"#2a3f5f\",\"gridcolor\":\"white\",\"linecolor\":\"white\",\"minorgridcolor\":\"white\",\"startlinecolor\":\"#2a3f5f\"},\"baxis\":{\"endlinecolor\":\"#2a3f5f\",\"gridcolor\":\"white\",\"linecolor\":\"white\",\"minorgridcolor\":\"white\",\"startlinecolor\":\"#2a3f5f\"},\"type\":\"carpet\"}],\"table\":[{\"cells\":{\"fill\":{\"color\":\"#EBF0F8\"},\"line\":{\"color\":\"white\"}},\"header\":{\"fill\":{\"color\":\"#C8D4E3\"},\"line\":{\"color\":\"white\"}},\"type\":\"table\"}],\"barpolar\":[{\"marker\":{\"line\":{\"color\":\"#E5ECF6\",\"width\":0.5},\"pattern\":{\"fillmode\":\"overlay\",\"size\":10,\"solidity\":0.2}},\"type\":\"barpolar\"}],\"pie\":[{\"automargin\":true,\"type\":\"pie\"}]},\"layout\":{\"autotypenumbers\":\"strict\",\"colorway\":[\"#636efa\",\"#EF553B\",\"#00cc96\",\"#ab63fa\",\"#FFA15A\",\"#19d3f3\",\"#FF6692\",\"#B6E880\",\"#FF97FF\",\"#FECB52\"],\"font\":{\"color\":\"#2a3f5f\"},\"hovermode\":\"closest\",\"hoverlabel\":{\"align\":\"left\"},\"paper_bgcolor\":\"white\",\"plot_bgcolor\":\"#E5ECF6\",\"polar\":{\"bgcolor\":\"#E5ECF6\",\"angularaxis\":{\"gridcolor\":\"white\",\"linecolor\":\"white\",\"ticks\":\"\"},\"radialaxis\":{\"gridcolor\":\"white\",\"linecolor\":\"white\",\"ticks\":\"\"}},\"ternary\":{\"bgcolor\":\"#E5ECF6\",\"aaxis\":{\"gridcolor\":\"white\",\"linecolor\":\"white\",\"ticks\":\"\"},\"baxis\":{\"gridcolor\":\"white\",\"linecolor\":\"white\",\"ticks\":\"\"},\"caxis\":{\"gridcolor\":\"white\",\"linecolor\":\"white\",\"ticks\":\"\"}},\"coloraxis\":{\"colorbar\":{\"outlinewidth\":0,\"ticks\":\"\"}},\"colorscale\":{\"sequential\":[[0.0,\"#0d0887\"],[0.1111111111111111,\"#46039f\"],[0.2222222222222222,\"#7201a8\"],[0.3333333333333333,\"#9c179e\"],[0.4444444444444444,\"#bd3786\"],[0.5555555555555556,\"#d8576b\"],[0.6666666666666666,\"#ed7953\"],[0.7777777777777778,\"#fb9f3a\"],[0.8888888888888888,\"#fdca26\"],[1.0,\"#f0f921\"]],\"sequentialminus\":[[0.0,\"#0d0887\"],[0.1111111111111111,\"#46039f\"],[0.2222222222222222,\"#7201a8\"],[0.3333333333333333,\"#9c179e\"],[0.4444444444444444,\"#bd3786\"],[0.5555555555555556,\"#d8576b\"],[0.6666666666666666,\"#ed7953\"],[0.7777777777777778,\"#fb9f3a\"],[0.8888888888888888,\"#fdca26\"],[1.0,\"#f0f921\"]],\"diverging\":[[0,\"#8e0152\"],[0.1,\"#c51b7d\"],[0.2,\"#de77ae\"],[0.3,\"#f1b6da\"],[0.4,\"#fde0ef\"],[0.5,\"#f7f7f7\"],[0.6,\"#e6f5d0\"],[0.7,\"#b8e186\"],[0.8,\"#7fbc41\"],[0.9,\"#4d9221\"],[1,\"#276419\"]]},\"xaxis\":{\"gridcolor\":\"white\",\"linecolor\":\"white\",\"ticks\":\"\",\"title\":{\"standoff\":15},\"zerolinecolor\":\"white\",\"automargin\":true,\"zerolinewidth\":2},\"yaxis\":{\"gridcolor\":\"white\",\"linecolor\":\"white\",\"ticks\":\"\",\"title\":{\"standoff\":15},\"zerolinecolor\":\"white\",\"automargin\":true,\"zerolinewidth\":2},\"scene\":{\"xaxis\":{\"backgroundcolor\":\"#E5ECF6\",\"gridcolor\":\"white\",\"linecolor\":\"white\",\"showbackground\":true,\"ticks\":\"\",\"zerolinecolor\":\"white\",\"gridwidth\":2},\"yaxis\":{\"backgroundcolor\":\"#E5ECF6\",\"gridcolor\":\"white\",\"linecolor\":\"white\",\"showbackground\":true,\"ticks\":\"\",\"zerolinecolor\":\"white\",\"gridwidth\":2},\"zaxis\":{\"backgroundcolor\":\"#E5ECF6\",\"gridcolor\":\"white\",\"linecolor\":\"white\",\"showbackground\":true,\"ticks\":\"\",\"zerolinecolor\":\"white\",\"gridwidth\":2}},\"shapedefaults\":{\"line\":{\"color\":\"#2a3f5f\"}},\"annotationdefaults\":{\"arrowcolor\":\"#2a3f5f\",\"arrowhead\":0,\"arrowwidth\":1},\"geo\":{\"bgcolor\":\"white\",\"landcolor\":\"#E5ECF6\",\"subunitcolor\":\"white\",\"showland\":true,\"showlakes\":true,\"lakecolor\":\"white\"},\"title\":{\"x\":0.05},\"mapbox\":{\"style\":\"light\"}}},\"legend\":{\"title\":{\"text\":\"color\"},\"tracegroupgap\":0},\"margin\":{\"t\":60},\"dragmode\":\"select\"},                        {\"responsive\": true}                    ).then(function(){\n                            \nvar gd = document.getElementById('ce7e690d-fecc-4855-9df4-1064accbcdb6');\nvar x = new MutationObserver(function (mutations, observer) {{\n        var display = window.getComputedStyle(gd).display;\n        if (!display || display === 'none') {{\n            console.log([gd, 'removed!']);\n            Plotly.purge(gd);\n            observer.disconnect();\n        }}\n}});\n\n// Listen for the removal of the full notebook cells\nvar notebookContainer = gd.closest('#notebook-container');\nif (notebookContainer) {{\n    x.observe(notebookContainer, {childList: true});\n}}\n\n// Listen for the clearing of the current output cell\nvar outputEl = gd.closest('.output');\nif (outputEl) {{\n    x.observe(outputEl, {childList: true});\n}}\n\n                        })                };                });            </script>        </div>"
     },
     "metadata": {},
     "output_type": "display_data"
    }
   ],
   "source": [
    "pca(full_data, DBSCAN(full_data, eps=1.4, min_samples=10).labels_)"
   ],
   "metadata": {
    "collapsed": false,
    "pycharm": {
     "name": "#%%\n"
    }
   }
  },
  {
   "cell_type": "code",
   "execution_count": 100,
   "outputs": [
    {
     "data": {
      "text/plain": "<Figure size 432x288 with 1 Axes>",
      "image/png": "[encoded data removed]"
     },
     "metadata": {
      "needs_background": "light"
     },
     "output_type": "display_data"
    }
   ],
   "source": [
    "### Mean Shift\n",
    "re = []\n",
    "num_clu = []\n",
    "num_noise = []\n",
    "tuner = np.arange(1,11)\n",
    "for bandwidth in tuner:\n",
    "    re.append(within_group_square(full_data,meanShift(full_data, bandwidth=bandwidth).labels_))\n",
    "    model = meanShift(full_data, bandwidth)\n",
    "    n_clusters_ = len(set(model.labels_)) - (1 if -1 in model.labels_ else 0)\n",
    "    num_clu.append(n_clusters_)\n",
    "    n_noise_ = list(model.labels_).count(-1)\n",
    "    num_noise.append(n_noise_)\n",
    "\n",
    "plt.plot(tuner, re, linewidth=2, color='tan', label=\"sum of within group variance\")\n",
    "plt.scatter(tuner, num_clu, s=1, marker=\"^\", label=\"number of clusters\")\n",
    "plt.scatter(tuner, num_noise, s=1, marker=\"D\", label=\"number of noises\")\n",
    "plt.legend(loc=\"best\")\n",
    "plt.title(\"Mean Shift Tuning - bandwidth\", fontsize=19, weight=\"bold\")\n",
    "# plt.xlabel(\"This is x axis\", fontsize=20, weight=\"bold\")\n",
    "# plt.ylabel(\"This is y axis\")\n",
    "plt.savefig(\"./demo-2.svg\", dpi=400, bbox_inches=\"tight\")\n",
    "plt.show()"
   ],
   "metadata": {
    "collapsed": false,
    "pycharm": {
     "name": "#%%\n"
    }
   }
  },
  {
   "cell_type": "code",
   "execution_count": 86,
   "outputs": [
    {
     "name": "stdout",
     "output_type": "stream",
     "text": [
      "Cluster 1:\n",
      "              c1         c2  c3_grade  c4_grade    c5grade   c7_grade  \\\n",
      "count  45.000000  45.000000      45.0      45.0  45.000000  45.000000   \n",
      "mean    0.200000   2.622222       0.0       0.0   0.222222   0.088889   \n",
      "std     0.547723   0.716332       0.0       0.0   0.559581   0.358166   \n",
      "min     0.000000   0.000000       0.0       0.0   0.000000   0.000000   \n",
      "25%     0.000000   2.000000       0.0       0.0   0.000000   0.000000   \n",
      "50%     0.000000   3.000000       0.0       0.0   0.000000   0.000000   \n",
      "75%     0.000000   3.000000       0.0       0.0   0.000000   0.000000   \n",
      "max     3.000000   3.000000       0.0       0.0   2.000000   2.000000   \n",
      "\n",
      "       dummy_grade_level  \n",
      "count          45.000000  \n",
      "mean            2.000000  \n",
      "std             1.261312  \n",
      "min             1.000000  \n",
      "25%             1.000000  \n",
      "50%             1.000000  \n",
      "75%             3.000000  \n",
      "max             5.000000  \n",
      "Cluster 0:\n",
      "              c1         c2  c3_grade   c4_grade    c5grade   c7_grade  \\\n",
      "count  45.000000  45.000000      45.0  45.000000  45.000000  45.000000   \n",
      "mean    2.933333   2.622222       0.0   1.533333   1.644444   0.400000   \n",
      "std     0.252262   0.490310       0.0   1.099587   0.484090   0.719848   \n",
      "min     2.000000   2.000000       0.0   0.000000   1.000000   0.000000   \n",
      "25%     3.000000   2.000000       0.0   1.000000   1.000000   0.000000   \n",
      "50%     3.000000   3.000000       0.0   1.000000   2.000000   0.000000   \n",
      "75%     3.000000   3.000000       0.0   3.000000   2.000000   1.000000   \n",
      "max     3.000000   3.000000       0.0   3.000000   2.000000   2.000000   \n",
      "\n",
      "       dummy_grade_level  \n",
      "count          45.000000  \n",
      "mean            4.933333  \n",
      "std             0.447214  \n",
      "min             2.000000  \n",
      "25%             5.000000  \n",
      "50%             5.000000  \n",
      "75%             5.000000  \n",
      "max             5.000000  \n"
     ]
    }
   ],
   "source": [
    "classify(full_data,meanShift(full_data, bandwidth=3).labels_, 'meanShift')"
   ],
   "metadata": {
    "collapsed": false,
    "pycharm": {
     "name": "#%%\n"
    }
   }
  },
  {
   "cell_type": "code",
   "execution_count": 87,
   "outputs": [
    {
     "name": "stderr",
     "output_type": "stream",
     "text": [
      "D:\\anaconda3\\lib\\site-packages\\plotly\\express\\_core.py:279: FutureWarning:\n",
      "\n",
      "iteritems is deprecated and will be removed in a future version. Use .items instead.\n",
      "\n"
     ]
    },
    {
     "data": {
      "application/vnd.plotly.v1+json": {
       "data": [
        {
         "dimensions": [
          {
           "axis": {
            "matches": true
           },
           "label": "PC 1 (73.8%)",
           "values": [
            2.455574355125071,
            1.7728614009806418,
            1.0682534550337992,
            3.138287309269505,
            1.1448369228950248,
            0.8507591179468698,
            3.116392317467094,
            3.138287309269506,
            1.772861400980642,
            2.275374168109534,
            3.116392317467094,
            3.138287309269506,
            3.138287309269506,
            1.7509664091782309,
            3.138287309269506,
            3.116392317467094,
            1.0901484468362101,
            3.138287309269506,
            1.8275498770394567,
            2.8370760771122283,
            1.068253455033799,
            0.34175051728454553,
            3.138287309269506,
            1.772861400980642,
            2.455574355125074,
            3.138287309269506,
            1.8415177977864117,
            3.0944973256646833,
            1.72907141737582,
            1.7509664091782309,
            3.138287309269506,
            1.85315189081052,
            2.275374168109534,
            3.138287309269506,
            1.0463584632313878,
            3.138287309269506,
            3.138287309269506,
            3.138287309269506,
            3.138287309269506,
            1.772861400980642,
            3.138287309269506,
            1.068253455033799,
            3.138287309269506,
            0.22723530567623873,
            1.0901484468362101
           ]
          },
          {
           "axis": {
            "matches": true
           },
           "label": "PC 2 (10.3%)",
           "values": [
            0.1297362444028717,
            0.7840563043135923,
            1.8267146595324668,
            -0.5245838155078518,
            0.31174241652520757,
            -2.401800431451279,
            -0.13624552019969977,
            -0.5245838155078517,
            0.7840563043135923,
            -1.2776023435874453,
            -0.13624552019969996,
            -0.5245838155078517,
            -0.5245838155078517,
            1.172394599621744,
            -0.5245838155078517,
            -0.13624552019969996,
            1.4383763642243141,
            -0.5245838155078517,
            -0.342577643385514,
            -0.9064227838032058,
            1.826714659532466,
            3.2577113100594914,
            -0.5245838155078517,
            0.7840563043135923,
            0.1297362444028702,
            -0.5245838155078517,
            -1.8617099678910893,
            0.2520927751084521,
            1.5607328949298955,
            1.172394599621744,
            -0.5245838155078517,
            -0.633941692187838,
            -1.2776023435874453,
            -0.5245838155078517,
            2.2150529548406177,
            -0.5245838155078517,
            -0.5245838155078517,
            -0.5245838155078517,
            -0.5245838155078517,
            0.7840563043135923,
            -0.5245838155078517,
            1.826714659532466,
            -0.5245838155078517,
            0.6853578361447202,
            1.4383763642243141
           ]
          },
          {
           "axis": {
            "matches": true
           },
           "label": "PC 3 (6.6%)",
           "values": [
            -0.19047484101506124,
            -0.1934770500223552,
            -0.29040540726907915,
            -0.18747263200776526,
            0.4631816758967144,
            1.4037881432864365,
            -0.28139878024719234,
            -0.18747263200776423,
            -0.1934770500223553,
            0.4287613668396422,
            -0.28139878024719234,
            -0.18747263200776423,
            -0.18747263200776423,
            -0.2874031982617834,
            -0.18747263200776423,
            -0.28139878024719234,
            -0.19647925902965085,
            -0.18747263200776423,
            0.4661838849040098,
            0.06996858924025447,
            -0.29040540726907893,
            -0.48125991275523067,
            -0.18747263200776423,
            -0.1934770500223553,
            -0.19047484101505976,
            -0.18747263200776423,
            1.2819344847270246,
            -0.3753249284866204,
            -0.3813293465012115,
            -0.2874031982617834,
            -0.18747263200776423,
            0.3244076014809776,
            0.4287613668396422,
            -0.18747263200776423,
            -0.38433155550850695,
            -0.18747263200776423,
            -0.18747263200776423,
            -0.18747263200776423,
            -0.18747263200776423,
            -0.1934770500223553,
            -0.18747263200776423,
            -0.29040540726907893,
            -0.18747263200776423,
            0.41975473981775563,
            -0.19647925902965085
           ]
          },
          {
           "axis": {
            "matches": true
           },
           "label": "PC 4 (4.4%)",
           "values": [
            -0.29420389935857005,
            -0.46982537542710734,
            0.013200206256154647,
            -0.11858242329003288,
            0.20635368090098635,
            -0.12153498981823442,
            0.5400646344617658,
            -0.11858242329003292,
            -0.4698253754271069,
            -0.10440425492540412,
            0.5400646344617658,
            -0.11858242329003292,
            -0.11858242329003292,
            0.1888216823246919,
            -0.11858242329003292,
            0.5400646344617658,
            -0.6454468514956438,
            -0.11858242329003292,
            0.3819751569695234,
            -0.07309535166794495,
            0.013200206256154881,
            1.1548728456912154,
            -0.11858242329003292,
            -0.4698253754271069,
            -0.29420389935856994,
            -0.11858242329003292,
            1.3560587358677885,
            1.198711692213564,
            0.8474687400764904,
            0.1888216823246919,
            -0.11858242329003292,
            -0.20322975611439398,
            -0.10440425492540412,
            -0.11858242329003292,
            0.6718472640079535,
            -0.11858242329003292,
            -0.11858242329003292,
            -0.11858242329003292,
            -0.11858242329003292,
            -0.4698253754271069,
            -0.11858242329003292,
            0.013200206256154881,
            -0.11858242329003292,
            -0.631268683131015,
            -0.6454468514956438
           ]
          }
         ],
         "hovertemplate": "color=1<br>%{xaxis.title.text}=%{x}<br>%{yaxis.title.text}=%{y}<extra></extra>",
         "legendgroup": "1",
         "marker": {
          "color": "#636efa",
          "symbol": "circle"
         },
         "name": "1",
         "showlegend": true,
         "type": "splom",
         "diagonal": {
          "visible": false
         }
        },
        {
         "dimensions": [
          {
           "axis": {
            "matches": true
           },
           "label": "PC 1 (73.8%)",
           "values": [
            0.10172359471951523,
            -1.951187227877357,
            -2.0838323660432025,
            -2.38504359820048,
            -2.9976475765178767,
            -2.38504359820048,
            -1.951187227877357,
            -1.66880155922953,
            -3.0639701456007997,
            -2.9532199992373656,
            -2.9532199992373656,
            -1.66880155922953,
            -2.296826037315146,
            -1.8800926986308573,
            -2.38504359820048,
            -2.9313250074349537,
            -2.9532199992373656,
            -1.9292922360749454,
            -2.230503468232223,
            -2.9313250074349537,
            -2.9313250074349537,
            -1.8800926986308573,
            -2.230503468232223,
            -1.9292922360749454,
            -2.6301137752776764,
            -2.2523984600346343,
            -1.8800926986308573,
            -2.230503468232223,
            -3.0195425683202886,
            -2.9532199992373656,
            -1.951187227877357,
            -1.9292922360749454,
            -2.230503468232223,
            -1.951187227877357,
            -1.9292922360749454,
            -2.9313250074349537,
            -1.4339128961551753,
            -2.0838323660432025,
            -1.6007764582759918,
            -2.6301137752776764,
            -2.296826037315146,
            -2.9313250074349537,
            -2.2523984600346343,
            -2.630113775277677,
            -1.5788814664735804
           ]
          },
          {
           "axis": {
            "matches": true
           },
           "label": "PC 2 (10.3%)",
           "values": [
            -1.848614699544702,
            0.6289285868317513,
            0.42665993082346204,
            0.044820962528107855,
            -0.9558399747026249,
            0.044820962528107855,
            0.6289285868317513,
            0.22993088301248538,
            -1.0569743027067697,
            -0.4663673513903287,
            -0.4663673513903287,
            0.22993088301248538,
            -0.24238300477589927,
            0.21547980819160842,
            0.044820962528107855,
            -0.8547056466984804,
            -0.4663673513903287,
            0.24059029152359962,
            -0.14124867677175448,
            -0.8547056466984804,
            -0.8547056466984804,
            0.21547980819160842,
            -0.14124867677175448,
            0.24059029152359962,
            -0.4728666784031263,
            0.24708961853639727,
            0.21547980819160842,
            -0.14124867677175448,
            -0.5675016793944734,
            -0.4663673513903287,
            0.6289285868317513,
            0.24059029152359962,
            -0.14124867677175448,
            0.6289285868317513,
            0.24059029152359962,
            -0.8547056466984804,
            0.5106355233036947,
            0.42665993082346204,
            0.9856570717951142,
            -0.4728666784031263,
            -0.24238300477589927,
            -0.8547056466984804,
            0.24708961853639727,
            -0.4728666784031264,
            0.5973187764869626
           ]
          },
          {
           "axis": {
            "matches": true
           },
           "label": "PC 3 (6.6%)",
           "values": [
            1.6986518825988228,
            0.19931949184341197,
            0.7950513884827759,
            1.0524926097307947,
            -0.8336320822022505,
            1.0524926097307947,
            0.19931949184341197,
            0.19189408373147104,
            -0.5357661338825683,
            -1.2254241787613607,
            -1.2254241787613607,
            0.19189408373147104,
            0.8485528096505407,
            1.3917793072572544,
            1.0524926097307947,
            -1.1314980305219322,
            -1.2254241787613607,
            0.29324564008284,
            0.5506868613308588,
            -1.1314980305219322,
            -1.1314980305219322,
            1.3917793072572544,
            0.5506868613308588,
            0.29324564008284,
            -1.388939251769951,
            0.4567607130914307,
            1.3917793072572544,
            0.5506868613308588,
            -0.927558230441679,
            -1.2254241787613607,
            0.19931949184341197,
            0.29324564008284,
            0.5506868613308588,
            0.19931949184341197,
            0.29324564008284,
            -1.1314980305219322,
            0.23231881080313416,
            0.7950513884827759,
            1.0404119377698076,
            -1.388939251769951,
            0.8485528096505407,
            -1.1314980305219322,
            0.4567607130914307,
            -1.3889392517699513,
            1.1343380860092356
           ]
          },
          {
           "axis": {
            "matches": true
           },
           "label": "PC 4 (4.4%)",
           "values": [
            0.410331493698781,
            -0.0326682695290306,
            1.3823076496420743,
            1.4277947212641624,
            0.4180449807940919,
            1.4277947212641624,
            -0.0326682695290306,
            -0.6145193524012825,
            1.1255329403796448,
            0.3692040789603385,
            0.3692040789603385,
            -0.6145193524012825,
            0.06165970392681086,
            -0.8240208940923822,
            1.4277947212641624,
            -0.2894429787914603,
            0.3692040789603385,
            -0.6913153272808296,
            -0.6458282556587416,
            -0.2894429787914603,
            -0.2894429787914603,
            -0.8240208940923822,
            -0.6458282556587416,
            -0.6913153272808296,
            -0.3349300504135483,
            0.012818802093057293,
            -0.8240208940923822,
            -0.6458282556587416,
            1.076692038545891,
            0.3692040789603385,
            -0.0326682695290306,
            -0.6913153272808296,
            -0.6458282556587416,
            -0.0326682695290306,
            -0.6913153272808296,
            -0.2894429787914603,
            0.04748153556218199,
            1.3823076496420743,
            -0.21086090796267115,
            -0.3349300504135483,
            0.06165970392681086,
            -0.2894429787914603,
            0.012818802093057293,
            -0.3349300504135483,
            -0.86950796571447
           ]
          }
         ],
         "hovertemplate": "color=0<br>%{xaxis.title.text}=%{x}<br>%{yaxis.title.text}=%{y}<extra></extra>",
         "legendgroup": "0",
         "marker": {
          "color": "#EF553B",
          "symbol": "circle"
         },
         "name": "0",
         "showlegend": true,
         "type": "splom",
         "diagonal": {
          "visible": false
         }
        }
       ],
       "layout": {
        "template": {
         "data": {
          "histogram2dcontour": [
           {
            "type": "histogram2dcontour",
            "colorbar": {
             "outlinewidth": 0,
             "ticks": ""
            },
            "colorscale": [
             [
              0.0,
              "#0d0887"
             ],
             [
              0.1111111111111111,
              "#46039f"
             ],
             [
              0.2222222222222222,
              "#7201a8"
             ],
             [
              0.3333333333333333,
              "#9c179e"
             ],
             [
              0.4444444444444444,
              "#bd3786"
             ],
             [
              0.5555555555555556,
              "#d8576b"
             ],
             [
              0.6666666666666666,
              "#ed7953"
             ],
             [
              0.7777777777777778,
              "#fb9f3a"
             ],
             [
              0.8888888888888888,
              "#fdca26"
             ],
             [
              1.0,
              "#f0f921"
             ]
            ]
           }
          ],
          "choropleth": [
           {
            "type": "choropleth",
            "colorbar": {
             "outlinewidth": 0,
             "ticks": ""
            }
           }
          ],
          "histogram2d": [
           {
            "type": "histogram2d",
            "colorbar": {
             "outlinewidth": 0,
             "ticks": ""
            },
            "colorscale": [
             [
              0.0,
              "#0d0887"
             ],
             [
              0.1111111111111111,
              "#46039f"
             ],
             [
              0.2222222222222222,
              "#7201a8"
             ],
             [
              0.3333333333333333,
              "#9c179e"
             ],
             [
              0.4444444444444444,
              "#bd3786"
             ],
             [
              0.5555555555555556,
              "#d8576b"
             ],
             [
              0.6666666666666666,
              "#ed7953"
             ],
             [
              0.7777777777777778,
              "#fb9f3a"
             ],
             [
              0.8888888888888888,
              "#fdca26"
             ],
             [
              1.0,
              "#f0f921"
             ]
            ]
           }
          ],
          "heatmap": [
           {
            "type": "heatmap",
            "colorbar": {
             "outlinewidth": 0,
             "ticks": ""
            },
            "colorscale": [
             [
              0.0,
              "#0d0887"
             ],
             [
              0.1111111111111111,
              "#46039f"
             ],
             [
              0.2222222222222222,
              "#7201a8"
             ],
             [
              0.3333333333333333,
              "#9c179e"
             ],
             [
              0.4444444444444444,
              "#bd3786"
             ],
             [
              0.5555555555555556,
              "#d8576b"
             ],
             [
              0.6666666666666666,
              "#ed7953"
             ],
             [
              0.7777777777777778,
              "#fb9f3a"
             ],
             [
              0.8888888888888888,
              "#fdca26"
             ],
             [
              1.0,
              "#f0f921"
             ]
            ]
           }
          ],
          "heatmapgl": [
           {
            "type": "heatmapgl",
            "colorbar": {
             "outlinewidth": 0,
             "ticks": ""
            },
            "colorscale": [
             [
              0.0,
              "#0d0887"
             ],
             [
              0.1111111111111111,
              "#46039f"
             ],
             [
              0.2222222222222222,
              "#7201a8"
             ],
             [
              0.3333333333333333,
              "#9c179e"
             ],
             [
              0.4444444444444444,
              "#bd3786"
             ],
             [
              0.5555555555555556,
              "#d8576b"
             ],
             [
              0.6666666666666666,
              "#ed7953"
             ],
             [
              0.7777777777777778,
              "#fb9f3a"
             ],
             [
              0.8888888888888888,
              "#fdca26"
             ],
             [
              1.0,
              "#f0f921"
             ]
            ]
           }
          ],
          "contourcarpet": [
           {
            "type": "contourcarpet",
            "colorbar": {
             "outlinewidth": 0,
             "ticks": ""
            }
           }
          ],
          "contour": [
           {
            "type": "contour",
            "colorbar": {
             "outlinewidth": 0,
             "ticks": ""
            },
            "colorscale": [
             [
              0.0,
              "#0d0887"
             ],
             [
              0.1111111111111111,
              "#46039f"
             ],
             [
              0.2222222222222222,
              "#7201a8"
             ],
             [
              0.3333333333333333,
              "#9c179e"
             ],
             [
              0.4444444444444444,
              "#bd3786"
             ],
             [
              0.5555555555555556,
              "#d8576b"
             ],
             [
              0.6666666666666666,
              "#ed7953"
             ],
             [
              0.7777777777777778,
              "#fb9f3a"
             ],
             [
              0.8888888888888888,
              "#fdca26"
             ],
             [
              1.0,
              "#f0f921"
             ]
            ]
           }
          ],
          "surface": [
           {
            "type": "surface",
            "colorbar": {
             "outlinewidth": 0,
             "ticks": ""
            },
            "colorscale": [
             [
              0.0,
              "#0d0887"
             ],
             [
              0.1111111111111111,
              "#46039f"
             ],
             [
              0.2222222222222222,
              "#7201a8"
             ],
             [
              0.3333333333333333,
              "#9c179e"
             ],
             [
              0.4444444444444444,
              "#bd3786"
             ],
             [
              0.5555555555555556,
              "#d8576b"
             ],
             [
              0.6666666666666666,
              "#ed7953"
             ],
             [
              0.7777777777777778,
              "#fb9f3a"
             ],
             [
              0.8888888888888888,
              "#fdca26"
             ],
             [
              1.0,
              "#f0f921"
             ]
            ]
           }
          ],
          "mesh3d": [
           {
            "type": "mesh3d",
            "colorbar": {
             "outlinewidth": 0,
             "ticks": ""
            }
           }
          ],
          "scatter": [
           {
            "fillpattern": {
             "fillmode": "overlay",
             "size": 10,
             "solidity": 0.2
            },
            "type": "scatter"
           }
          ],
          "parcoords": [
           {
            "type": "parcoords",
            "line": {
             "colorbar": {
              "outlinewidth": 0,
              "ticks": ""
             }
            }
           }
          ],
          "scatterpolargl": [
           {
            "type": "scatterpolargl",
            "marker": {
             "colorbar": {
              "outlinewidth": 0,
              "ticks": ""
             }
            }
           }
          ],
          "bar": [
           {
            "error_x": {
             "color": "#2a3f5f"
            },
            "error_y": {
             "color": "#2a3f5f"
            },
            "marker": {
             "line": {
              "color": "#E5ECF6",
              "width": 0.5
             },
             "pattern": {
              "fillmode": "overlay",
              "size": 10,
              "solidity": 0.2
             }
            },
            "type": "bar"
           }
          ],
          "scattergeo": [
           {
            "type": "scattergeo",
            "marker": {
             "colorbar": {
              "outlinewidth": 0,
              "ticks": ""
             }
            }
           }
          ],
          "scatterpolar": [
           {
            "type": "scatterpolar",
            "marker": {
             "colorbar": {
              "outlinewidth": 0,
              "ticks": ""
             }
            }
           }
          ],
          "histogram": [
           {
            "marker": {
             "pattern": {
              "fillmode": "overlay",
              "size": 10,
              "solidity": 0.2
             }
            },
            "type": "histogram"
           }
          ],
          "scattergl": [
           {
            "type": "scattergl",
            "marker": {
             "colorbar": {
              "outlinewidth": 0,
              "ticks": ""
             }
            }
           }
          ],
          "scatter3d": [
           {
            "type": "scatter3d",
            "line": {
             "colorbar": {
              "outlinewidth": 0,
              "ticks": ""
             }
            },
            "marker": {
             "colorbar": {
              "outlinewidth": 0,
              "ticks": ""
             }
            }
           }
          ],
          "scattermapbox": [
           {
            "type": "scattermapbox",
            "marker": {
             "colorbar": {
              "outlinewidth": 0,
              "ticks": ""
             }
            }
           }
          ],
          "scatterternary": [
           {
            "type": "scatterternary",
            "marker": {
             "colorbar": {
              "outlinewidth": 0,
              "ticks": ""
             }
            }
           }
          ],
          "scattercarpet": [
           {
            "type": "scattercarpet",
            "marker": {
             "colorbar": {
              "outlinewidth": 0,
              "ticks": ""
             }
            }
           }
          ],
          "carpet": [
           {
            "aaxis": {
             "endlinecolor": "#2a3f5f",
             "gridcolor": "white",
             "linecolor": "white",
             "minorgridcolor": "white",
             "startlinecolor": "#2a3f5f"
            },
            "baxis": {
             "endlinecolor": "#2a3f5f",
             "gridcolor": "white",
             "linecolor": "white",
             "minorgridcolor": "white",
             "startlinecolor": "#2a3f5f"
            },
            "type": "carpet"
           }
          ],
          "table": [
           {
            "cells": {
             "fill": {
              "color": "#EBF0F8"
             },
             "line": {
              "color": "white"
             }
            },
            "header": {
             "fill": {
              "color": "#C8D4E3"
             },
             "line": {
              "color": "white"
             }
            },
            "type": "table"
           }
          ],
          "barpolar": [
           {
            "marker": {
             "line": {
              "color": "#E5ECF6",
              "width": 0.5
             },
             "pattern": {
              "fillmode": "overlay",
              "size": 10,
              "solidity": 0.2
             }
            },
            "type": "barpolar"
           }
          ],
          "pie": [
           {
            "automargin": true,
            "type": "pie"
           }
          ]
         },
         "layout": {
          "autotypenumbers": "strict",
          "colorway": [
           "#636efa",
           "#EF553B",
           "#00cc96",
           "#ab63fa",
           "#FFA15A",
           "#19d3f3",
           "#FF6692",
           "#B6E880",
           "#FF97FF",
           "#FECB52"
          ],
          "font": {
           "color": "#2a3f5f"
          },
          "hovermode": "closest",
          "hoverlabel": {
           "align": "left"
          },
          "paper_bgcolor": "white",
          "plot_bgcolor": "#E5ECF6",
          "polar": {
           "bgcolor": "#E5ECF6",
           "angularaxis": {
            "gridcolor": "white",
            "linecolor": "white",
            "ticks": ""
           },
           "radialaxis": {
            "gridcolor": "white",
            "linecolor": "white",
            "ticks": ""
           }
          },
          "ternary": {
           "bgcolor": "#E5ECF6",
           "aaxis": {
            "gridcolor": "white",
            "linecolor": "white",
            "ticks": ""
           },
           "baxis": {
            "gridcolor": "white",
            "linecolor": "white",
            "ticks": ""
           },
           "caxis": {
            "gridcolor": "white",
            "linecolor": "white",
            "ticks": ""
           }
          },
          "coloraxis": {
           "colorbar": {
            "outlinewidth": 0,
            "ticks": ""
           }
          },
          "colorscale": {
           "sequential": [
            [
             0.0,
             "#0d0887"
            ],
            [
             0.1111111111111111,
             "#46039f"
            ],
            [
             0.2222222222222222,
             "#7201a8"
            ],
            [
             0.3333333333333333,
             "#9c179e"
            ],
            [
             0.4444444444444444,
             "#bd3786"
            ],
            [
             0.5555555555555556,
             "#d8576b"
            ],
            [
             0.6666666666666666,
             "#ed7953"
            ],
            [
             0.7777777777777778,
             "#fb9f3a"
            ],
            [
             0.8888888888888888,
             "#fdca26"
            ],
            [
             1.0,
             "#f0f921"
            ]
           ],
           "sequentialminus": [
            [
             0.0,
             "#0d0887"
            ],
            [
             0.1111111111111111,
             "#46039f"
            ],
            [
             0.2222222222222222,
             "#7201a8"
            ],
            [
             0.3333333333333333,
             "#9c179e"
            ],
            [
             0.4444444444444444,
             "#bd3786"
            ],
            [
             0.5555555555555556,
             "#d8576b"
            ],
            [
             0.6666666666666666,
             "#ed7953"
            ],
            [
             0.7777777777777778,
             "#fb9f3a"
            ],
            [
             0.8888888888888888,
             "#fdca26"
            ],
            [
             1.0,
             "#f0f921"
            ]
           ],
           "diverging": [
            [
             0,
             "#8e0152"
            ],
            [
             0.1,
             "#c51b7d"
            ],
            [
             0.2,
             "#de77ae"
            ],
            [
             0.3,
             "#f1b6da"
            ],
            [
             0.4,
             "#fde0ef"
            ],
            [
             0.5,
             "#f7f7f7"
            ],
            [
             0.6,
             "#e6f5d0"
            ],
            [
             0.7,
             "#b8e186"
            ],
            [
             0.8,
             "#7fbc41"
            ],
            [
             0.9,
             "#4d9221"
            ],
            [
             1,
             "#276419"
            ]
           ]
          },
          "xaxis": {
           "gridcolor": "white",
           "linecolor": "white",
           "ticks": "",
           "title": {
            "standoff": 15
           },
           "zerolinecolor": "white",
           "automargin": true,
           "zerolinewidth": 2
          },
          "yaxis": {
           "gridcolor": "white",
           "linecolor": "white",
           "ticks": "",
           "title": {
            "standoff": 15
           },
           "zerolinecolor": "white",
           "automargin": true,
           "zerolinewidth": 2
          },
          "scene": {
           "xaxis": {
            "backgroundcolor": "#E5ECF6",
            "gridcolor": "white",
            "linecolor": "white",
            "showbackground": true,
            "ticks": "",
            "zerolinecolor": "white",
            "gridwidth": 2
           },
           "yaxis": {
            "backgroundcolor": "#E5ECF6",
            "gridcolor": "white",
            "linecolor": "white",
            "showbackground": true,
            "ticks": "",
            "zerolinecolor": "white",
            "gridwidth": 2
           },
           "zaxis": {
            "backgroundcolor": "#E5ECF6",
            "gridcolor": "white",
            "linecolor": "white",
            "showbackground": true,
            "ticks": "",
            "zerolinecolor": "white",
            "gridwidth": 2
           }
          },
          "shapedefaults": {
           "line": {
            "color": "#2a3f5f"
           }
          },
          "annotationdefaults": {
           "arrowcolor": "#2a3f5f",
           "arrowhead": 0,
           "arrowwidth": 1
          },
          "geo": {
           "bgcolor": "white",
           "landcolor": "#E5ECF6",
           "subunitcolor": "white",
           "showland": true,
           "showlakes": true,
           "lakecolor": "white"
          },
          "title": {
           "x": 0.05
          },
          "mapbox": {
           "style": "light"
          }
         }
        },
        "legend": {
         "title": {
          "text": "color"
         },
         "tracegroupgap": 0
        },
        "margin": {
         "t": 60
        },
        "dragmode": "select"
       },
       "config": {
        "plotlyServerURL": "https://plot.ly"
       }
      },
      "text/html": "<div>                            <div id=\"14756ff5-4c27-4e6d-b951-3691acf5c1a8\" class=\"plotly-graph-div\" style=\"height:525px; width:100%;\"></div>            <script type=\"text/javascript\">                require([\"plotly\"], function(Plotly) {                    window.PLOTLYENV=window.PLOTLYENV || {};                                    if (document.getElementById(\"14756ff5-4c27-4e6d-b951-3691acf5c1a8\")) {                    Plotly.newPlot(                        \"14756ff5-4c27-4e6d-b951-3691acf5c1a8\",                        [{\"dimensions\":[{\"axis\":{\"matches\":true},\"label\":\"PC 1 (73.8%)\",\"values\":[2.455574355125071,1.7728614009806418,1.0682534550337992,3.138287309269505,1.1448369228950248,0.8507591179468698,3.116392317467094,3.138287309269506,1.772861400980642,2.275374168109534,3.116392317467094,3.138287309269506,3.138287309269506,1.7509664091782309,3.138287309269506,3.116392317467094,1.0901484468362101,3.138287309269506,1.8275498770394567,2.8370760771122283,1.068253455033799,0.34175051728454553,3.138287309269506,1.772861400980642,2.455574355125074,3.138287309269506,1.8415177977864117,3.0944973256646833,1.72907141737582,1.7509664091782309,3.138287309269506,1.85315189081052,2.275374168109534,3.138287309269506,1.0463584632313878,3.138287309269506,3.138287309269506,3.138287309269506,3.138287309269506,1.772861400980642,3.138287309269506,1.068253455033799,3.138287309269506,0.22723530567623873,1.0901484468362101]},{\"axis\":{\"matches\":true},\"label\":\"PC 2 (10.3%)\",\"values\":[0.1297362444028717,0.7840563043135923,1.8267146595324668,-0.5245838155078518,0.31174241652520757,-2.401800431451279,-0.13624552019969977,-0.5245838155078517,0.7840563043135923,-1.2776023435874453,-0.13624552019969996,-0.5245838155078517,-0.5245838155078517,1.172394599621744,-0.5245838155078517,-0.13624552019969996,1.4383763642243141,-0.5245838155078517,-0.342577643385514,-0.9064227838032058,1.826714659532466,3.2577113100594914,-0.5245838155078517,0.7840563043135923,0.1297362444028702,-0.5245838155078517,-1.8617099678910893,0.2520927751084521,1.5607328949298955,1.172394599621744,-0.5245838155078517,-0.633941692187838,-1.2776023435874453,-0.5245838155078517,2.2150529548406177,-0.5245838155078517,-0.5245838155078517,-0.5245838155078517,-0.5245838155078517,0.7840563043135923,-0.5245838155078517,1.826714659532466,-0.5245838155078517,0.6853578361447202,1.4383763642243141]},{\"axis\":{\"matches\":true},\"label\":\"PC 3 (6.6%)\",\"values\":[-0.19047484101506124,-0.1934770500223552,-0.29040540726907915,-0.18747263200776526,0.4631816758967144,1.4037881432864365,-0.28139878024719234,-0.18747263200776423,-0.1934770500223553,0.4287613668396422,-0.28139878024719234,-0.18747263200776423,-0.18747263200776423,-0.2874031982617834,-0.18747263200776423,-0.28139878024719234,-0.19647925902965085,-0.18747263200776423,0.4661838849040098,0.06996858924025447,-0.29040540726907893,-0.48125991275523067,-0.18747263200776423,-0.1934770500223553,-0.19047484101505976,-0.18747263200776423,1.2819344847270246,-0.3753249284866204,-0.3813293465012115,-0.2874031982617834,-0.18747263200776423,0.3244076014809776,0.4287613668396422,-0.18747263200776423,-0.38433155550850695,-0.18747263200776423,-0.18747263200776423,-0.18747263200776423,-0.18747263200776423,-0.1934770500223553,-0.18747263200776423,-0.29040540726907893,-0.18747263200776423,0.41975473981775563,-0.19647925902965085]},{\"axis\":{\"matches\":true},\"label\":\"PC 4 (4.4%)\",\"values\":[-0.29420389935857005,-0.46982537542710734,0.013200206256154647,-0.11858242329003288,0.20635368090098635,-0.12153498981823442,0.5400646344617658,-0.11858242329003292,-0.4698253754271069,-0.10440425492540412,0.5400646344617658,-0.11858242329003292,-0.11858242329003292,0.1888216823246919,-0.11858242329003292,0.5400646344617658,-0.6454468514956438,-0.11858242329003292,0.3819751569695234,-0.07309535166794495,0.013200206256154881,1.1548728456912154,-0.11858242329003292,-0.4698253754271069,-0.29420389935856994,-0.11858242329003292,1.3560587358677885,1.198711692213564,0.8474687400764904,0.1888216823246919,-0.11858242329003292,-0.20322975611439398,-0.10440425492540412,-0.11858242329003292,0.6718472640079535,-0.11858242329003292,-0.11858242329003292,-0.11858242329003292,-0.11858242329003292,-0.4698253754271069,-0.11858242329003292,0.013200206256154881,-0.11858242329003292,-0.631268683131015,-0.6454468514956438]}],\"hovertemplate\":\"color=1<br>%{xaxis.title.text}=%{x}<br>%{yaxis.title.text}=%{y}<extra></extra>\",\"legendgroup\":\"1\",\"marker\":{\"color\":\"#636efa\",\"symbol\":\"circle\"},\"name\":\"1\",\"showlegend\":true,\"type\":\"splom\",\"diagonal\":{\"visible\":false}},{\"dimensions\":[{\"axis\":{\"matches\":true},\"label\":\"PC 1 (73.8%)\",\"values\":[0.10172359471951523,-1.951187227877357,-2.0838323660432025,-2.38504359820048,-2.9976475765178767,-2.38504359820048,-1.951187227877357,-1.66880155922953,-3.0639701456007997,-2.9532199992373656,-2.9532199992373656,-1.66880155922953,-2.296826037315146,-1.8800926986308573,-2.38504359820048,-2.9313250074349537,-2.9532199992373656,-1.9292922360749454,-2.230503468232223,-2.9313250074349537,-2.9313250074349537,-1.8800926986308573,-2.230503468232223,-1.9292922360749454,-2.6301137752776764,-2.2523984600346343,-1.8800926986308573,-2.230503468232223,-3.0195425683202886,-2.9532199992373656,-1.951187227877357,-1.9292922360749454,-2.230503468232223,-1.951187227877357,-1.9292922360749454,-2.9313250074349537,-1.4339128961551753,-2.0838323660432025,-1.6007764582759918,-2.6301137752776764,-2.296826037315146,-2.9313250074349537,-2.2523984600346343,-2.630113775277677,-1.5788814664735804]},{\"axis\":{\"matches\":true},\"label\":\"PC 2 (10.3%)\",\"values\":[-1.848614699544702,0.6289285868317513,0.42665993082346204,0.044820962528107855,-0.9558399747026249,0.044820962528107855,0.6289285868317513,0.22993088301248538,-1.0569743027067697,-0.4663673513903287,-0.4663673513903287,0.22993088301248538,-0.24238300477589927,0.21547980819160842,0.044820962528107855,-0.8547056466984804,-0.4663673513903287,0.24059029152359962,-0.14124867677175448,-0.8547056466984804,-0.8547056466984804,0.21547980819160842,-0.14124867677175448,0.24059029152359962,-0.4728666784031263,0.24708961853639727,0.21547980819160842,-0.14124867677175448,-0.5675016793944734,-0.4663673513903287,0.6289285868317513,0.24059029152359962,-0.14124867677175448,0.6289285868317513,0.24059029152359962,-0.8547056466984804,0.5106355233036947,0.42665993082346204,0.9856570717951142,-0.4728666784031263,-0.24238300477589927,-0.8547056466984804,0.24708961853639727,-0.4728666784031264,0.5973187764869626]},{\"axis\":{\"matches\":true},\"label\":\"PC 3 (6.6%)\",\"values\":[1.6986518825988228,0.19931949184341197,0.7950513884827759,1.0524926097307947,-0.8336320822022505,1.0524926097307947,0.19931949184341197,0.19189408373147104,-0.5357661338825683,-1.2254241787613607,-1.2254241787613607,0.19189408373147104,0.8485528096505407,1.3917793072572544,1.0524926097307947,-1.1314980305219322,-1.2254241787613607,0.29324564008284,0.5506868613308588,-1.1314980305219322,-1.1314980305219322,1.3917793072572544,0.5506868613308588,0.29324564008284,-1.388939251769951,0.4567607130914307,1.3917793072572544,0.5506868613308588,-0.927558230441679,-1.2254241787613607,0.19931949184341197,0.29324564008284,0.5506868613308588,0.19931949184341197,0.29324564008284,-1.1314980305219322,0.23231881080313416,0.7950513884827759,1.0404119377698076,-1.388939251769951,0.8485528096505407,-1.1314980305219322,0.4567607130914307,-1.3889392517699513,1.1343380860092356]},{\"axis\":{\"matches\":true},\"label\":\"PC 4 (4.4%)\",\"values\":[0.410331493698781,-0.0326682695290306,1.3823076496420743,1.4277947212641624,0.4180449807940919,1.4277947212641624,-0.0326682695290306,-0.6145193524012825,1.1255329403796448,0.3692040789603385,0.3692040789603385,-0.6145193524012825,0.06165970392681086,-0.8240208940923822,1.4277947212641624,-0.2894429787914603,0.3692040789603385,-0.6913153272808296,-0.6458282556587416,-0.2894429787914603,-0.2894429787914603,-0.8240208940923822,-0.6458282556587416,-0.6913153272808296,-0.3349300504135483,0.012818802093057293,-0.8240208940923822,-0.6458282556587416,1.076692038545891,0.3692040789603385,-0.0326682695290306,-0.6913153272808296,-0.6458282556587416,-0.0326682695290306,-0.6913153272808296,-0.2894429787914603,0.04748153556218199,1.3823076496420743,-0.21086090796267115,-0.3349300504135483,0.06165970392681086,-0.2894429787914603,0.012818802093057293,-0.3349300504135483,-0.86950796571447]}],\"hovertemplate\":\"color=0<br>%{xaxis.title.text}=%{x}<br>%{yaxis.title.text}=%{y}<extra></extra>\",\"legendgroup\":\"0\",\"marker\":{\"color\":\"#EF553B\",\"symbol\":\"circle\"},\"name\":\"0\",\"showlegend\":true,\"type\":\"splom\",\"diagonal\":{\"visible\":false}}],                        {\"template\":{\"data\":{\"histogram2dcontour\":[{\"type\":\"histogram2dcontour\",\"colorbar\":{\"outlinewidth\":0,\"ticks\":\"\"},\"colorscale\":[[0.0,\"#0d0887\"],[0.1111111111111111,\"#46039f\"],[0.2222222222222222,\"#7201a8\"],[0.3333333333333333,\"#9c179e\"],[0.4444444444444444,\"#bd3786\"],[0.5555555555555556,\"#d8576b\"],[0.6666666666666666,\"#ed7953\"],[0.7777777777777778,\"#fb9f3a\"],[0.8888888888888888,\"#fdca26\"],[1.0,\"#f0f921\"]]}],\"choropleth\":[{\"type\":\"choropleth\",\"colorbar\":{\"outlinewidth\":0,\"ticks\":\"\"}}],\"histogram2d\":[{\"type\":\"histogram2d\",\"colorbar\":{\"outlinewidth\":0,\"ticks\":\"\"},\"colorscale\":[[0.0,\"#0d0887\"],[0.1111111111111111,\"#46039f\"],[0.2222222222222222,\"#7201a8\"],[0.3333333333333333,\"#9c179e\"],[0.4444444444444444,\"#bd3786\"],[0.5555555555555556,\"#d8576b\"],[0.6666666666666666,\"#ed7953\"],[0.7777777777777778,\"#fb9f3a\"],[0.8888888888888888,\"#fdca26\"],[1.0,\"#f0f921\"]]}],\"heatmap\":[{\"type\":\"heatmap\",\"colorbar\":{\"outlinewidth\":0,\"ticks\":\"\"},\"colorscale\":[[0.0,\"#0d0887\"],[0.1111111111111111,\"#46039f\"],[0.2222222222222222,\"#7201a8\"],[0.3333333333333333,\"#9c179e\"],[0.4444444444444444,\"#bd3786\"],[0.5555555555555556,\"#d8576b\"],[0.6666666666666666,\"#ed7953\"],[0.7777777777777778,\"#fb9f3a\"],[0.8888888888888888,\"#fdca26\"],[1.0,\"#f0f921\"]]}],\"heatmapgl\":[{\"type\":\"heatmapgl\",\"colorbar\":{\"outlinewidth\":0,\"ticks\":\"\"},\"colorscale\":[[0.0,\"#0d0887\"],[0.1111111111111111,\"#46039f\"],[0.2222222222222222,\"#7201a8\"],[0.3333333333333333,\"#9c179e\"],[0.4444444444444444,\"#bd3786\"],[0.5555555555555556,\"#d8576b\"],[0.6666666666666666,\"#ed7953\"],[0.7777777777777778,\"#fb9f3a\"],[0.8888888888888888,\"#fdca26\"],[1.0,\"#f0f921\"]]}],\"contourcarpet\":[{\"type\":\"contourcarpet\",\"colorbar\":{\"outlinewidth\":0,\"ticks\":\"\"}}],\"contour\":[{\"type\":\"contour\",\"colorbar\":{\"outlinewidth\":0,\"ticks\":\"\"},\"colorscale\":[[0.0,\"#0d0887\"],[0.1111111111111111,\"#46039f\"],[0.2222222222222222,\"#7201a8\"],[0.3333333333333333,\"#9c179e\"],[0.4444444444444444,\"#bd3786\"],[0.5555555555555556,\"#d8576b\"],[0.6666666666666666,\"#ed7953\"],[0.7777777777777778,\"#fb9f3a\"],[0.8888888888888888,\"#fdca26\"],[1.0,\"#f0f921\"]]}],\"surface\":[{\"type\":\"surface\",\"colorbar\":{\"outlinewidth\":0,\"ticks\":\"\"},\"colorscale\":[[0.0,\"#0d0887\"],[0.1111111111111111,\"#46039f\"],[0.2222222222222222,\"#7201a8\"],[0.3333333333333333,\"#9c179e\"],[0.4444444444444444,\"#bd3786\"],[0.5555555555555556,\"#d8576b\"],[0.6666666666666666,\"#ed7953\"],[0.7777777777777778,\"#fb9f3a\"],[0.8888888888888888,\"#fdca26\"],[1.0,\"#f0f921\"]]}],\"mesh3d\":[{\"type\":\"mesh3d\",\"colorbar\":{\"outlinewidth\":0,\"ticks\":\"\"}}],\"scatter\":[{\"fillpattern\":{\"fillmode\":\"overlay\",\"size\":10,\"solidity\":0.2},\"type\":\"scatter\"}],\"parcoords\":[{\"type\":\"parcoords\",\"line\":{\"colorbar\":{\"outlinewidth\":0,\"ticks\":\"\"}}}],\"scatterpolargl\":[{\"type\":\"scatterpolargl\",\"marker\":{\"colorbar\":{\"outlinewidth\":0,\"ticks\":\"\"}}}],\"bar\":[{\"error_x\":{\"color\":\"#2a3f5f\"},\"error_y\":{\"color\":\"#2a3f5f\"},\"marker\":{\"line\":{\"color\":\"#E5ECF6\",\"width\":0.5},\"pattern\":{\"fillmode\":\"overlay\",\"size\":10,\"solidity\":0.2}},\"type\":\"bar\"}],\"scattergeo\":[{\"type\":\"scattergeo\",\"marker\":{\"colorbar\":{\"outlinewidth\":0,\"ticks\":\"\"}}}],\"scatterpolar\":[{\"type\":\"scatterpolar\",\"marker\":{\"colorbar\":{\"outlinewidth\":0,\"ticks\":\"\"}}}],\"histogram\":[{\"marker\":{\"pattern\":{\"fillmode\":\"overlay\",\"size\":10,\"solidity\":0.2}},\"type\":\"histogram\"}],\"scattergl\":[{\"type\":\"scattergl\",\"marker\":{\"colorbar\":{\"outlinewidth\":0,\"ticks\":\"\"}}}],\"scatter3d\":[{\"type\":\"scatter3d\",\"line\":{\"colorbar\":{\"outlinewidth\":0,\"ticks\":\"\"}},\"marker\":{\"colorbar\":{\"outlinewidth\":0,\"ticks\":\"\"}}}],\"scattermapbox\":[{\"type\":\"scattermapbox\",\"marker\":{\"colorbar\":{\"outlinewidth\":0,\"ticks\":\"\"}}}],\"scatterternary\":[{\"type\":\"scatterternary\",\"marker\":{\"colorbar\":{\"outlinewidth\":0,\"ticks\":\"\"}}}],\"scattercarpet\":[{\"type\":\"scattercarpet\",\"marker\":{\"colorbar\":{\"outlinewidth\":0,\"ticks\":\"\"}}}],\"carpet\":[{\"aaxis\":{\"endlinecolor\":\"#2a3f5f\",\"gridcolor\":\"white\",\"linecolor\":\"white\",\"minorgridcolor\":\"white\",\"startlinecolor\":\"#2a3f5f\"},\"baxis\":{\"endlinecolor\":\"#2a3f5f\",\"gridcolor\":\"white\",\"linecolor\":\"white\",\"minorgridcolor\":\"white\",\"startlinecolor\":\"#2a3f5f\"},\"type\":\"carpet\"}],\"table\":[{\"cells\":{\"fill\":{\"color\":\"#EBF0F8\"},\"line\":{\"color\":\"white\"}},\"header\":{\"fill\":{\"color\":\"#C8D4E3\"},\"line\":{\"color\":\"white\"}},\"type\":\"table\"}],\"barpolar\":[{\"marker\":{\"line\":{\"color\":\"#E5ECF6\",\"width\":0.5},\"pattern\":{\"fillmode\":\"overlay\",\"size\":10,\"solidity\":0.2}},\"type\":\"barpolar\"}],\"pie\":[{\"automargin\":true,\"type\":\"pie\"}]},\"layout\":{\"autotypenumbers\":\"strict\",\"colorway\":[\"#636efa\",\"#EF553B\",\"#00cc96\",\"#ab63fa\",\"#FFA15A\",\"#19d3f3\",\"#FF6692\",\"#B6E880\",\"#FF97FF\",\"#FECB52\"],\"font\":{\"color\":\"#2a3f5f\"},\"hovermode\":\"closest\",\"hoverlabel\":{\"align\":\"left\"},\"paper_bgcolor\":\"white\",\"plot_bgcolor\":\"#E5ECF6\",\"polar\":{\"bgcolor\":\"#E5ECF6\",\"angularaxis\":{\"gridcolor\":\"white\",\"linecolor\":\"white\",\"ticks\":\"\"},\"radialaxis\":{\"gridcolor\":\"white\",\"linecolor\":\"white\",\"ticks\":\"\"}},\"ternary\":{\"bgcolor\":\"#E5ECF6\",\"aaxis\":{\"gridcolor\":\"white\",\"linecolor\":\"white\",\"ticks\":\"\"},\"baxis\":{\"gridcolor\":\"white\",\"linecolor\":\"white\",\"ticks\":\"\"},\"caxis\":{\"gridcolor\":\"white\",\"linecolor\":\"white\",\"ticks\":\"\"}},\"coloraxis\":{\"colorbar\":{\"outlinewidth\":0,\"ticks\":\"\"}},\"colorscale\":{\"sequential\":[[0.0,\"#0d0887\"],[0.1111111111111111,\"#46039f\"],[0.2222222222222222,\"#7201a8\"],[0.3333333333333333,\"#9c179e\"],[0.4444444444444444,\"#bd3786\"],[0.5555555555555556,\"#d8576b\"],[0.6666666666666666,\"#ed7953\"],[0.7777777777777778,\"#fb9f3a\"],[0.8888888888888888,\"#fdca26\"],[1.0,\"#f0f921\"]],\"sequentialminus\":[[0.0,\"#0d0887\"],[0.1111111111111111,\"#46039f\"],[0.2222222222222222,\"#7201a8\"],[0.3333333333333333,\"#9c179e\"],[0.4444444444444444,\"#bd3786\"],[0.5555555555555556,\"#d8576b\"],[0.6666666666666666,\"#ed7953\"],[0.7777777777777778,\"#fb9f3a\"],[0.8888888888888888,\"#fdca26\"],[1.0,\"#f0f921\"]],\"diverging\":[[0,\"#8e0152\"],[0.1,\"#c51b7d\"],[0.2,\"#de77ae\"],[0.3,\"#f1b6da\"],[0.4,\"#fde0ef\"],[0.5,\"#f7f7f7\"],[0.6,\"#e6f5d0\"],[0.7,\"#b8e186\"],[0.8,\"#7fbc41\"],[0.9,\"#4d9221\"],[1,\"#276419\"]]},\"xaxis\":{\"gridcolor\":\"white\",\"linecolor\":\"white\",\"ticks\":\"\",\"title\":{\"standoff\":15},\"zerolinecolor\":\"white\",\"automargin\":true,\"zerolinewidth\":2},\"yaxis\":{\"gridcolor\":\"white\",\"linecolor\":\"white\",\"ticks\":\"\",\"title\":{\"standoff\":15},\"zerolinecolor\":\"white\",\"automargin\":true,\"zerolinewidth\":2},\"scene\":{\"xaxis\":{\"backgroundcolor\":\"#E5ECF6\",\"gridcolor\":\"white\",\"linecolor\":\"white\",\"showbackground\":true,\"ticks\":\"\",\"zerolinecolor\":\"white\",\"gridwidth\":2},\"yaxis\":{\"backgroundcolor\":\"#E5ECF6\",\"gridcolor\":\"white\",\"linecolor\":\"white\",\"showbackground\":true,\"ticks\":\"\",\"zerolinecolor\":\"white\",\"gridwidth\":2},\"zaxis\":{\"backgroundcolor\":\"#E5ECF6\",\"gridcolor\":\"white\",\"linecolor\":\"white\",\"showbackground\":true,\"ticks\":\"\",\"zerolinecolor\":\"white\",\"gridwidth\":2}},\"shapedefaults\":{\"line\":{\"color\":\"#2a3f5f\"}},\"annotationdefaults\":{\"arrowcolor\":\"#2a3f5f\",\"arrowhead\":0,\"arrowwidth\":1},\"geo\":{\"bgcolor\":\"white\",\"landcolor\":\"#E5ECF6\",\"subunitcolor\":\"white\",\"showland\":true,\"showlakes\":true,\"lakecolor\":\"white\"},\"title\":{\"x\":0.05},\"mapbox\":{\"style\":\"light\"}}},\"legend\":{\"title\":{\"text\":\"color\"},\"tracegroupgap\":0},\"margin\":{\"t\":60},\"dragmode\":\"select\"},                        {\"responsive\": true}                    ).then(function(){\n                            \nvar gd = document.getElementById('14756ff5-4c27-4e6d-b951-3691acf5c1a8');\nvar x = new MutationObserver(function (mutations, observer) {{\n        var display = window.getComputedStyle(gd).display;\n        if (!display || display === 'none') {{\n            console.log([gd, 'removed!']);\n            Plotly.purge(gd);\n            observer.disconnect();\n        }}\n}});\n\n// Listen for the removal of the full notebook cells\nvar notebookContainer = gd.closest('#notebook-container');\nif (notebookContainer) {{\n    x.observe(notebookContainer, {childList: true});\n}}\n\n// Listen for the clearing of the current output cell\nvar outputEl = gd.closest('.output');\nif (outputEl) {{\n    x.observe(outputEl, {childList: true});\n}}\n\n                        })                };                });            </script>        </div>"
     },
     "metadata": {},
     "output_type": "display_data"
    }
   ],
   "source": [
    "pca(full_data,meanShift(full_data, bandwidth=3).labels_)"
   ],
   "metadata": {
    "collapsed": false,
    "pycharm": {
     "name": "#%%\n"
    }
   }
  },
  {
   "cell_type": "code",
   "execution_count": 101,
   "outputs": [
    {
     "name": "stderr",
     "output_type": "stream",
     "text": [
      "D:\\anaconda3\\lib\\site-packages\\sklearn\\cluster\\_kmeans.py:887: UserWarning:\n",
      "\n",
      "MiniBatchKMeans is known to have a memory leak on Windows with MKL, when there are less chunks than available threads. You can prevent it by setting batch_size >= 2048 or by setting the environment variable OMP_NUM_THREADS=1\n",
      "\n",
      "D:\\anaconda3\\lib\\site-packages\\sklearn\\cluster\\_kmeans.py:887: UserWarning:\n",
      "\n",
      "MiniBatchKMeans is known to have a memory leak on Windows with MKL, when there are less chunks than available threads. You can prevent it by setting batch_size >= 2048 or by setting the environment variable OMP_NUM_THREADS=1\n",
      "\n",
      "D:\\anaconda3\\lib\\site-packages\\sklearn\\cluster\\_kmeans.py:887: UserWarning:\n",
      "\n",
      "MiniBatchKMeans is known to have a memory leak on Windows with MKL, when there are less chunks than available threads. You can prevent it by setting batch_size >= 2048 or by setting the environment variable OMP_NUM_THREADS=1\n",
      "\n",
      "D:\\anaconda3\\lib\\site-packages\\sklearn\\cluster\\_kmeans.py:887: UserWarning:\n",
      "\n",
      "MiniBatchKMeans is known to have a memory leak on Windows with MKL, when there are less chunks than available threads. You can prevent it by setting batch_size >= 2048 or by setting the environment variable OMP_NUM_THREADS=1\n",
      "\n",
      "D:\\anaconda3\\lib\\site-packages\\sklearn\\cluster\\_kmeans.py:887: UserWarning:\n",
      "\n",
      "MiniBatchKMeans is known to have a memory leak on Windows with MKL, when there are less chunks than available threads. You can prevent it by setting batch_size >= 2048 or by setting the environment variable OMP_NUM_THREADS=1\n",
      "\n",
      "D:\\anaconda3\\lib\\site-packages\\sklearn\\cluster\\_kmeans.py:887: UserWarning:\n",
      "\n",
      "MiniBatchKMeans is known to have a memory leak on Windows with MKL, when there are less chunks than available threads. You can prevent it by setting batch_size >= 2048 or by setting the environment variable OMP_NUM_THREADS=1\n",
      "\n",
      "D:\\anaconda3\\lib\\site-packages\\sklearn\\cluster\\_kmeans.py:887: UserWarning:\n",
      "\n",
      "MiniBatchKMeans is known to have a memory leak on Windows with MKL, when there are less chunks than available threads. You can prevent it by setting batch_size >= 2048 or by setting the environment variable OMP_NUM_THREADS=1\n",
      "\n",
      "D:\\anaconda3\\lib\\site-packages\\sklearn\\cluster\\_kmeans.py:887: UserWarning:\n",
      "\n",
      "MiniBatchKMeans is known to have a memory leak on Windows with MKL, when there are less chunks than available threads. You can prevent it by setting batch_size >= 2048 or by setting the environment variable OMP_NUM_THREADS=1\n",
      "\n",
      "D:\\anaconda3\\lib\\site-packages\\sklearn\\cluster\\_kmeans.py:887: UserWarning:\n",
      "\n",
      "MiniBatchKMeans is known to have a memory leak on Windows with MKL, when there are less chunks than available threads. You can prevent it by setting batch_size >= 2048 or by setting the environment variable OMP_NUM_THREADS=1\n",
      "\n",
      "D:\\anaconda3\\lib\\site-packages\\sklearn\\cluster\\_kmeans.py:887: UserWarning:\n",
      "\n",
      "MiniBatchKMeans is known to have a memory leak on Windows with MKL, when there are less chunks than available threads. You can prevent it by setting batch_size >= 2048 or by setting the environment variable OMP_NUM_THREADS=1\n",
      "\n",
      "D:\\anaconda3\\lib\\site-packages\\sklearn\\cluster\\_kmeans.py:887: UserWarning:\n",
      "\n",
      "MiniBatchKMeans is known to have a memory leak on Windows with MKL, when there are less chunks than available threads. You can prevent it by setting batch_size >= 2048 or by setting the environment variable OMP_NUM_THREADS=1\n",
      "\n",
      "D:\\anaconda3\\lib\\site-packages\\sklearn\\cluster\\_kmeans.py:887: UserWarning:\n",
      "\n",
      "MiniBatchKMeans is known to have a memory leak on Windows with MKL, when there are less chunks than available threads. You can prevent it by setting batch_size >= 2048 or by setting the environment variable OMP_NUM_THREADS=1\n",
      "\n",
      "D:\\anaconda3\\lib\\site-packages\\sklearn\\cluster\\_kmeans.py:887: UserWarning:\n",
      "\n",
      "MiniBatchKMeans is known to have a memory leak on Windows with MKL, when there are less chunks than available threads. You can prevent it by setting batch_size >= 2048 or by setting the environment variable OMP_NUM_THREADS=1\n",
      "\n",
      "D:\\anaconda3\\lib\\site-packages\\sklearn\\cluster\\_kmeans.py:887: UserWarning:\n",
      "\n",
      "MiniBatchKMeans is known to have a memory leak on Windows with MKL, when there are less chunks than available threads. You can prevent it by setting batch_size >= 2048 or by setting the environment variable OMP_NUM_THREADS=1\n",
      "\n",
      "D:\\anaconda3\\lib\\site-packages\\sklearn\\cluster\\_kmeans.py:887: UserWarning:\n",
      "\n",
      "MiniBatchKMeans is known to have a memory leak on Windows with MKL, when there are less chunks than available threads. You can prevent it by setting batch_size >= 2048 or by setting the environment variable OMP_NUM_THREADS=1\n",
      "\n",
      "D:\\anaconda3\\lib\\site-packages\\sklearn\\cluster\\_kmeans.py:887: UserWarning:\n",
      "\n",
      "MiniBatchKMeans is known to have a memory leak on Windows with MKL, when there are less chunks than available threads. You can prevent it by setting batch_size >= 2048 or by setting the environment variable OMP_NUM_THREADS=1\n",
      "\n",
      "D:\\anaconda3\\lib\\site-packages\\sklearn\\cluster\\_kmeans.py:887: UserWarning:\n",
      "\n",
      "MiniBatchKMeans is known to have a memory leak on Windows with MKL, when there are less chunks than available threads. You can prevent it by setting batch_size >= 2048 or by setting the environment variable OMP_NUM_THREADS=1\n",
      "\n",
      "D:\\anaconda3\\lib\\site-packages\\sklearn\\cluster\\_kmeans.py:887: UserWarning:\n",
      "\n",
      "MiniBatchKMeans is known to have a memory leak on Windows with MKL, when there are less chunks than available threads. You can prevent it by setting batch_size >= 2048 or by setting the environment variable OMP_NUM_THREADS=1\n",
      "\n",
      "D:\\anaconda3\\lib\\site-packages\\sklearn\\cluster\\_kmeans.py:887: UserWarning:\n",
      "\n",
      "MiniBatchKMeans is known to have a memory leak on Windows with MKL, when there are less chunks than available threads. You can prevent it by setting batch_size >= 2048 or by setting the environment variable OMP_NUM_THREADS=1\n",
      "\n",
      "D:\\anaconda3\\lib\\site-packages\\sklearn\\cluster\\_kmeans.py:887: UserWarning:\n",
      "\n",
      "MiniBatchKMeans is known to have a memory leak on Windows with MKL, when there are less chunks than available threads. You can prevent it by setting batch_size >= 2048 or by setting the environment variable OMP_NUM_THREADS=1\n",
      "\n"
     ]
    },
    {
     "data": {
      "text/plain": "<Figure size 432x288 with 1 Axes>",
      "image/png": "[encoded data removed]"
     },
     "metadata": {
      "needs_background": "light"
     },
     "output_type": "display_data"
    }
   ],
   "source": [
    "### Mini Batch K Means\n",
    "re = []\n",
    "num_clu = []\n",
    "num_noise = []\n",
    "tuner = np.arange(1,11)\n",
    "for nclu in tuner:\n",
    "    re.append(within_group_square(full_data,miniBatch(full_data, nclu).labels_))\n",
    "    model = miniBatch(full_data, nclu)\n",
    "    n_clusters_ = len(set(model.labels_)) - (1 if -1 in model.labels_ else 0)\n",
    "    num_clu.append(n_clusters_)\n",
    "    n_noise_ = list(model.labels_).count(-1)\n",
    "    num_noise.append(n_noise_)\n",
    "\n",
    "plt.plot(tuner, re, linewidth=2, color='tan', label=\"sum of within group variance\")\n",
    "plt.scatter(tuner, num_clu, s=1, marker=\"^\", label=\"number of clusters\")\n",
    "plt.scatter(tuner, num_noise, s=1, marker=\"D\", label=\"number of noises\")\n",
    "plt.legend(loc=\"best\")\n",
    "plt.title(\"Mini Batch Tuning - number of clusters\", fontsize=19, weight=\"bold\")\n",
    "# plt.xlabel(\"This is x axis\", fontsize=20, weight=\"bold\")\n",
    "# plt.ylabel(\"This is y axis\")\n",
    "plt.savefig(\"./demo-2.svg\", dpi=400, bbox_inches=\"tight\")\n",
    "plt.show()"
   ],
   "metadata": {
    "collapsed": false,
    "pycharm": {
     "name": "#%%\n"
    }
   }
  },
  {
   "cell_type": "code",
   "execution_count": 107,
   "outputs": [
    {
     "name": "stdout",
     "output_type": "stream",
     "text": [
      "Cluster 1:\n",
      "              c1         c2  c3_grade  c4_grade    c5grade   c7_grade  \\\n",
      "count  46.000000  46.000000      46.0      46.0  46.000000  46.000000   \n",
      "mean    0.260870   2.630435       0.0       0.0   0.260870   0.108696   \n",
      "std     0.681005   0.710515       0.0       0.0   0.612274   0.378785   \n",
      "min     0.000000   0.000000       0.0       0.0   0.000000   0.000000   \n",
      "25%     0.000000   2.250000       0.0       0.0   0.000000   0.000000   \n",
      "50%     0.000000   3.000000       0.0       0.0   0.000000   0.000000   \n",
      "75%     0.000000   3.000000       0.0       0.0   0.000000   0.000000   \n",
      "max     3.000000   3.000000       0.0       0.0   2.000000   2.000000   \n",
      "\n",
      "       dummy_grade_level  \n",
      "count          46.000000  \n",
      "mean            2.000000  \n",
      "std             1.247219  \n",
      "min             1.000000  \n",
      "25%             1.000000  \n",
      "50%             1.000000  \n",
      "75%             3.000000  \n",
      "max             5.000000  \n",
      "Cluster 0:\n",
      "              c1         c2  c3_grade   c4_grade    c5grade   c7_grade  \\\n",
      "count  44.000000  44.000000      44.0  44.000000  44.000000  44.000000   \n",
      "mean    2.931818   2.613636       0.0   1.568182   1.636364   0.386364   \n",
      "std     0.254972   0.492545       0.0   1.086871   0.486607   0.722267   \n",
      "min     2.000000   2.000000       0.0   0.000000   1.000000   0.000000   \n",
      "25%     3.000000   2.000000       0.0   1.000000   1.000000   0.000000   \n",
      "50%     3.000000   3.000000       0.0   1.000000   2.000000   0.000000   \n",
      "75%     3.000000   3.000000       0.0   3.000000   2.000000   0.250000   \n",
      "max     3.000000   3.000000       0.0   3.000000   2.000000   2.000000   \n",
      "\n",
      "       dummy_grade_level  \n",
      "count               44.0  \n",
      "mean                 5.0  \n",
      "std                  0.0  \n",
      "min                  5.0  \n",
      "25%                  5.0  \n",
      "50%                  5.0  \n",
      "75%                  5.0  \n",
      "max                  5.0  \n"
     ]
    },
    {
     "name": "stderr",
     "output_type": "stream",
     "text": [
      "D:\\anaconda3\\lib\\site-packages\\sklearn\\cluster\\_kmeans.py:887: UserWarning:\n",
      "\n",
      "MiniBatchKMeans is known to have a memory leak on Windows with MKL, when there are less chunks than available threads. You can prevent it by setting batch_size >= 2048 or by setting the environment variable OMP_NUM_THREADS=1\n",
      "\n"
     ]
    }
   ],
   "source": [
    "classify(full_data,miniBatch(full_data, 2).labels_, 'miniBatch')"
   ],
   "metadata": {
    "collapsed": false,
    "pycharm": {
     "name": "#%%\n"
    }
   }
  },
  {
   "cell_type": "code",
   "execution_count": 84,
   "outputs": [
    {
     "name": "stderr",
     "output_type": "stream",
     "text": [
      "D:\\anaconda3\\lib\\site-packages\\sklearn\\cluster\\_kmeans.py:887: UserWarning:\n",
      "\n",
      "MiniBatchKMeans is known to have a memory leak on Windows with MKL, when there are less chunks than available threads. You can prevent it by setting batch_size >= 2048 or by setting the environment variable OMP_NUM_THREADS=1\n",
      "\n",
      "D:\\anaconda3\\lib\\site-packages\\plotly\\express\\_core.py:279: FutureWarning:\n",
      "\n",
      "iteritems is deprecated and will be removed in a future version. Use .items instead.\n",
      "\n"
     ]
    },
    {
     "data": {
      "application/vnd.plotly.v1+json": {
       "data": [
        {
         "dimensions": [
          {
           "axis": {
            "matches": true
           },
           "label": "PC 1 (73.8%)",
           "values": [
            2.455574355125071,
            1.7728614009806418,
            1.0682534550337992,
            3.138287309269505,
            1.1448369228950248,
            0.8507591179468698,
            3.116392317467094,
            0.10172359471951523,
            3.138287309269506,
            1.772861400980642,
            2.275374168109534,
            3.116392317467094,
            3.138287309269506,
            3.138287309269506,
            1.7509664091782309,
            3.138287309269506,
            3.116392317467094,
            1.0901484468362101,
            3.138287309269506,
            1.8275498770394567,
            2.8370760771122283,
            1.068253455033799,
            0.34175051728454553,
            3.138287309269506,
            1.772861400980642,
            2.455574355125074,
            3.138287309269506,
            1.8415177977864117,
            3.0944973256646833,
            1.72907141737582,
            1.7509664091782309,
            3.138287309269506,
            1.85315189081052,
            2.275374168109534,
            3.138287309269506,
            1.0463584632313878,
            3.138287309269506,
            3.138287309269506,
            3.138287309269506,
            3.138287309269506,
            1.772861400980642,
            3.138287309269506,
            1.068253455033799,
            3.138287309269506,
            0.22723530567623873,
            1.0901484468362101
           ]
          },
          {
           "axis": {
            "matches": true
           },
           "label": "PC 2 (10.3%)",
           "values": [
            0.1297362444028717,
            0.7840563043135923,
            1.8267146595324668,
            -0.5245838155078518,
            0.31174241652520757,
            -2.401800431451279,
            -0.13624552019969977,
            -1.848614699544702,
            -0.5245838155078517,
            0.7840563043135923,
            -1.2776023435874453,
            -0.13624552019969996,
            -0.5245838155078517,
            -0.5245838155078517,
            1.172394599621744,
            -0.5245838155078517,
            -0.13624552019969996,
            1.4383763642243141,
            -0.5245838155078517,
            -0.342577643385514,
            -0.9064227838032058,
            1.826714659532466,
            3.2577113100594914,
            -0.5245838155078517,
            0.7840563043135923,
            0.1297362444028702,
            -0.5245838155078517,
            -1.8617099678910893,
            0.2520927751084521,
            1.5607328949298955,
            1.172394599621744,
            -0.5245838155078517,
            -0.633941692187838,
            -1.2776023435874453,
            -0.5245838155078517,
            2.2150529548406177,
            -0.5245838155078517,
            -0.5245838155078517,
            -0.5245838155078517,
            -0.5245838155078517,
            0.7840563043135923,
            -0.5245838155078517,
            1.826714659532466,
            -0.5245838155078517,
            0.6853578361447202,
            1.4383763642243141
           ]
          },
          {
           "axis": {
            "matches": true
           },
           "label": "PC 3 (6.6%)",
           "values": [
            -0.19047484101506124,
            -0.1934770500223552,
            -0.29040540726907915,
            -0.18747263200776526,
            0.4631816758967144,
            1.4037881432864365,
            -0.28139878024719234,
            1.6986518825988228,
            -0.18747263200776423,
            -0.1934770500223553,
            0.4287613668396422,
            -0.28139878024719234,
            -0.18747263200776423,
            -0.18747263200776423,
            -0.2874031982617834,
            -0.18747263200776423,
            -0.28139878024719234,
            -0.19647925902965085,
            -0.18747263200776423,
            0.4661838849040098,
            0.06996858924025447,
            -0.29040540726907893,
            -0.48125991275523067,
            -0.18747263200776423,
            -0.1934770500223553,
            -0.19047484101505976,
            -0.18747263200776423,
            1.2819344847270246,
            -0.3753249284866204,
            -0.3813293465012115,
            -0.2874031982617834,
            -0.18747263200776423,
            0.3244076014809776,
            0.4287613668396422,
            -0.18747263200776423,
            -0.38433155550850695,
            -0.18747263200776423,
            -0.18747263200776423,
            -0.18747263200776423,
            -0.18747263200776423,
            -0.1934770500223553,
            -0.18747263200776423,
            -0.29040540726907893,
            -0.18747263200776423,
            0.41975473981775563,
            -0.19647925902965085
           ]
          },
          {
           "axis": {
            "matches": true
           },
           "label": "PC 4 (4.4%)",
           "values": [
            -0.29420389935857005,
            -0.46982537542710734,
            0.013200206256154647,
            -0.11858242329003288,
            0.20635368090098635,
            -0.12153498981823442,
            0.5400646344617658,
            0.410331493698781,
            -0.11858242329003292,
            -0.4698253754271069,
            -0.10440425492540412,
            0.5400646344617658,
            -0.11858242329003292,
            -0.11858242329003292,
            0.1888216823246919,
            -0.11858242329003292,
            0.5400646344617658,
            -0.6454468514956438,
            -0.11858242329003292,
            0.3819751569695234,
            -0.07309535166794495,
            0.013200206256154881,
            1.1548728456912154,
            -0.11858242329003292,
            -0.4698253754271069,
            -0.29420389935856994,
            -0.11858242329003292,
            1.3560587358677885,
            1.198711692213564,
            0.8474687400764904,
            0.1888216823246919,
            -0.11858242329003292,
            -0.20322975611439398,
            -0.10440425492540412,
            -0.11858242329003292,
            0.6718472640079535,
            -0.11858242329003292,
            -0.11858242329003292,
            -0.11858242329003292,
            -0.11858242329003292,
            -0.4698253754271069,
            -0.11858242329003292,
            0.013200206256154881,
            -0.11858242329003292,
            -0.631268683131015,
            -0.6454468514956438
           ]
          }
         ],
         "hovertemplate": "color=1<br>%{xaxis.title.text}=%{x}<br>%{yaxis.title.text}=%{y}<extra></extra>",
         "legendgroup": "1",
         "marker": {
          "color": "#636efa",
          "symbol": "circle"
         },
         "name": "1",
         "showlegend": true,
         "type": "splom",
         "diagonal": {
          "visible": false
         }
        },
        {
         "dimensions": [
          {
           "axis": {
            "matches": true
           },
           "label": "PC 1 (73.8%)",
           "values": [
            -1.951187227877357,
            -2.0838323660432025,
            -2.38504359820048,
            -2.9976475765178767,
            -2.38504359820048,
            -1.951187227877357,
            -1.66880155922953,
            -3.0639701456007997,
            -2.9532199992373656,
            -2.9532199992373656,
            -1.66880155922953,
            -2.296826037315146,
            -1.8800926986308573,
            -2.38504359820048,
            -2.9313250074349537,
            -2.9532199992373656,
            -1.9292922360749454,
            -2.230503468232223,
            -2.9313250074349537,
            -2.9313250074349537,
            -1.8800926986308573,
            -2.230503468232223,
            -1.9292922360749454,
            -2.6301137752776764,
            -2.2523984600346343,
            -1.8800926986308573,
            -2.230503468232223,
            -3.0195425683202886,
            -2.9532199992373656,
            -1.951187227877357,
            -1.9292922360749454,
            -2.230503468232223,
            -1.951187227877357,
            -1.9292922360749454,
            -2.9313250074349537,
            -1.4339128961551753,
            -2.0838323660432025,
            -1.6007764582759918,
            -2.6301137752776764,
            -2.296826037315146,
            -2.9313250074349537,
            -2.2523984600346343,
            -2.630113775277677,
            -1.5788814664735804
           ]
          },
          {
           "axis": {
            "matches": true
           },
           "label": "PC 2 (10.3%)",
           "values": [
            0.6289285868317513,
            0.42665993082346204,
            0.044820962528107855,
            -0.9558399747026249,
            0.044820962528107855,
            0.6289285868317513,
            0.22993088301248538,
            -1.0569743027067697,
            -0.4663673513903287,
            -0.4663673513903287,
            0.22993088301248538,
            -0.24238300477589927,
            0.21547980819160842,
            0.044820962528107855,
            -0.8547056466984804,
            -0.4663673513903287,
            0.24059029152359962,
            -0.14124867677175448,
            -0.8547056466984804,
            -0.8547056466984804,
            0.21547980819160842,
            -0.14124867677175448,
            0.24059029152359962,
            -0.4728666784031263,
            0.24708961853639727,
            0.21547980819160842,
            -0.14124867677175448,
            -0.5675016793944734,
            -0.4663673513903287,
            0.6289285868317513,
            0.24059029152359962,
            -0.14124867677175448,
            0.6289285868317513,
            0.24059029152359962,
            -0.8547056466984804,
            0.5106355233036947,
            0.42665993082346204,
            0.9856570717951142,
            -0.4728666784031263,
            -0.24238300477589927,
            -0.8547056466984804,
            0.24708961853639727,
            -0.4728666784031264,
            0.5973187764869626
           ]
          },
          {
           "axis": {
            "matches": true
           },
           "label": "PC 3 (6.6%)",
           "values": [
            0.19931949184341197,
            0.7950513884827759,
            1.0524926097307947,
            -0.8336320822022505,
            1.0524926097307947,
            0.19931949184341197,
            0.19189408373147104,
            -0.5357661338825683,
            -1.2254241787613607,
            -1.2254241787613607,
            0.19189408373147104,
            0.8485528096505407,
            1.3917793072572544,
            1.0524926097307947,
            -1.1314980305219322,
            -1.2254241787613607,
            0.29324564008284,
            0.5506868613308588,
            -1.1314980305219322,
            -1.1314980305219322,
            1.3917793072572544,
            0.5506868613308588,
            0.29324564008284,
            -1.388939251769951,
            0.4567607130914307,
            1.3917793072572544,
            0.5506868613308588,
            -0.927558230441679,
            -1.2254241787613607,
            0.19931949184341197,
            0.29324564008284,
            0.5506868613308588,
            0.19931949184341197,
            0.29324564008284,
            -1.1314980305219322,
            0.23231881080313416,
            0.7950513884827759,
            1.0404119377698076,
            -1.388939251769951,
            0.8485528096505407,
            -1.1314980305219322,
            0.4567607130914307,
            -1.3889392517699513,
            1.1343380860092356
           ]
          },
          {
           "axis": {
            "matches": true
           },
           "label": "PC 4 (4.4%)",
           "values": [
            -0.0326682695290306,
            1.3823076496420743,
            1.4277947212641624,
            0.4180449807940919,
            1.4277947212641624,
            -0.0326682695290306,
            -0.6145193524012825,
            1.1255329403796448,
            0.3692040789603385,
            0.3692040789603385,
            -0.6145193524012825,
            0.06165970392681086,
            -0.8240208940923822,
            1.4277947212641624,
            -0.2894429787914603,
            0.3692040789603385,
            -0.6913153272808296,
            -0.6458282556587416,
            -0.2894429787914603,
            -0.2894429787914603,
            -0.8240208940923822,
            -0.6458282556587416,
            -0.6913153272808296,
            -0.3349300504135483,
            0.012818802093057293,
            -0.8240208940923822,
            -0.6458282556587416,
            1.076692038545891,
            0.3692040789603385,
            -0.0326682695290306,
            -0.6913153272808296,
            -0.6458282556587416,
            -0.0326682695290306,
            -0.6913153272808296,
            -0.2894429787914603,
            0.04748153556218199,
            1.3823076496420743,
            -0.21086090796267115,
            -0.3349300504135483,
            0.06165970392681086,
            -0.2894429787914603,
            0.012818802093057293,
            -0.3349300504135483,
            -0.86950796571447
           ]
          }
         ],
         "hovertemplate": "color=0<br>%{xaxis.title.text}=%{x}<br>%{yaxis.title.text}=%{y}<extra></extra>",
         "legendgroup": "0",
         "marker": {
          "color": "#EF553B",
          "symbol": "circle"
         },
         "name": "0",
         "showlegend": true,
         "type": "splom",
         "diagonal": {
          "visible": false
         }
        }
       ],
       "layout": {
        "template": {
         "data": {
          "histogram2dcontour": [
           {
            "type": "histogram2dcontour",
            "colorbar": {
             "outlinewidth": 0,
             "ticks": ""
            },
            "colorscale": [
             [
              0.0,
              "#0d0887"
             ],
             [
              0.1111111111111111,
              "#46039f"
             ],
             [
              0.2222222222222222,
              "#7201a8"
             ],
             [
              0.3333333333333333,
              "#9c179e"
             ],
             [
              0.4444444444444444,
              "#bd3786"
             ],
             [
              0.5555555555555556,
              "#d8576b"
             ],
             [
              0.6666666666666666,
              "#ed7953"
             ],
             [
              0.7777777777777778,
              "#fb9f3a"
             ],
             [
              0.8888888888888888,
              "#fdca26"
             ],
             [
              1.0,
              "#f0f921"
             ]
            ]
           }
          ],
          "choropleth": [
           {
            "type": "choropleth",
            "colorbar": {
             "outlinewidth": 0,
             "ticks": ""
            }
           }
          ],
          "histogram2d": [
           {
            "type": "histogram2d",
            "colorbar": {
             "outlinewidth": 0,
             "ticks": ""
            },
            "colorscale": [
             [
              0.0,
              "#0d0887"
             ],
             [
              0.1111111111111111,
              "#46039f"
             ],
             [
              0.2222222222222222,
              "#7201a8"
             ],
             [
              0.3333333333333333,
              "#9c179e"
             ],
             [
              0.4444444444444444,
              "#bd3786"
             ],
             [
              0.5555555555555556,
              "#d8576b"
             ],
             [
              0.6666666666666666,
              "#ed7953"
             ],
             [
              0.7777777777777778,
              "#fb9f3a"
             ],
             [
              0.8888888888888888,
              "#fdca26"
             ],
             [
              1.0,
              "#f0f921"
             ]
            ]
           }
          ],
          "heatmap": [
           {
            "type": "heatmap",
            "colorbar": {
             "outlinewidth": 0,
             "ticks": ""
            },
            "colorscale": [
             [
              0.0,
              "#0d0887"
             ],
             [
              0.1111111111111111,
              "#46039f"
             ],
             [
              0.2222222222222222,
              "#7201a8"
             ],
             [
              0.3333333333333333,
              "#9c179e"
             ],
             [
              0.4444444444444444,
              "#bd3786"
             ],
             [
              0.5555555555555556,
              "#d8576b"
             ],
             [
              0.6666666666666666,
              "#ed7953"
             ],
             [
              0.7777777777777778,
              "#fb9f3a"
             ],
             [
              0.8888888888888888,
              "#fdca26"
             ],
             [
              1.0,
              "#f0f921"
             ]
            ]
           }
          ],
          "heatmapgl": [
           {
            "type": "heatmapgl",
            "colorbar": {
             "outlinewidth": 0,
             "ticks": ""
            },
            "colorscale": [
             [
              0.0,
              "#0d0887"
             ],
             [
              0.1111111111111111,
              "#46039f"
             ],
             [
              0.2222222222222222,
              "#7201a8"
             ],
             [
              0.3333333333333333,
              "#9c179e"
             ],
             [
              0.4444444444444444,
              "#bd3786"
             ],
             [
              0.5555555555555556,
              "#d8576b"
             ],
             [
              0.6666666666666666,
              "#ed7953"
             ],
             [
              0.7777777777777778,
              "#fb9f3a"
             ],
             [
              0.8888888888888888,
              "#fdca26"
             ],
             [
              1.0,
              "#f0f921"
             ]
            ]
           }
          ],
          "contourcarpet": [
           {
            "type": "contourcarpet",
            "colorbar": {
             "outlinewidth": 0,
             "ticks": ""
            }
           }
          ],
          "contour": [
           {
            "type": "contour",
            "colorbar": {
             "outlinewidth": 0,
             "ticks": ""
            },
            "colorscale": [
             [
              0.0,
              "#0d0887"
             ],
             [
              0.1111111111111111,
              "#46039f"
             ],
             [
              0.2222222222222222,
              "#7201a8"
             ],
             [
              0.3333333333333333,
              "#9c179e"
             ],
             [
              0.4444444444444444,
              "#bd3786"
             ],
             [
              0.5555555555555556,
              "#d8576b"
             ],
             [
              0.6666666666666666,
              "#ed7953"
             ],
             [
              0.7777777777777778,
              "#fb9f3a"
             ],
             [
              0.8888888888888888,
              "#fdca26"
             ],
             [
              1.0,
              "#f0f921"
             ]
            ]
           }
          ],
          "surface": [
           {
            "type": "surface",
            "colorbar": {
             "outlinewidth": 0,
             "ticks": ""
            },
            "colorscale": [
             [
              0.0,
              "#0d0887"
             ],
             [
              0.1111111111111111,
              "#46039f"
             ],
             [
              0.2222222222222222,
              "#7201a8"
             ],
             [
              0.3333333333333333,
              "#9c179e"
             ],
             [
              0.4444444444444444,
              "#bd3786"
             ],
             [
              0.5555555555555556,
              "#d8576b"
             ],
             [
              0.6666666666666666,
              "#ed7953"
             ],
             [
              0.7777777777777778,
              "#fb9f3a"
             ],
             [
              0.8888888888888888,
              "#fdca26"
             ],
             [
              1.0,
              "#f0f921"
             ]
            ]
           }
          ],
          "mesh3d": [
           {
            "type": "mesh3d",
            "colorbar": {
             "outlinewidth": 0,
             "ticks": ""
            }
           }
          ],
          "scatter": [
           {
            "fillpattern": {
             "fillmode": "overlay",
             "size": 10,
             "solidity": 0.2
            },
            "type": "scatter"
           }
          ],
          "parcoords": [
           {
            "type": "parcoords",
            "line": {
             "colorbar": {
              "outlinewidth": 0,
              "ticks": ""
             }
            }
           }
          ],
          "scatterpolargl": [
           {
            "type": "scatterpolargl",
            "marker": {
             "colorbar": {
              "outlinewidth": 0,
              "ticks": ""
             }
            }
           }
          ],
          "bar": [
           {
            "error_x": {
             "color": "#2a3f5f"
            },
            "error_y": {
             "color": "#2a3f5f"
            },
            "marker": {
             "line": {
              "color": "#E5ECF6",
              "width": 0.5
             },
             "pattern": {
              "fillmode": "overlay",
              "size": 10,
              "solidity": 0.2
             }
            },
            "type": "bar"
           }
          ],
          "scattergeo": [
           {
            "type": "scattergeo",
            "marker": {
             "colorbar": {
              "outlinewidth": 0,
              "ticks": ""
             }
            }
           }
          ],
          "scatterpolar": [
           {
            "type": "scatterpolar",
            "marker": {
             "colorbar": {
              "outlinewidth": 0,
              "ticks": ""
             }
            }
           }
          ],
          "histogram": [
           {
            "marker": {
             "pattern": {
              "fillmode": "overlay",
              "size": 10,
              "solidity": 0.2
             }
            },
            "type": "histogram"
           }
          ],
          "scattergl": [
           {
            "type": "scattergl",
            "marker": {
             "colorbar": {
              "outlinewidth": 0,
              "ticks": ""
             }
            }
           }
          ],
          "scatter3d": [
           {
            "type": "scatter3d",
            "line": {
             "colorbar": {
              "outlinewidth": 0,
              "ticks": ""
             }
            },
            "marker": {
             "colorbar": {
              "outlinewidth": 0,
              "ticks": ""
             }
            }
           }
          ],
          "scattermapbox": [
           {
            "type": "scattermapbox",
            "marker": {
             "colorbar": {
              "outlinewidth": 0,
              "ticks": ""
             }
            }
           }
          ],
          "scatterternary": [
           {
            "type": "scatterternary",
            "marker": {
             "colorbar": {
              "outlinewidth": 0,
              "ticks": ""
             }
            }
           }
          ],
          "scattercarpet": [
           {
            "type": "scattercarpet",
            "marker": {
             "colorbar": {
              "outlinewidth": 0,
              "ticks": ""
             }
            }
           }
          ],
          "carpet": [
           {
            "aaxis": {
             "endlinecolor": "#2a3f5f",
             "gridcolor": "white",
             "linecolor": "white",
             "minorgridcolor": "white",
             "startlinecolor": "#2a3f5f"
            },
            "baxis": {
             "endlinecolor": "#2a3f5f",
             "gridcolor": "white",
             "linecolor": "white",
             "minorgridcolor": "white",
             "startlinecolor": "#2a3f5f"
            },
            "type": "carpet"
           }
          ],
          "table": [
           {
            "cells": {
             "fill": {
              "color": "#EBF0F8"
             },
             "line": {
              "color": "white"
             }
            },
            "header": {
             "fill": {
              "color": "#C8D4E3"
             },
             "line": {
              "color": "white"
             }
            },
            "type": "table"
           }
          ],
          "barpolar": [
           {
            "marker": {
             "line": {
              "color": "#E5ECF6",
              "width": 0.5
             },
             "pattern": {
              "fillmode": "overlay",
              "size": 10,
              "solidity": 0.2
             }
            },
            "type": "barpolar"
           }
          ],
          "pie": [
           {
            "automargin": true,
            "type": "pie"
           }
          ]
         },
         "layout": {
          "autotypenumbers": "strict",
          "colorway": [
           "#636efa",
           "#EF553B",
           "#00cc96",
           "#ab63fa",
           "#FFA15A",
           "#19d3f3",
           "#FF6692",
           "#B6E880",
           "#FF97FF",
           "#FECB52"
          ],
          "font": {
           "color": "#2a3f5f"
          },
          "hovermode": "closest",
          "hoverlabel": {
           "align": "left"
          },
          "paper_bgcolor": "white",
          "plot_bgcolor": "#E5ECF6",
          "polar": {
           "bgcolor": "#E5ECF6",
           "angularaxis": {
            "gridcolor": "white",
            "linecolor": "white",
            "ticks": ""
           },
           "radialaxis": {
            "gridcolor": "white",
            "linecolor": "white",
            "ticks": ""
           }
          },
          "ternary": {
           "bgcolor": "#E5ECF6",
           "aaxis": {
            "gridcolor": "white",
            "linecolor": "white",
            "ticks": ""
           },
           "baxis": {
            "gridcolor": "white",
            "linecolor": "white",
            "ticks": ""
           },
           "caxis": {
            "gridcolor": "white",
            "linecolor": "white",
            "ticks": ""
           }
          },
          "coloraxis": {
           "colorbar": {
            "outlinewidth": 0,
            "ticks": ""
           }
          },
          "colorscale": {
           "sequential": [
            [
             0.0,
             "#0d0887"
            ],
            [
             0.1111111111111111,
             "#46039f"
            ],
            [
             0.2222222222222222,
             "#7201a8"
            ],
            [
             0.3333333333333333,
             "#9c179e"
            ],
            [
             0.4444444444444444,
             "#bd3786"
            ],
            [
             0.5555555555555556,
             "#d8576b"
            ],
            [
             0.6666666666666666,
             "#ed7953"
            ],
            [
             0.7777777777777778,
             "#fb9f3a"
            ],
            [
             0.8888888888888888,
             "#fdca26"
            ],
            [
             1.0,
             "#f0f921"
            ]
           ],
           "sequentialminus": [
            [
             0.0,
             "#0d0887"
            ],
            [
             0.1111111111111111,
             "#46039f"
            ],
            [
             0.2222222222222222,
             "#7201a8"
            ],
            [
             0.3333333333333333,
             "#9c179e"
            ],
            [
             0.4444444444444444,
             "#bd3786"
            ],
            [
             0.5555555555555556,
             "#d8576b"
            ],
            [
             0.6666666666666666,
             "#ed7953"
            ],
            [
             0.7777777777777778,
             "#fb9f3a"
            ],
            [
             0.8888888888888888,
             "#fdca26"
            ],
            [
             1.0,
             "#f0f921"
            ]
           ],
           "diverging": [
            [
             0,
             "#8e0152"
            ],
            [
             0.1,
             "#c51b7d"
            ],
            [
             0.2,
             "#de77ae"
            ],
            [
             0.3,
             "#f1b6da"
            ],
            [
             0.4,
             "#fde0ef"
            ],
            [
             0.5,
             "#f7f7f7"
            ],
            [
             0.6,
             "#e6f5d0"
            ],
            [
             0.7,
             "#b8e186"
            ],
            [
             0.8,
             "#7fbc41"
            ],
            [
             0.9,
             "#4d9221"
            ],
            [
             1,
             "#276419"
            ]
           ]
          },
          "xaxis": {
           "gridcolor": "white",
           "linecolor": "white",
           "ticks": "",
           "title": {
            "standoff": 15
           },
           "zerolinecolor": "white",
           "automargin": true,
           "zerolinewidth": 2
          },
          "yaxis": {
           "gridcolor": "white",
           "linecolor": "white",
           "ticks": "",
           "title": {
            "standoff": 15
           },
           "zerolinecolor": "white",
           "automargin": true,
           "zerolinewidth": 2
          },
          "scene": {
           "xaxis": {
            "backgroundcolor": "#E5ECF6",
            "gridcolor": "white",
            "linecolor": "white",
            "showbackground": true,
            "ticks": "",
            "zerolinecolor": "white",
            "gridwidth": 2
           },
           "yaxis": {
            "backgroundcolor": "#E5ECF6",
            "gridcolor": "white",
            "linecolor": "white",
            "showbackground": true,
            "ticks": "",
            "zerolinecolor": "white",
            "gridwidth": 2
           },
           "zaxis": {
            "backgroundcolor": "#E5ECF6",
            "gridcolor": "white",
            "linecolor": "white",
            "showbackground": true,
            "ticks": "",
            "zerolinecolor": "white",
            "gridwidth": 2
           }
          },
          "shapedefaults": {
           "line": {
            "color": "#2a3f5f"
           }
          },
          "annotationdefaults": {
           "arrowcolor": "#2a3f5f",
           "arrowhead": 0,
           "arrowwidth": 1
          },
          "geo": {
           "bgcolor": "white",
           "landcolor": "#E5ECF6",
           "subunitcolor": "white",
           "showland": true,
           "showlakes": true,
           "lakecolor": "white"
          },
          "title": {
           "x": 0.05
          },
          "mapbox": {
           "style": "light"
          }
         }
        },
        "legend": {
         "title": {
          "text": "color"
         },
         "tracegroupgap": 0
        },
        "margin": {
         "t": 60
        },
        "dragmode": "select"
       },
       "config": {
        "plotlyServerURL": "https://plot.ly"
       }
      },
      "text/html": "<div>                            <div id=\"b9a385da-a252-434e-9186-9a631b497796\" class=\"plotly-graph-div\" style=\"height:525px; width:100%;\"></div>            <script type=\"text/javascript\">                require([\"plotly\"], function(Plotly) {                    window.PLOTLYENV=window.PLOTLYENV || {};                                    if (document.getElementById(\"b9a385da-a252-434e-9186-9a631b497796\")) {                    Plotly.newPlot(                        \"b9a385da-a252-434e-9186-9a631b497796\",                        [{\"dimensions\":[{\"axis\":{\"matches\":true},\"label\":\"PC 1 (73.8%)\",\"values\":[2.455574355125071,1.7728614009806418,1.0682534550337992,3.138287309269505,1.1448369228950248,0.8507591179468698,3.116392317467094,0.10172359471951523,3.138287309269506,1.772861400980642,2.275374168109534,3.116392317467094,3.138287309269506,3.138287309269506,1.7509664091782309,3.138287309269506,3.116392317467094,1.0901484468362101,3.138287309269506,1.8275498770394567,2.8370760771122283,1.068253455033799,0.34175051728454553,3.138287309269506,1.772861400980642,2.455574355125074,3.138287309269506,1.8415177977864117,3.0944973256646833,1.72907141737582,1.7509664091782309,3.138287309269506,1.85315189081052,2.275374168109534,3.138287309269506,1.0463584632313878,3.138287309269506,3.138287309269506,3.138287309269506,3.138287309269506,1.772861400980642,3.138287309269506,1.068253455033799,3.138287309269506,0.22723530567623873,1.0901484468362101]},{\"axis\":{\"matches\":true},\"label\":\"PC 2 (10.3%)\",\"values\":[0.1297362444028717,0.7840563043135923,1.8267146595324668,-0.5245838155078518,0.31174241652520757,-2.401800431451279,-0.13624552019969977,-1.848614699544702,-0.5245838155078517,0.7840563043135923,-1.2776023435874453,-0.13624552019969996,-0.5245838155078517,-0.5245838155078517,1.172394599621744,-0.5245838155078517,-0.13624552019969996,1.4383763642243141,-0.5245838155078517,-0.342577643385514,-0.9064227838032058,1.826714659532466,3.2577113100594914,-0.5245838155078517,0.7840563043135923,0.1297362444028702,-0.5245838155078517,-1.8617099678910893,0.2520927751084521,1.5607328949298955,1.172394599621744,-0.5245838155078517,-0.633941692187838,-1.2776023435874453,-0.5245838155078517,2.2150529548406177,-0.5245838155078517,-0.5245838155078517,-0.5245838155078517,-0.5245838155078517,0.7840563043135923,-0.5245838155078517,1.826714659532466,-0.5245838155078517,0.6853578361447202,1.4383763642243141]},{\"axis\":{\"matches\":true},\"label\":\"PC 3 (6.6%)\",\"values\":[-0.19047484101506124,-0.1934770500223552,-0.29040540726907915,-0.18747263200776526,0.4631816758967144,1.4037881432864365,-0.28139878024719234,1.6986518825988228,-0.18747263200776423,-0.1934770500223553,0.4287613668396422,-0.28139878024719234,-0.18747263200776423,-0.18747263200776423,-0.2874031982617834,-0.18747263200776423,-0.28139878024719234,-0.19647925902965085,-0.18747263200776423,0.4661838849040098,0.06996858924025447,-0.29040540726907893,-0.48125991275523067,-0.18747263200776423,-0.1934770500223553,-0.19047484101505976,-0.18747263200776423,1.2819344847270246,-0.3753249284866204,-0.3813293465012115,-0.2874031982617834,-0.18747263200776423,0.3244076014809776,0.4287613668396422,-0.18747263200776423,-0.38433155550850695,-0.18747263200776423,-0.18747263200776423,-0.18747263200776423,-0.18747263200776423,-0.1934770500223553,-0.18747263200776423,-0.29040540726907893,-0.18747263200776423,0.41975473981775563,-0.19647925902965085]},{\"axis\":{\"matches\":true},\"label\":\"PC 4 (4.4%)\",\"values\":[-0.29420389935857005,-0.46982537542710734,0.013200206256154647,-0.11858242329003288,0.20635368090098635,-0.12153498981823442,0.5400646344617658,0.410331493698781,-0.11858242329003292,-0.4698253754271069,-0.10440425492540412,0.5400646344617658,-0.11858242329003292,-0.11858242329003292,0.1888216823246919,-0.11858242329003292,0.5400646344617658,-0.6454468514956438,-0.11858242329003292,0.3819751569695234,-0.07309535166794495,0.013200206256154881,1.1548728456912154,-0.11858242329003292,-0.4698253754271069,-0.29420389935856994,-0.11858242329003292,1.3560587358677885,1.198711692213564,0.8474687400764904,0.1888216823246919,-0.11858242329003292,-0.20322975611439398,-0.10440425492540412,-0.11858242329003292,0.6718472640079535,-0.11858242329003292,-0.11858242329003292,-0.11858242329003292,-0.11858242329003292,-0.4698253754271069,-0.11858242329003292,0.013200206256154881,-0.11858242329003292,-0.631268683131015,-0.6454468514956438]}],\"hovertemplate\":\"color=1<br>%{xaxis.title.text}=%{x}<br>%{yaxis.title.text}=%{y}<extra></extra>\",\"legendgroup\":\"1\",\"marker\":{\"color\":\"#636efa\",\"symbol\":\"circle\"},\"name\":\"1\",\"showlegend\":true,\"type\":\"splom\",\"diagonal\":{\"visible\":false}},{\"dimensions\":[{\"axis\":{\"matches\":true},\"label\":\"PC 1 (73.8%)\",\"values\":[-1.951187227877357,-2.0838323660432025,-2.38504359820048,-2.9976475765178767,-2.38504359820048,-1.951187227877357,-1.66880155922953,-3.0639701456007997,-2.9532199992373656,-2.9532199992373656,-1.66880155922953,-2.296826037315146,-1.8800926986308573,-2.38504359820048,-2.9313250074349537,-2.9532199992373656,-1.9292922360749454,-2.230503468232223,-2.9313250074349537,-2.9313250074349537,-1.8800926986308573,-2.230503468232223,-1.9292922360749454,-2.6301137752776764,-2.2523984600346343,-1.8800926986308573,-2.230503468232223,-3.0195425683202886,-2.9532199992373656,-1.951187227877357,-1.9292922360749454,-2.230503468232223,-1.951187227877357,-1.9292922360749454,-2.9313250074349537,-1.4339128961551753,-2.0838323660432025,-1.6007764582759918,-2.6301137752776764,-2.296826037315146,-2.9313250074349537,-2.2523984600346343,-2.630113775277677,-1.5788814664735804]},{\"axis\":{\"matches\":true},\"label\":\"PC 2 (10.3%)\",\"values\":[0.6289285868317513,0.42665993082346204,0.044820962528107855,-0.9558399747026249,0.044820962528107855,0.6289285868317513,0.22993088301248538,-1.0569743027067697,-0.4663673513903287,-0.4663673513903287,0.22993088301248538,-0.24238300477589927,0.21547980819160842,0.044820962528107855,-0.8547056466984804,-0.4663673513903287,0.24059029152359962,-0.14124867677175448,-0.8547056466984804,-0.8547056466984804,0.21547980819160842,-0.14124867677175448,0.24059029152359962,-0.4728666784031263,0.24708961853639727,0.21547980819160842,-0.14124867677175448,-0.5675016793944734,-0.4663673513903287,0.6289285868317513,0.24059029152359962,-0.14124867677175448,0.6289285868317513,0.24059029152359962,-0.8547056466984804,0.5106355233036947,0.42665993082346204,0.9856570717951142,-0.4728666784031263,-0.24238300477589927,-0.8547056466984804,0.24708961853639727,-0.4728666784031264,0.5973187764869626]},{\"axis\":{\"matches\":true},\"label\":\"PC 3 (6.6%)\",\"values\":[0.19931949184341197,0.7950513884827759,1.0524926097307947,-0.8336320822022505,1.0524926097307947,0.19931949184341197,0.19189408373147104,-0.5357661338825683,-1.2254241787613607,-1.2254241787613607,0.19189408373147104,0.8485528096505407,1.3917793072572544,1.0524926097307947,-1.1314980305219322,-1.2254241787613607,0.29324564008284,0.5506868613308588,-1.1314980305219322,-1.1314980305219322,1.3917793072572544,0.5506868613308588,0.29324564008284,-1.388939251769951,0.4567607130914307,1.3917793072572544,0.5506868613308588,-0.927558230441679,-1.2254241787613607,0.19931949184341197,0.29324564008284,0.5506868613308588,0.19931949184341197,0.29324564008284,-1.1314980305219322,0.23231881080313416,0.7950513884827759,1.0404119377698076,-1.388939251769951,0.8485528096505407,-1.1314980305219322,0.4567607130914307,-1.3889392517699513,1.1343380860092356]},{\"axis\":{\"matches\":true},\"label\":\"PC 4 (4.4%)\",\"values\":[-0.0326682695290306,1.3823076496420743,1.4277947212641624,0.4180449807940919,1.4277947212641624,-0.0326682695290306,-0.6145193524012825,1.1255329403796448,0.3692040789603385,0.3692040789603385,-0.6145193524012825,0.06165970392681086,-0.8240208940923822,1.4277947212641624,-0.2894429787914603,0.3692040789603385,-0.6913153272808296,-0.6458282556587416,-0.2894429787914603,-0.2894429787914603,-0.8240208940923822,-0.6458282556587416,-0.6913153272808296,-0.3349300504135483,0.012818802093057293,-0.8240208940923822,-0.6458282556587416,1.076692038545891,0.3692040789603385,-0.0326682695290306,-0.6913153272808296,-0.6458282556587416,-0.0326682695290306,-0.6913153272808296,-0.2894429787914603,0.04748153556218199,1.3823076496420743,-0.21086090796267115,-0.3349300504135483,0.06165970392681086,-0.2894429787914603,0.012818802093057293,-0.3349300504135483,-0.86950796571447]}],\"hovertemplate\":\"color=0<br>%{xaxis.title.text}=%{x}<br>%{yaxis.title.text}=%{y}<extra></extra>\",\"legendgroup\":\"0\",\"marker\":{\"color\":\"#EF553B\",\"symbol\":\"circle\"},\"name\":\"0\",\"showlegend\":true,\"type\":\"splom\",\"diagonal\":{\"visible\":false}}],                        {\"template\":{\"data\":{\"histogram2dcontour\":[{\"type\":\"histogram2dcontour\",\"colorbar\":{\"outlinewidth\":0,\"ticks\":\"\"},\"colorscale\":[[0.0,\"#0d0887\"],[0.1111111111111111,\"#46039f\"],[0.2222222222222222,\"#7201a8\"],[0.3333333333333333,\"#9c179e\"],[0.4444444444444444,\"#bd3786\"],[0.5555555555555556,\"#d8576b\"],[0.6666666666666666,\"#ed7953\"],[0.7777777777777778,\"#fb9f3a\"],[0.8888888888888888,\"#fdca26\"],[1.0,\"#f0f921\"]]}],\"choropleth\":[{\"type\":\"choropleth\",\"colorbar\":{\"outlinewidth\":0,\"ticks\":\"\"}}],\"histogram2d\":[{\"type\":\"histogram2d\",\"colorbar\":{\"outlinewidth\":0,\"ticks\":\"\"},\"colorscale\":[[0.0,\"#0d0887\"],[0.1111111111111111,\"#46039f\"],[0.2222222222222222,\"#7201a8\"],[0.3333333333333333,\"#9c179e\"],[0.4444444444444444,\"#bd3786\"],[0.5555555555555556,\"#d8576b\"],[0.6666666666666666,\"#ed7953\"],[0.7777777777777778,\"#fb9f3a\"],[0.8888888888888888,\"#fdca26\"],[1.0,\"#f0f921\"]]}],\"heatmap\":[{\"type\":\"heatmap\",\"colorbar\":{\"outlinewidth\":0,\"ticks\":\"\"},\"colorscale\":[[0.0,\"#0d0887\"],[0.1111111111111111,\"#46039f\"],[0.2222222222222222,\"#7201a8\"],[0.3333333333333333,\"#9c179e\"],[0.4444444444444444,\"#bd3786\"],[0.5555555555555556,\"#d8576b\"],[0.6666666666666666,\"#ed7953\"],[0.7777777777777778,\"#fb9f3a\"],[0.8888888888888888,\"#fdca26\"],[1.0,\"#f0f921\"]]}],\"heatmapgl\":[{\"type\":\"heatmapgl\",\"colorbar\":{\"outlinewidth\":0,\"ticks\":\"\"},\"colorscale\":[[0.0,\"#0d0887\"],[0.1111111111111111,\"#46039f\"],[0.2222222222222222,\"#7201a8\"],[0.3333333333333333,\"#9c179e\"],[0.4444444444444444,\"#bd3786\"],[0.5555555555555556,\"#d8576b\"],[0.6666666666666666,\"#ed7953\"],[0.7777777777777778,\"#fb9f3a\"],[0.8888888888888888,\"#fdca26\"],[1.0,\"#f0f921\"]]}],\"contourcarpet\":[{\"type\":\"contourcarpet\",\"colorbar\":{\"outlinewidth\":0,\"ticks\":\"\"}}],\"contour\":[{\"type\":\"contour\",\"colorbar\":{\"outlinewidth\":0,\"ticks\":\"\"},\"colorscale\":[[0.0,\"#0d0887\"],[0.1111111111111111,\"#46039f\"],[0.2222222222222222,\"#7201a8\"],[0.3333333333333333,\"#9c179e\"],[0.4444444444444444,\"#bd3786\"],[0.5555555555555556,\"#d8576b\"],[0.6666666666666666,\"#ed7953\"],[0.7777777777777778,\"#fb9f3a\"],[0.8888888888888888,\"#fdca26\"],[1.0,\"#f0f921\"]]}],\"surface\":[{\"type\":\"surface\",\"colorbar\":{\"outlinewidth\":0,\"ticks\":\"\"},\"colorscale\":[[0.0,\"#0d0887\"],[0.1111111111111111,\"#46039f\"],[0.2222222222222222,\"#7201a8\"],[0.3333333333333333,\"#9c179e\"],[0.4444444444444444,\"#bd3786\"],[0.5555555555555556,\"#d8576b\"],[0.6666666666666666,\"#ed7953\"],[0.7777777777777778,\"#fb9f3a\"],[0.8888888888888888,\"#fdca26\"],[1.0,\"#f0f921\"]]}],\"mesh3d\":[{\"type\":\"mesh3d\",\"colorbar\":{\"outlinewidth\":0,\"ticks\":\"\"}}],\"scatter\":[{\"fillpattern\":{\"fillmode\":\"overlay\",\"size\":10,\"solidity\":0.2},\"type\":\"scatter\"}],\"parcoords\":[{\"type\":\"parcoords\",\"line\":{\"colorbar\":{\"outlinewidth\":0,\"ticks\":\"\"}}}],\"scatterpolargl\":[{\"type\":\"scatterpolargl\",\"marker\":{\"colorbar\":{\"outlinewidth\":0,\"ticks\":\"\"}}}],\"bar\":[{\"error_x\":{\"color\":\"#2a3f5f\"},\"error_y\":{\"color\":\"#2a3f5f\"},\"marker\":{\"line\":{\"color\":\"#E5ECF6\",\"width\":0.5},\"pattern\":{\"fillmode\":\"overlay\",\"size\":10,\"solidity\":0.2}},\"type\":\"bar\"}],\"scattergeo\":[{\"type\":\"scattergeo\",\"marker\":{\"colorbar\":{\"outlinewidth\":0,\"ticks\":\"\"}}}],\"scatterpolar\":[{\"type\":\"scatterpolar\",\"marker\":{\"colorbar\":{\"outlinewidth\":0,\"ticks\":\"\"}}}],\"histogram\":[{\"marker\":{\"pattern\":{\"fillmode\":\"overlay\",\"size\":10,\"solidity\":0.2}},\"type\":\"histogram\"}],\"scattergl\":[{\"type\":\"scattergl\",\"marker\":{\"colorbar\":{\"outlinewidth\":0,\"ticks\":\"\"}}}],\"scatter3d\":[{\"type\":\"scatter3d\",\"line\":{\"colorbar\":{\"outlinewidth\":0,\"ticks\":\"\"}},\"marker\":{\"colorbar\":{\"outlinewidth\":0,\"ticks\":\"\"}}}],\"scattermapbox\":[{\"type\":\"scattermapbox\",\"marker\":{\"colorbar\":{\"outlinewidth\":0,\"ticks\":\"\"}}}],\"scatterternary\":[{\"type\":\"scatterternary\",\"marker\":{\"colorbar\":{\"outlinewidth\":0,\"ticks\":\"\"}}}],\"scattercarpet\":[{\"type\":\"scattercarpet\",\"marker\":{\"colorbar\":{\"outlinewidth\":0,\"ticks\":\"\"}}}],\"carpet\":[{\"aaxis\":{\"endlinecolor\":\"#2a3f5f\",\"gridcolor\":\"white\",\"linecolor\":\"white\",\"minorgridcolor\":\"white\",\"startlinecolor\":\"#2a3f5f\"},\"baxis\":{\"endlinecolor\":\"#2a3f5f\",\"gridcolor\":\"white\",\"linecolor\":\"white\",\"minorgridcolor\":\"white\",\"startlinecolor\":\"#2a3f5f\"},\"type\":\"carpet\"}],\"table\":[{\"cells\":{\"fill\":{\"color\":\"#EBF0F8\"},\"line\":{\"color\":\"white\"}},\"header\":{\"fill\":{\"color\":\"#C8D4E3\"},\"line\":{\"color\":\"white\"}},\"type\":\"table\"}],\"barpolar\":[{\"marker\":{\"line\":{\"color\":\"#E5ECF6\",\"width\":0.5},\"pattern\":{\"fillmode\":\"overlay\",\"size\":10,\"solidity\":0.2}},\"type\":\"barpolar\"}],\"pie\":[{\"automargin\":true,\"type\":\"pie\"}]},\"layout\":{\"autotypenumbers\":\"strict\",\"colorway\":[\"#636efa\",\"#EF553B\",\"#00cc96\",\"#ab63fa\",\"#FFA15A\",\"#19d3f3\",\"#FF6692\",\"#B6E880\",\"#FF97FF\",\"#FECB52\"],\"font\":{\"color\":\"#2a3f5f\"},\"hovermode\":\"closest\",\"hoverlabel\":{\"align\":\"left\"},\"paper_bgcolor\":\"white\",\"plot_bgcolor\":\"#E5ECF6\",\"polar\":{\"bgcolor\":\"#E5ECF6\",\"angularaxis\":{\"gridcolor\":\"white\",\"linecolor\":\"white\",\"ticks\":\"\"},\"radialaxis\":{\"gridcolor\":\"white\",\"linecolor\":\"white\",\"ticks\":\"\"}},\"ternary\":{\"bgcolor\":\"#E5ECF6\",\"aaxis\":{\"gridcolor\":\"white\",\"linecolor\":\"white\",\"ticks\":\"\"},\"baxis\":{\"gridcolor\":\"white\",\"linecolor\":\"white\",\"ticks\":\"\"},\"caxis\":{\"gridcolor\":\"white\",\"linecolor\":\"white\",\"ticks\":\"\"}},\"coloraxis\":{\"colorbar\":{\"outlinewidth\":0,\"ticks\":\"\"}},\"colorscale\":{\"sequential\":[[0.0,\"#0d0887\"],[0.1111111111111111,\"#46039f\"],[0.2222222222222222,\"#7201a8\"],[0.3333333333333333,\"#9c179e\"],[0.4444444444444444,\"#bd3786\"],[0.5555555555555556,\"#d8576b\"],[0.6666666666666666,\"#ed7953\"],[0.7777777777777778,\"#fb9f3a\"],[0.8888888888888888,\"#fdca26\"],[1.0,\"#f0f921\"]],\"sequentialminus\":[[0.0,\"#0d0887\"],[0.1111111111111111,\"#46039f\"],[0.2222222222222222,\"#7201a8\"],[0.3333333333333333,\"#9c179e\"],[0.4444444444444444,\"#bd3786\"],[0.5555555555555556,\"#d8576b\"],[0.6666666666666666,\"#ed7953\"],[0.7777777777777778,\"#fb9f3a\"],[0.8888888888888888,\"#fdca26\"],[1.0,\"#f0f921\"]],\"diverging\":[[0,\"#8e0152\"],[0.1,\"#c51b7d\"],[0.2,\"#de77ae\"],[0.3,\"#f1b6da\"],[0.4,\"#fde0ef\"],[0.5,\"#f7f7f7\"],[0.6,\"#e6f5d0\"],[0.7,\"#b8e186\"],[0.8,\"#7fbc41\"],[0.9,\"#4d9221\"],[1,\"#276419\"]]},\"xaxis\":{\"gridcolor\":\"white\",\"linecolor\":\"white\",\"ticks\":\"\",\"title\":{\"standoff\":15},\"zerolinecolor\":\"white\",\"automargin\":true,\"zerolinewidth\":2},\"yaxis\":{\"gridcolor\":\"white\",\"linecolor\":\"white\",\"ticks\":\"\",\"title\":{\"standoff\":15},\"zerolinecolor\":\"white\",\"automargin\":true,\"zerolinewidth\":2},\"scene\":{\"xaxis\":{\"backgroundcolor\":\"#E5ECF6\",\"gridcolor\":\"white\",\"linecolor\":\"white\",\"showbackground\":true,\"ticks\":\"\",\"zerolinecolor\":\"white\",\"gridwidth\":2},\"yaxis\":{\"backgroundcolor\":\"#E5ECF6\",\"gridcolor\":\"white\",\"linecolor\":\"white\",\"showbackground\":true,\"ticks\":\"\",\"zerolinecolor\":\"white\",\"gridwidth\":2},\"zaxis\":{\"backgroundcolor\":\"#E5ECF6\",\"gridcolor\":\"white\",\"linecolor\":\"white\",\"showbackground\":true,\"ticks\":\"\",\"zerolinecolor\":\"white\",\"gridwidth\":2}},\"shapedefaults\":{\"line\":{\"color\":\"#2a3f5f\"}},\"annotationdefaults\":{\"arrowcolor\":\"#2a3f5f\",\"arrowhead\":0,\"arrowwidth\":1},\"geo\":{\"bgcolor\":\"white\",\"landcolor\":\"#E5ECF6\",\"subunitcolor\":\"white\",\"showland\":true,\"showlakes\":true,\"lakecolor\":\"white\"},\"title\":{\"x\":0.05},\"mapbox\":{\"style\":\"light\"}}},\"legend\":{\"title\":{\"text\":\"color\"},\"tracegroupgap\":0},\"margin\":{\"t\":60},\"dragmode\":\"select\"},                        {\"responsive\": true}                    ).then(function(){\n                            \nvar gd = document.getElementById('b9a385da-a252-434e-9186-9a631b497796');\nvar x = new MutationObserver(function (mutations, observer) {{\n        var display = window.getComputedStyle(gd).display;\n        if (!display || display === 'none') {{\n            console.log([gd, 'removed!']);\n            Plotly.purge(gd);\n            observer.disconnect();\n        }}\n}});\n\n// Listen for the removal of the full notebook cells\nvar notebookContainer = gd.closest('#notebook-container');\nif (notebookContainer) {{\n    x.observe(notebookContainer, {childList: true});\n}}\n\n// Listen for the clearing of the current output cell\nvar outputEl = gd.closest('.output');\nif (outputEl) {{\n    x.observe(outputEl, {childList: true});\n}}\n\n                        })                };                });            </script>        </div>"
     },
     "metadata": {},
     "output_type": "display_data"
    }
   ],
   "source": [
    "pca(full_data,miniBatch(full_data, 2).labels_,4)"
   ],
   "metadata": {
    "collapsed": false,
    "pycharm": {
     "name": "#%%\n"
    }
   }
  },
  {
   "cell_type": "code",
   "execution_count": 97,
   "outputs": [
    {
     "data": {
      "text/plain": "<Figure size 432x288 with 1 Axes>",
      "image/png": "[encoded data removed]"
     },
     "metadata": {
      "needs_background": "light"
     },
     "output_type": "display_data"
    }
   ],
   "source": [
    "#### birch\n",
    "re = []\n",
    "num_clu = []\n",
    "num_noise = []\n",
    "tuner = np.arange(1,11)\n",
    "for nclu in tuner:\n",
    "    re.append(within_group_square(full_data,birch(full_data, n_clusters=nclu).labels_))\n",
    "    model = birch(full_data, n_clusters=nclu)\n",
    "    n_clusters_ = len(set(model.labels_)) - (1 if -1 in model.labels_ else 0)\n",
    "    num_clu.append(n_clusters_)\n",
    "    n_noise_ = list(model.labels_).count(-1)\n",
    "    num_noise.append(n_noise_)\n",
    "\n",
    "plt.plot(tuner, re, linewidth=2, color='tan', label=\"sum of within group variance\")\n",
    "plt.scatter(tuner, num_clu, s=1, marker=\"^\", label=\"number of clusters\")\n",
    "plt.scatter(tuner, num_noise, s=1, marker=\"D\", label=\"number of noises\")\n",
    "plt.legend(loc=\"best\")\n",
    "plt.title(\"Birch Tuning - number of clusters\", fontsize=19, weight=\"bold\")\n",
    "# plt.xlabel(\"This is x axis\", fontsize=20, weight=\"bold\")\n",
    "# plt.ylabel(\"This is y axis\")\n",
    "plt.savefig(\"./demo-2.svg\", dpi=400, bbox_inches=\"tight\")\n",
    "plt.show()"
   ],
   "metadata": {
    "collapsed": false,
    "pycharm": {
     "name": "#%%\n"
    }
   }
  },
  {
   "cell_type": "code",
   "execution_count": 105,
   "outputs": [],
   "source": [
    "full_data.to_csv('full_Data.csv')"
   ],
   "metadata": {
    "collapsed": false,
    "pycharm": {
     "name": "#%%\n"
    }
   }
  },
  {
   "cell_type": "code",
   "execution_count": 106,
   "outputs": [
    {
     "name": "stdout",
     "output_type": "stream",
     "text": [
      "Cluster 0:\n",
      "              c1         c2  c3_grade  c4_grade    c5grade   c7_grade  \\\n",
      "count  46.000000  46.000000      46.0      46.0  46.000000  46.000000   \n",
      "mean    0.260870   2.630435       0.0       0.0   0.260870   0.108696   \n",
      "std     0.681005   0.710515       0.0       0.0   0.612274   0.378785   \n",
      "min     0.000000   0.000000       0.0       0.0   0.000000   0.000000   \n",
      "25%     0.000000   2.250000       0.0       0.0   0.000000   0.000000   \n",
      "50%     0.000000   3.000000       0.0       0.0   0.000000   0.000000   \n",
      "75%     0.000000   3.000000       0.0       0.0   0.000000   0.000000   \n",
      "max     3.000000   3.000000       0.0       0.0   2.000000   2.000000   \n",
      "\n",
      "       dummy_grade_level  \n",
      "count          46.000000  \n",
      "mean            2.000000  \n",
      "std             1.247219  \n",
      "min             1.000000  \n",
      "25%             1.000000  \n",
      "50%             1.000000  \n",
      "75%             3.000000  \n",
      "max             5.000000  \n",
      "Cluster 1:\n",
      "              c1         c2  c3_grade   c4_grade    c5grade   c7_grade  \\\n",
      "count  44.000000  44.000000      44.0  44.000000  44.000000  44.000000   \n",
      "mean    2.931818   2.613636       0.0   1.568182   1.636364   0.386364   \n",
      "std     0.254972   0.492545       0.0   1.086871   0.486607   0.722267   \n",
      "min     2.000000   2.000000       0.0   0.000000   1.000000   0.000000   \n",
      "25%     3.000000   2.000000       0.0   1.000000   1.000000   0.000000   \n",
      "50%     3.000000   3.000000       0.0   1.000000   2.000000   0.000000   \n",
      "75%     3.000000   3.000000       0.0   3.000000   2.000000   0.250000   \n",
      "max     3.000000   3.000000       0.0   3.000000   2.000000   2.000000   \n",
      "\n",
      "       dummy_grade_level  \n",
      "count               44.0  \n",
      "mean                 5.0  \n",
      "std                  0.0  \n",
      "min                  5.0  \n",
      "25%                  5.0  \n",
      "50%                  5.0  \n",
      "75%                  5.0  \n",
      "max                  5.0  \n"
     ]
    }
   ],
   "source": [
    "classify(full_data,birch(full_data, n_clusters=2).labels_, 'birch')"
   ],
   "metadata": {
    "collapsed": false,
    "pycharm": {
     "name": "#%%\n"
    }
   }
  },
  {
   "cell_type": "code",
   "execution_count": 95,
   "outputs": [
    {
     "name": "stderr",
     "output_type": "stream",
     "text": [
      "D:\\anaconda3\\lib\\site-packages\\plotly\\express\\_core.py:279: FutureWarning:\n",
      "\n",
      "iteritems is deprecated and will be removed in a future version. Use .items instead.\n",
      "\n"
     ]
    },
    {
     "data": {
      "application/vnd.plotly.v1+json": {
       "data": [
        {
         "dimensions": [
          {
           "axis": {
            "matches": true
           },
           "label": "PC 1 (73.8%)",
           "values": [
            2.455574355125071,
            1.7728614009806418,
            1.0682534550337992,
            3.138287309269505,
            1.1448369228950248,
            0.8507591179468698,
            3.116392317467094,
            0.10172359471951523,
            3.138287309269506,
            1.772861400980642,
            2.275374168109534,
            3.116392317467094,
            3.138287309269506,
            3.138287309269506,
            1.7509664091782309,
            3.138287309269506,
            3.116392317467094,
            1.0901484468362101,
            3.138287309269506,
            1.8275498770394567,
            2.8370760771122283,
            1.068253455033799,
            0.34175051728454553,
            3.138287309269506,
            1.772861400980642,
            2.455574355125074,
            3.138287309269506,
            1.8415177977864117,
            3.0944973256646833,
            1.72907141737582,
            1.7509664091782309,
            3.138287309269506,
            1.85315189081052,
            2.275374168109534,
            3.138287309269506,
            1.0463584632313878,
            3.138287309269506,
            3.138287309269506,
            3.138287309269506,
            3.138287309269506,
            1.772861400980642,
            3.138287309269506,
            1.068253455033799,
            3.138287309269506,
            0.22723530567623873,
            1.0901484468362101
           ]
          },
          {
           "axis": {
            "matches": true
           },
           "label": "PC 2 (10.3%)",
           "values": [
            0.1297362444028717,
            0.7840563043135923,
            1.8267146595324668,
            -0.5245838155078518,
            0.31174241652520757,
            -2.401800431451279,
            -0.13624552019969977,
            -1.848614699544702,
            -0.5245838155078517,
            0.7840563043135923,
            -1.2776023435874453,
            -0.13624552019969996,
            -0.5245838155078517,
            -0.5245838155078517,
            1.172394599621744,
            -0.5245838155078517,
            -0.13624552019969996,
            1.4383763642243141,
            -0.5245838155078517,
            -0.342577643385514,
            -0.9064227838032058,
            1.826714659532466,
            3.2577113100594914,
            -0.5245838155078517,
            0.7840563043135923,
            0.1297362444028702,
            -0.5245838155078517,
            -1.8617099678910893,
            0.2520927751084521,
            1.5607328949298955,
            1.172394599621744,
            -0.5245838155078517,
            -0.633941692187838,
            -1.2776023435874453,
            -0.5245838155078517,
            2.2150529548406177,
            -0.5245838155078517,
            -0.5245838155078517,
            -0.5245838155078517,
            -0.5245838155078517,
            0.7840563043135923,
            -0.5245838155078517,
            1.826714659532466,
            -0.5245838155078517,
            0.6853578361447202,
            1.4383763642243141
           ]
          },
          {
           "axis": {
            "matches": true
           },
           "label": "PC 3 (6.6%)",
           "values": [
            -0.19047484101506124,
            -0.1934770500223552,
            -0.29040540726907915,
            -0.18747263200776526,
            0.4631816758967144,
            1.4037881432864365,
            -0.28139878024719234,
            1.6986518825988228,
            -0.18747263200776423,
            -0.1934770500223553,
            0.4287613668396422,
            -0.28139878024719234,
            -0.18747263200776423,
            -0.18747263200776423,
            -0.2874031982617834,
            -0.18747263200776423,
            -0.28139878024719234,
            -0.19647925902965085,
            -0.18747263200776423,
            0.4661838849040098,
            0.06996858924025447,
            -0.29040540726907893,
            -0.48125991275523067,
            -0.18747263200776423,
            -0.1934770500223553,
            -0.19047484101505976,
            -0.18747263200776423,
            1.2819344847270246,
            -0.3753249284866204,
            -0.3813293465012115,
            -0.2874031982617834,
            -0.18747263200776423,
            0.3244076014809776,
            0.4287613668396422,
            -0.18747263200776423,
            -0.38433155550850695,
            -0.18747263200776423,
            -0.18747263200776423,
            -0.18747263200776423,
            -0.18747263200776423,
            -0.1934770500223553,
            -0.18747263200776423,
            -0.29040540726907893,
            -0.18747263200776423,
            0.41975473981775563,
            -0.19647925902965085
           ]
          },
          {
           "axis": {
            "matches": true
           },
           "label": "PC 4 (4.4%)",
           "values": [
            -0.29420389935857005,
            -0.46982537542710734,
            0.013200206256154647,
            -0.11858242329003288,
            0.20635368090098635,
            -0.12153498981823442,
            0.5400646344617658,
            0.410331493698781,
            -0.11858242329003292,
            -0.4698253754271069,
            -0.10440425492540412,
            0.5400646344617658,
            -0.11858242329003292,
            -0.11858242329003292,
            0.1888216823246919,
            -0.11858242329003292,
            0.5400646344617658,
            -0.6454468514956438,
            -0.11858242329003292,
            0.3819751569695234,
            -0.07309535166794495,
            0.013200206256154881,
            1.1548728456912154,
            -0.11858242329003292,
            -0.4698253754271069,
            -0.29420389935856994,
            -0.11858242329003292,
            1.3560587358677885,
            1.198711692213564,
            0.8474687400764904,
            0.1888216823246919,
            -0.11858242329003292,
            -0.20322975611439398,
            -0.10440425492540412,
            -0.11858242329003292,
            0.6718472640079535,
            -0.11858242329003292,
            -0.11858242329003292,
            -0.11858242329003292,
            -0.11858242329003292,
            -0.4698253754271069,
            -0.11858242329003292,
            0.013200206256154881,
            -0.11858242329003292,
            -0.631268683131015,
            -0.6454468514956438
           ]
          }
         ],
         "hovertemplate": "color=0<br>%{xaxis.title.text}=%{x}<br>%{yaxis.title.text}=%{y}<extra></extra>",
         "legendgroup": "0",
         "marker": {
          "color": "#636efa",
          "symbol": "circle"
         },
         "name": "0",
         "showlegend": true,
         "type": "splom",
         "diagonal": {
          "visible": false
         }
        },
        {
         "dimensions": [
          {
           "axis": {
            "matches": true
           },
           "label": "PC 1 (73.8%)",
           "values": [
            -1.951187227877357,
            -2.0838323660432025,
            -2.38504359820048,
            -2.9976475765178767,
            -2.38504359820048,
            -1.951187227877357,
            -1.66880155922953,
            -3.0639701456007997,
            -2.9532199992373656,
            -2.9532199992373656,
            -1.66880155922953,
            -2.296826037315146,
            -1.8800926986308573,
            -2.38504359820048,
            -2.9313250074349537,
            -2.9532199992373656,
            -1.9292922360749454,
            -2.230503468232223,
            -2.9313250074349537,
            -2.9313250074349537,
            -1.8800926986308573,
            -2.230503468232223,
            -1.9292922360749454,
            -2.6301137752776764,
            -2.2523984600346343,
            -1.8800926986308573,
            -2.230503468232223,
            -3.0195425683202886,
            -2.9532199992373656,
            -1.951187227877357,
            -1.9292922360749454,
            -2.230503468232223,
            -1.951187227877357,
            -1.9292922360749454,
            -2.9313250074349537,
            -1.4339128961551753,
            -2.0838323660432025,
            -1.6007764582759918,
            -2.6301137752776764,
            -2.296826037315146,
            -2.9313250074349537,
            -2.2523984600346343,
            -2.630113775277677,
            -1.5788814664735804
           ]
          },
          {
           "axis": {
            "matches": true
           },
           "label": "PC 2 (10.3%)",
           "values": [
            0.6289285868317513,
            0.42665993082346204,
            0.044820962528107855,
            -0.9558399747026249,
            0.044820962528107855,
            0.6289285868317513,
            0.22993088301248538,
            -1.0569743027067697,
            -0.4663673513903287,
            -0.4663673513903287,
            0.22993088301248538,
            -0.24238300477589927,
            0.21547980819160842,
            0.044820962528107855,
            -0.8547056466984804,
            -0.4663673513903287,
            0.24059029152359962,
            -0.14124867677175448,
            -0.8547056466984804,
            -0.8547056466984804,
            0.21547980819160842,
            -0.14124867677175448,
            0.24059029152359962,
            -0.4728666784031263,
            0.24708961853639727,
            0.21547980819160842,
            -0.14124867677175448,
            -0.5675016793944734,
            -0.4663673513903287,
            0.6289285868317513,
            0.24059029152359962,
            -0.14124867677175448,
            0.6289285868317513,
            0.24059029152359962,
            -0.8547056466984804,
            0.5106355233036947,
            0.42665993082346204,
            0.9856570717951142,
            -0.4728666784031263,
            -0.24238300477589927,
            -0.8547056466984804,
            0.24708961853639727,
            -0.4728666784031264,
            0.5973187764869626
           ]
          },
          {
           "axis": {
            "matches": true
           },
           "label": "PC 3 (6.6%)",
           "values": [
            0.19931949184341197,
            0.7950513884827759,
            1.0524926097307947,
            -0.8336320822022505,
            1.0524926097307947,
            0.19931949184341197,
            0.19189408373147104,
            -0.5357661338825683,
            -1.2254241787613607,
            -1.2254241787613607,
            0.19189408373147104,
            0.8485528096505407,
            1.3917793072572544,
            1.0524926097307947,
            -1.1314980305219322,
            -1.2254241787613607,
            0.29324564008284,
            0.5506868613308588,
            -1.1314980305219322,
            -1.1314980305219322,
            1.3917793072572544,
            0.5506868613308588,
            0.29324564008284,
            -1.388939251769951,
            0.4567607130914307,
            1.3917793072572544,
            0.5506868613308588,
            -0.927558230441679,
            -1.2254241787613607,
            0.19931949184341197,
            0.29324564008284,
            0.5506868613308588,
            0.19931949184341197,
            0.29324564008284,
            -1.1314980305219322,
            0.23231881080313416,
            0.7950513884827759,
            1.0404119377698076,
            -1.388939251769951,
            0.8485528096505407,
            -1.1314980305219322,
            0.4567607130914307,
            -1.3889392517699513,
            1.1343380860092356
           ]
          },
          {
           "axis": {
            "matches": true
           },
           "label": "PC 4 (4.4%)",
           "values": [
            -0.0326682695290306,
            1.3823076496420743,
            1.4277947212641624,
            0.4180449807940919,
            1.4277947212641624,
            -0.0326682695290306,
            -0.6145193524012825,
            1.1255329403796448,
            0.3692040789603385,
            0.3692040789603385,
            -0.6145193524012825,
            0.06165970392681086,
            -0.8240208940923822,
            1.4277947212641624,
            -0.2894429787914603,
            0.3692040789603385,
            -0.6913153272808296,
            -0.6458282556587416,
            -0.2894429787914603,
            -0.2894429787914603,
            -0.8240208940923822,
            -0.6458282556587416,
            -0.6913153272808296,
            -0.3349300504135483,
            0.012818802093057293,
            -0.8240208940923822,
            -0.6458282556587416,
            1.076692038545891,
            0.3692040789603385,
            -0.0326682695290306,
            -0.6913153272808296,
            -0.6458282556587416,
            -0.0326682695290306,
            -0.6913153272808296,
            -0.2894429787914603,
            0.04748153556218199,
            1.3823076496420743,
            -0.21086090796267115,
            -0.3349300504135483,
            0.06165970392681086,
            -0.2894429787914603,
            0.012818802093057293,
            -0.3349300504135483,
            -0.86950796571447
           ]
          }
         ],
         "hovertemplate": "color=1<br>%{xaxis.title.text}=%{x}<br>%{yaxis.title.text}=%{y}<extra></extra>",
         "legendgroup": "1",
         "marker": {
          "color": "#EF553B",
          "symbol": "circle"
         },
         "name": "1",
         "showlegend": true,
         "type": "splom",
         "diagonal": {
          "visible": false
         }
        }
       ],
       "layout": {
        "template": {
         "data": {
          "histogram2dcontour": [
           {
            "type": "histogram2dcontour",
            "colorbar": {
             "outlinewidth": 0,
             "ticks": ""
            },
            "colorscale": [
             [
              0.0,
              "#0d0887"
             ],
             [
              0.1111111111111111,
              "#46039f"
             ],
             [
              0.2222222222222222,
              "#7201a8"
             ],
             [
              0.3333333333333333,
              "#9c179e"
             ],
             [
              0.4444444444444444,
              "#bd3786"
             ],
             [
              0.5555555555555556,
              "#d8576b"
             ],
             [
              0.6666666666666666,
              "#ed7953"
             ],
             [
              0.7777777777777778,
              "#fb9f3a"
             ],
             [
              0.8888888888888888,
              "#fdca26"
             ],
             [
              1.0,
              "#f0f921"
             ]
            ]
           }
          ],
          "choropleth": [
           {
            "type": "choropleth",
            "colorbar": {
             "outlinewidth": 0,
             "ticks": ""
            }
           }
          ],
          "histogram2d": [
           {
            "type": "histogram2d",
            "colorbar": {
             "outlinewidth": 0,
             "ticks": ""
            },
            "colorscale": [
             [
              0.0,
              "#0d0887"
             ],
             [
              0.1111111111111111,
              "#46039f"
             ],
             [
              0.2222222222222222,
              "#7201a8"
             ],
             [
              0.3333333333333333,
              "#9c179e"
             ],
             [
              0.4444444444444444,
              "#bd3786"
             ],
             [
              0.5555555555555556,
              "#d8576b"
             ],
             [
              0.6666666666666666,
              "#ed7953"
             ],
             [
              0.7777777777777778,
              "#fb9f3a"
             ],
             [
              0.8888888888888888,
              "#fdca26"
             ],
             [
              1.0,
              "#f0f921"
             ]
            ]
           }
          ],
          "heatmap": [
           {
            "type": "heatmap",
            "colorbar": {
             "outlinewidth": 0,
             "ticks": ""
            },
            "colorscale": [
             [
              0.0,
              "#0d0887"
             ],
             [
              0.1111111111111111,
              "#46039f"
             ],
             [
              0.2222222222222222,
              "#7201a8"
             ],
             [
              0.3333333333333333,
              "#9c179e"
             ],
             [
              0.4444444444444444,
              "#bd3786"
             ],
             [
              0.5555555555555556,
              "#d8576b"
             ],
             [
              0.6666666666666666,
              "#ed7953"
             ],
             [
              0.7777777777777778,
              "#fb9f3a"
             ],
             [
              0.8888888888888888,
              "#fdca26"
             ],
             [
              1.0,
              "#f0f921"
             ]
            ]
           }
          ],
          "heatmapgl": [
           {
            "type": "heatmapgl",
            "colorbar": {
             "outlinewidth": 0,
             "ticks": ""
            },
            "colorscale": [
             [
              0.0,
              "#0d0887"
             ],
             [
              0.1111111111111111,
              "#46039f"
             ],
             [
              0.2222222222222222,
              "#7201a8"
             ],
             [
              0.3333333333333333,
              "#9c179e"
             ],
             [
              0.4444444444444444,
              "#bd3786"
             ],
             [
              0.5555555555555556,
              "#d8576b"
             ],
             [
              0.6666666666666666,
              "#ed7953"
             ],
             [
              0.7777777777777778,
              "#fb9f3a"
             ],
             [
              0.8888888888888888,
              "#fdca26"
             ],
             [
              1.0,
              "#f0f921"
             ]
            ]
           }
          ],
          "contourcarpet": [
           {
            "type": "contourcarpet",
            "colorbar": {
             "outlinewidth": 0,
             "ticks": ""
            }
           }
          ],
          "contour": [
           {
            "type": "contour",
            "colorbar": {
             "outlinewidth": 0,
             "ticks": ""
            },
            "colorscale": [
             [
              0.0,
              "#0d0887"
             ],
             [
              0.1111111111111111,
              "#46039f"
             ],
             [
              0.2222222222222222,
              "#7201a8"
             ],
             [
              0.3333333333333333,
              "#9c179e"
             ],
             [
              0.4444444444444444,
              "#bd3786"
             ],
             [
              0.5555555555555556,
              "#d8576b"
             ],
             [
              0.6666666666666666,
              "#ed7953"
             ],
             [
              0.7777777777777778,
              "#fb9f3a"
             ],
             [
              0.8888888888888888,
              "#fdca26"
             ],
             [
              1.0,
              "#f0f921"
             ]
            ]
           }
          ],
          "surface": [
           {
            "type": "surface",
            "colorbar": {
             "outlinewidth": 0,
             "ticks": ""
            },
            "colorscale": [
             [
              0.0,
              "#0d0887"
             ],
             [
              0.1111111111111111,
              "#46039f"
             ],
             [
              0.2222222222222222,
              "#7201a8"
             ],
             [
              0.3333333333333333,
              "#9c179e"
             ],
             [
              0.4444444444444444,
              "#bd3786"
             ],
             [
              0.5555555555555556,
              "#d8576b"
             ],
             [
              0.6666666666666666,
              "#ed7953"
             ],
             [
              0.7777777777777778,
              "#fb9f3a"
             ],
             [
              0.8888888888888888,
              "#fdca26"
             ],
             [
              1.0,
              "#f0f921"
             ]
            ]
           }
          ],
          "mesh3d": [
           {
            "type": "mesh3d",
            "colorbar": {
             "outlinewidth": 0,
             "ticks": ""
            }
           }
          ],
          "scatter": [
           {
            "fillpattern": {
             "fillmode": "overlay",
             "size": 10,
             "solidity": 0.2
            },
            "type": "scatter"
           }
          ],
          "parcoords": [
           {
            "type": "parcoords",
            "line": {
             "colorbar": {
              "outlinewidth": 0,
              "ticks": ""
             }
            }
           }
          ],
          "scatterpolargl": [
           {
            "type": "scatterpolargl",
            "marker": {
             "colorbar": {
              "outlinewidth": 0,
              "ticks": ""
             }
            }
           }
          ],
          "bar": [
           {
            "error_x": {
             "color": "#2a3f5f"
            },
            "error_y": {
             "color": "#2a3f5f"
            },
            "marker": {
             "line": {
              "color": "#E5ECF6",
              "width": 0.5
             },
             "pattern": {
              "fillmode": "overlay",
              "size": 10,
              "solidity": 0.2
             }
            },
            "type": "bar"
           }
          ],
          "scattergeo": [
           {
            "type": "scattergeo",
            "marker": {
             "colorbar": {
              "outlinewidth": 0,
              "ticks": ""
             }
            }
           }
          ],
          "scatterpolar": [
           {
            "type": "scatterpolar",
            "marker": {
             "colorbar": {
              "outlinewidth": 0,
              "ticks": ""
             }
            }
           }
          ],
          "histogram": [
           {
            "marker": {
             "pattern": {
              "fillmode": "overlay",
              "size": 10,
              "solidity": 0.2
             }
            },
            "type": "histogram"
           }
          ],
          "scattergl": [
           {
            "type": "scattergl",
            "marker": {
             "colorbar": {
              "outlinewidth": 0,
              "ticks": ""
             }
            }
           }
          ],
          "scatter3d": [
           {
            "type": "scatter3d",
            "line": {
             "colorbar": {
              "outlinewidth": 0,
              "ticks": ""
             }
            },
            "marker": {
             "colorbar": {
              "outlinewidth": 0,
              "ticks": ""
             }
            }
           }
          ],
          "scattermapbox": [
           {
            "type": "scattermapbox",
            "marker": {
             "colorbar": {
              "outlinewidth": 0,
              "ticks": ""
             }
            }
           }
          ],
          "scatterternary": [
           {
            "type": "scatterternary",
            "marker": {
             "colorbar": {
              "outlinewidth": 0,
              "ticks": ""
             }
            }
           }
          ],
          "scattercarpet": [
           {
            "type": "scattercarpet",
            "marker": {
             "colorbar": {
              "outlinewidth": 0,
              "ticks": ""
             }
            }
           }
          ],
          "carpet": [
           {
            "aaxis": {
             "endlinecolor": "#2a3f5f",
             "gridcolor": "white",
             "linecolor": "white",
             "minorgridcolor": "white",
             "startlinecolor": "#2a3f5f"
            },
            "baxis": {
             "endlinecolor": "#2a3f5f",
             "gridcolor": "white",
             "linecolor": "white",
             "minorgridcolor": "white",
             "startlinecolor": "#2a3f5f"
            },
            "type": "carpet"
           }
          ],
          "table": [
           {
            "cells": {
             "fill": {
              "color": "#EBF0F8"
             },
             "line": {
              "color": "white"
             }
            },
            "header": {
             "fill": {
              "color": "#C8D4E3"
             },
             "line": {
              "color": "white"
             }
            },
            "type": "table"
           }
          ],
          "barpolar": [
           {
            "marker": {
             "line": {
              "color": "#E5ECF6",
              "width": 0.5
             },
             "pattern": {
              "fillmode": "overlay",
              "size": 10,
              "solidity": 0.2
             }
            },
            "type": "barpolar"
           }
          ],
          "pie": [
           {
            "automargin": true,
            "type": "pie"
           }
          ]
         },
         "layout": {
          "autotypenumbers": "strict",
          "colorway": [
           "#636efa",
           "#EF553B",
           "#00cc96",
           "#ab63fa",
           "#FFA15A",
           "#19d3f3",
           "#FF6692",
           "#B6E880",
           "#FF97FF",
           "#FECB52"
          ],
          "font": {
           "color": "#2a3f5f"
          },
          "hovermode": "closest",
          "hoverlabel": {
           "align": "left"
          },
          "paper_bgcolor": "white",
          "plot_bgcolor": "#E5ECF6",
          "polar": {
           "bgcolor": "#E5ECF6",
           "angularaxis": {
            "gridcolor": "white",
            "linecolor": "white",
            "ticks": ""
           },
           "radialaxis": {
            "gridcolor": "white",
            "linecolor": "white",
            "ticks": ""
           }
          },
          "ternary": {
           "bgcolor": "#E5ECF6",
           "aaxis": {
            "gridcolor": "white",
            "linecolor": "white",
            "ticks": ""
           },
           "baxis": {
            "gridcolor": "white",
            "linecolor": "white",
            "ticks": ""
           },
           "caxis": {
            "gridcolor": "white",
            "linecolor": "white",
            "ticks": ""
           }
          },
          "coloraxis": {
           "colorbar": {
            "outlinewidth": 0,
            "ticks": ""
           }
          },
          "colorscale": {
           "sequential": [
            [
             0.0,
             "#0d0887"
            ],
            [
             0.1111111111111111,
             "#46039f"
            ],
            [
             0.2222222222222222,
             "#7201a8"
            ],
            [
             0.3333333333333333,
             "#9c179e"
            ],
            [
             0.4444444444444444,
             "#bd3786"
            ],
            [
             0.5555555555555556,
             "#d8576b"
            ],
            [
             0.6666666666666666,
             "#ed7953"
            ],
            [
             0.7777777777777778,
             "#fb9f3a"
            ],
            [
             0.8888888888888888,
             "#fdca26"
            ],
            [
             1.0,
             "#f0f921"
            ]
           ],
           "sequentialminus": [
            [
             0.0,
             "#0d0887"
            ],
            [
             0.1111111111111111,
             "#46039f"
            ],
            [
             0.2222222222222222,
             "#7201a8"
            ],
            [
             0.3333333333333333,
             "#9c179e"
            ],
            [
             0.4444444444444444,
             "#bd3786"
            ],
            [
             0.5555555555555556,
             "#d8576b"
            ],
            [
             0.6666666666666666,
             "#ed7953"
            ],
            [
             0.7777777777777778,
             "#fb9f3a"
            ],
            [
             0.8888888888888888,
             "#fdca26"
            ],
            [
             1.0,
             "#f0f921"
            ]
           ],
           "diverging": [
            [
             0,
             "#8e0152"
            ],
            [
             0.1,
             "#c51b7d"
            ],
            [
             0.2,
             "#de77ae"
            ],
            [
             0.3,
             "#f1b6da"
            ],
            [
             0.4,
             "#fde0ef"
            ],
            [
             0.5,
             "#f7f7f7"
            ],
            [
             0.6,
             "#e6f5d0"
            ],
            [
             0.7,
             "#b8e186"
            ],
            [
             0.8,
             "#7fbc41"
            ],
            [
             0.9,
             "#4d9221"
            ],
            [
             1,
             "#276419"
            ]
           ]
          },
          "xaxis": {
           "gridcolor": "white",
           "linecolor": "white",
           "ticks": "",
           "title": {
            "standoff": 15
           },
           "zerolinecolor": "white",
           "automargin": true,
           "zerolinewidth": 2
          },
          "yaxis": {
           "gridcolor": "white",
           "linecolor": "white",
           "ticks": "",
           "title": {
            "standoff": 15
           },
           "zerolinecolor": "white",
           "automargin": true,
           "zerolinewidth": 2
          },
          "scene": {
           "xaxis": {
            "backgroundcolor": "#E5ECF6",
            "gridcolor": "white",
            "linecolor": "white",
            "showbackground": true,
            "ticks": "",
            "zerolinecolor": "white",
            "gridwidth": 2
           },
           "yaxis": {
            "backgroundcolor": "#E5ECF6",
            "gridcolor": "white",
            "linecolor": "white",
            "showbackground": true,
            "ticks": "",
            "zerolinecolor": "white",
            "gridwidth": 2
           },
           "zaxis": {
            "backgroundcolor": "#E5ECF6",
            "gridcolor": "white",
            "linecolor": "white",
            "showbackground": true,
            "ticks": "",
            "zerolinecolor": "white",
            "gridwidth": 2
           }
          },
          "shapedefaults": {
           "line": {
            "color": "#2a3f5f"
           }
          },
          "annotationdefaults": {
           "arrowcolor": "#2a3f5f",
           "arrowhead": 0,
           "arrowwidth": 1
          },
          "geo": {
           "bgcolor": "white",
           "landcolor": "#E5ECF6",
           "subunitcolor": "white",
           "showland": true,
           "showlakes": true,
           "lakecolor": "white"
          },
          "title": {
           "x": 0.05
          },
          "mapbox": {
           "style": "light"
          }
         }
        },
        "legend": {
         "title": {
          "text": "color"
         },
         "tracegroupgap": 0
        },
        "margin": {
         "t": 60
        },
        "dragmode": "select"
       },
       "config": {
        "plotlyServerURL": "https://plot.ly"
       }
      },
      "text/html": "<div>                            <div id=\"3c1af263-f406-47d7-9bce-d077f3840810\" class=\"plotly-graph-div\" style=\"height:525px; width:100%;\"></div>            <script type=\"text/javascript\">                require([\"plotly\"], function(Plotly) {                    window.PLOTLYENV=window.PLOTLYENV || {};                                    if (document.getElementById(\"3c1af263-f406-47d7-9bce-d077f3840810\")) {                    Plotly.newPlot(                        \"3c1af263-f406-47d7-9bce-d077f3840810\",                        [{\"dimensions\":[{\"axis\":{\"matches\":true},\"label\":\"PC 1 (73.8%)\",\"values\":[2.455574355125071,1.7728614009806418,1.0682534550337992,3.138287309269505,1.1448369228950248,0.8507591179468698,3.116392317467094,0.10172359471951523,3.138287309269506,1.772861400980642,2.275374168109534,3.116392317467094,3.138287309269506,3.138287309269506,1.7509664091782309,3.138287309269506,3.116392317467094,1.0901484468362101,3.138287309269506,1.8275498770394567,2.8370760771122283,1.068253455033799,0.34175051728454553,3.138287309269506,1.772861400980642,2.455574355125074,3.138287309269506,1.8415177977864117,3.0944973256646833,1.72907141737582,1.7509664091782309,3.138287309269506,1.85315189081052,2.275374168109534,3.138287309269506,1.0463584632313878,3.138287309269506,3.138287309269506,3.138287309269506,3.138287309269506,1.772861400980642,3.138287309269506,1.068253455033799,3.138287309269506,0.22723530567623873,1.0901484468362101]},{\"axis\":{\"matches\":true},\"label\":\"PC 2 (10.3%)\",\"values\":[0.1297362444028717,0.7840563043135923,1.8267146595324668,-0.5245838155078518,0.31174241652520757,-2.401800431451279,-0.13624552019969977,-1.848614699544702,-0.5245838155078517,0.7840563043135923,-1.2776023435874453,-0.13624552019969996,-0.5245838155078517,-0.5245838155078517,1.172394599621744,-0.5245838155078517,-0.13624552019969996,1.4383763642243141,-0.5245838155078517,-0.342577643385514,-0.9064227838032058,1.826714659532466,3.2577113100594914,-0.5245838155078517,0.7840563043135923,0.1297362444028702,-0.5245838155078517,-1.8617099678910893,0.2520927751084521,1.5607328949298955,1.172394599621744,-0.5245838155078517,-0.633941692187838,-1.2776023435874453,-0.5245838155078517,2.2150529548406177,-0.5245838155078517,-0.5245838155078517,-0.5245838155078517,-0.5245838155078517,0.7840563043135923,-0.5245838155078517,1.826714659532466,-0.5245838155078517,0.6853578361447202,1.4383763642243141]},{\"axis\":{\"matches\":true},\"label\":\"PC 3 (6.6%)\",\"values\":[-0.19047484101506124,-0.1934770500223552,-0.29040540726907915,-0.18747263200776526,0.4631816758967144,1.4037881432864365,-0.28139878024719234,1.6986518825988228,-0.18747263200776423,-0.1934770500223553,0.4287613668396422,-0.28139878024719234,-0.18747263200776423,-0.18747263200776423,-0.2874031982617834,-0.18747263200776423,-0.28139878024719234,-0.19647925902965085,-0.18747263200776423,0.4661838849040098,0.06996858924025447,-0.29040540726907893,-0.48125991275523067,-0.18747263200776423,-0.1934770500223553,-0.19047484101505976,-0.18747263200776423,1.2819344847270246,-0.3753249284866204,-0.3813293465012115,-0.2874031982617834,-0.18747263200776423,0.3244076014809776,0.4287613668396422,-0.18747263200776423,-0.38433155550850695,-0.18747263200776423,-0.18747263200776423,-0.18747263200776423,-0.18747263200776423,-0.1934770500223553,-0.18747263200776423,-0.29040540726907893,-0.18747263200776423,0.41975473981775563,-0.19647925902965085]},{\"axis\":{\"matches\":true},\"label\":\"PC 4 (4.4%)\",\"values\":[-0.29420389935857005,-0.46982537542710734,0.013200206256154647,-0.11858242329003288,0.20635368090098635,-0.12153498981823442,0.5400646344617658,0.410331493698781,-0.11858242329003292,-0.4698253754271069,-0.10440425492540412,0.5400646344617658,-0.11858242329003292,-0.11858242329003292,0.1888216823246919,-0.11858242329003292,0.5400646344617658,-0.6454468514956438,-0.11858242329003292,0.3819751569695234,-0.07309535166794495,0.013200206256154881,1.1548728456912154,-0.11858242329003292,-0.4698253754271069,-0.29420389935856994,-0.11858242329003292,1.3560587358677885,1.198711692213564,0.8474687400764904,0.1888216823246919,-0.11858242329003292,-0.20322975611439398,-0.10440425492540412,-0.11858242329003292,0.6718472640079535,-0.11858242329003292,-0.11858242329003292,-0.11858242329003292,-0.11858242329003292,-0.4698253754271069,-0.11858242329003292,0.013200206256154881,-0.11858242329003292,-0.631268683131015,-0.6454468514956438]}],\"hovertemplate\":\"color=0<br>%{xaxis.title.text}=%{x}<br>%{yaxis.title.text}=%{y}<extra></extra>\",\"legendgroup\":\"0\",\"marker\":{\"color\":\"#636efa\",\"symbol\":\"circle\"},\"name\":\"0\",\"showlegend\":true,\"type\":\"splom\",\"diagonal\":{\"visible\":false}},{\"dimensions\":[{\"axis\":{\"matches\":true},\"label\":\"PC 1 (73.8%)\",\"values\":[-1.951187227877357,-2.0838323660432025,-2.38504359820048,-2.9976475765178767,-2.38504359820048,-1.951187227877357,-1.66880155922953,-3.0639701456007997,-2.9532199992373656,-2.9532199992373656,-1.66880155922953,-2.296826037315146,-1.8800926986308573,-2.38504359820048,-2.9313250074349537,-2.9532199992373656,-1.9292922360749454,-2.230503468232223,-2.9313250074349537,-2.9313250074349537,-1.8800926986308573,-2.230503468232223,-1.9292922360749454,-2.6301137752776764,-2.2523984600346343,-1.8800926986308573,-2.230503468232223,-3.0195425683202886,-2.9532199992373656,-1.951187227877357,-1.9292922360749454,-2.230503468232223,-1.951187227877357,-1.9292922360749454,-2.9313250074349537,-1.4339128961551753,-2.0838323660432025,-1.6007764582759918,-2.6301137752776764,-2.296826037315146,-2.9313250074349537,-2.2523984600346343,-2.630113775277677,-1.5788814664735804]},{\"axis\":{\"matches\":true},\"label\":\"PC 2 (10.3%)\",\"values\":[0.6289285868317513,0.42665993082346204,0.044820962528107855,-0.9558399747026249,0.044820962528107855,0.6289285868317513,0.22993088301248538,-1.0569743027067697,-0.4663673513903287,-0.4663673513903287,0.22993088301248538,-0.24238300477589927,0.21547980819160842,0.044820962528107855,-0.8547056466984804,-0.4663673513903287,0.24059029152359962,-0.14124867677175448,-0.8547056466984804,-0.8547056466984804,0.21547980819160842,-0.14124867677175448,0.24059029152359962,-0.4728666784031263,0.24708961853639727,0.21547980819160842,-0.14124867677175448,-0.5675016793944734,-0.4663673513903287,0.6289285868317513,0.24059029152359962,-0.14124867677175448,0.6289285868317513,0.24059029152359962,-0.8547056466984804,0.5106355233036947,0.42665993082346204,0.9856570717951142,-0.4728666784031263,-0.24238300477589927,-0.8547056466984804,0.24708961853639727,-0.4728666784031264,0.5973187764869626]},{\"axis\":{\"matches\":true},\"label\":\"PC 3 (6.6%)\",\"values\":[0.19931949184341197,0.7950513884827759,1.0524926097307947,-0.8336320822022505,1.0524926097307947,0.19931949184341197,0.19189408373147104,-0.5357661338825683,-1.2254241787613607,-1.2254241787613607,0.19189408373147104,0.8485528096505407,1.3917793072572544,1.0524926097307947,-1.1314980305219322,-1.2254241787613607,0.29324564008284,0.5506868613308588,-1.1314980305219322,-1.1314980305219322,1.3917793072572544,0.5506868613308588,0.29324564008284,-1.388939251769951,0.4567607130914307,1.3917793072572544,0.5506868613308588,-0.927558230441679,-1.2254241787613607,0.19931949184341197,0.29324564008284,0.5506868613308588,0.19931949184341197,0.29324564008284,-1.1314980305219322,0.23231881080313416,0.7950513884827759,1.0404119377698076,-1.388939251769951,0.8485528096505407,-1.1314980305219322,0.4567607130914307,-1.3889392517699513,1.1343380860092356]},{\"axis\":{\"matches\":true},\"label\":\"PC 4 (4.4%)\",\"values\":[-0.0326682695290306,1.3823076496420743,1.4277947212641624,0.4180449807940919,1.4277947212641624,-0.0326682695290306,-0.6145193524012825,1.1255329403796448,0.3692040789603385,0.3692040789603385,-0.6145193524012825,0.06165970392681086,-0.8240208940923822,1.4277947212641624,-0.2894429787914603,0.3692040789603385,-0.6913153272808296,-0.6458282556587416,-0.2894429787914603,-0.2894429787914603,-0.8240208940923822,-0.6458282556587416,-0.6913153272808296,-0.3349300504135483,0.012818802093057293,-0.8240208940923822,-0.6458282556587416,1.076692038545891,0.3692040789603385,-0.0326682695290306,-0.6913153272808296,-0.6458282556587416,-0.0326682695290306,-0.6913153272808296,-0.2894429787914603,0.04748153556218199,1.3823076496420743,-0.21086090796267115,-0.3349300504135483,0.06165970392681086,-0.2894429787914603,0.012818802093057293,-0.3349300504135483,-0.86950796571447]}],\"hovertemplate\":\"color=1<br>%{xaxis.title.text}=%{x}<br>%{yaxis.title.text}=%{y}<extra></extra>\",\"legendgroup\":\"1\",\"marker\":{\"color\":\"#EF553B\",\"symbol\":\"circle\"},\"name\":\"1\",\"showlegend\":true,\"type\":\"splom\",\"diagonal\":{\"visible\":false}}],                        {\"template\":{\"data\":{\"histogram2dcontour\":[{\"type\":\"histogram2dcontour\",\"colorbar\":{\"outlinewidth\":0,\"ticks\":\"\"},\"colorscale\":[[0.0,\"#0d0887\"],[0.1111111111111111,\"#46039f\"],[0.2222222222222222,\"#7201a8\"],[0.3333333333333333,\"#9c179e\"],[0.4444444444444444,\"#bd3786\"],[0.5555555555555556,\"#d8576b\"],[0.6666666666666666,\"#ed7953\"],[0.7777777777777778,\"#fb9f3a\"],[0.8888888888888888,\"#fdca26\"],[1.0,\"#f0f921\"]]}],\"choropleth\":[{\"type\":\"choropleth\",\"colorbar\":{\"outlinewidth\":0,\"ticks\":\"\"}}],\"histogram2d\":[{\"type\":\"histogram2d\",\"colorbar\":{\"outlinewidth\":0,\"ticks\":\"\"},\"colorscale\":[[0.0,\"#0d0887\"],[0.1111111111111111,\"#46039f\"],[0.2222222222222222,\"#7201a8\"],[0.3333333333333333,\"#9c179e\"],[0.4444444444444444,\"#bd3786\"],[0.5555555555555556,\"#d8576b\"],[0.6666666666666666,\"#ed7953\"],[0.7777777777777778,\"#fb9f3a\"],[0.8888888888888888,\"#fdca26\"],[1.0,\"#f0f921\"]]}],\"heatmap\":[{\"type\":\"heatmap\",\"colorbar\":{\"outlinewidth\":0,\"ticks\":\"\"},\"colorscale\":[[0.0,\"#0d0887\"],[0.1111111111111111,\"#46039f\"],[0.2222222222222222,\"#7201a8\"],[0.3333333333333333,\"#9c179e\"],[0.4444444444444444,\"#bd3786\"],[0.5555555555555556,\"#d8576b\"],[0.6666666666666666,\"#ed7953\"],[0.7777777777777778,\"#fb9f3a\"],[0.8888888888888888,\"#fdca26\"],[1.0,\"#f0f921\"]]}],\"heatmapgl\":[{\"type\":\"heatmapgl\",\"colorbar\":{\"outlinewidth\":0,\"ticks\":\"\"},\"colorscale\":[[0.0,\"#0d0887\"],[0.1111111111111111,\"#46039f\"],[0.2222222222222222,\"#7201a8\"],[0.3333333333333333,\"#9c179e\"],[0.4444444444444444,\"#bd3786\"],[0.5555555555555556,\"#d8576b\"],[0.6666666666666666,\"#ed7953\"],[0.7777777777777778,\"#fb9f3a\"],[0.8888888888888888,\"#fdca26\"],[1.0,\"#f0f921\"]]}],\"contourcarpet\":[{\"type\":\"contourcarpet\",\"colorbar\":{\"outlinewidth\":0,\"ticks\":\"\"}}],\"contour\":[{\"type\":\"contour\",\"colorbar\":{\"outlinewidth\":0,\"ticks\":\"\"},\"colorscale\":[[0.0,\"#0d0887\"],[0.1111111111111111,\"#46039f\"],[0.2222222222222222,\"#7201a8\"],[0.3333333333333333,\"#9c179e\"],[0.4444444444444444,\"#bd3786\"],[0.5555555555555556,\"#d8576b\"],[0.6666666666666666,\"#ed7953\"],[0.7777777777777778,\"#fb9f3a\"],[0.8888888888888888,\"#fdca26\"],[1.0,\"#f0f921\"]]}],\"surface\":[{\"type\":\"surface\",\"colorbar\":{\"outlinewidth\":0,\"ticks\":\"\"},\"colorscale\":[[0.0,\"#0d0887\"],[0.1111111111111111,\"#46039f\"],[0.2222222222222222,\"#7201a8\"],[0.3333333333333333,\"#9c179e\"],[0.4444444444444444,\"#bd3786\"],[0.5555555555555556,\"#d8576b\"],[0.6666666666666666,\"#ed7953\"],[0.7777777777777778,\"#fb9f3a\"],[0.8888888888888888,\"#fdca26\"],[1.0,\"#f0f921\"]]}],\"mesh3d\":[{\"type\":\"mesh3d\",\"colorbar\":{\"outlinewidth\":0,\"ticks\":\"\"}}],\"scatter\":[{\"fillpattern\":{\"fillmode\":\"overlay\",\"size\":10,\"solidity\":0.2},\"type\":\"scatter\"}],\"parcoords\":[{\"type\":\"parcoords\",\"line\":{\"colorbar\":{\"outlinewidth\":0,\"ticks\":\"\"}}}],\"scatterpolargl\":[{\"type\":\"scatterpolargl\",\"marker\":{\"colorbar\":{\"outlinewidth\":0,\"ticks\":\"\"}}}],\"bar\":[{\"error_x\":{\"color\":\"#2a3f5f\"},\"error_y\":{\"color\":\"#2a3f5f\"},\"marker\":{\"line\":{\"color\":\"#E5ECF6\",\"width\":0.5},\"pattern\":{\"fillmode\":\"overlay\",\"size\":10,\"solidity\":0.2}},\"type\":\"bar\"}],\"scattergeo\":[{\"type\":\"scattergeo\",\"marker\":{\"colorbar\":{\"outlinewidth\":0,\"ticks\":\"\"}}}],\"scatterpolar\":[{\"type\":\"scatterpolar\",\"marker\":{\"colorbar\":{\"outlinewidth\":0,\"ticks\":\"\"}}}],\"histogram\":[{\"marker\":{\"pattern\":{\"fillmode\":\"overlay\",\"size\":10,\"solidity\":0.2}},\"type\":\"histogram\"}],\"scattergl\":[{\"type\":\"scattergl\",\"marker\":{\"colorbar\":{\"outlinewidth\":0,\"ticks\":\"\"}}}],\"scatter3d\":[{\"type\":\"scatter3d\",\"line\":{\"colorbar\":{\"outlinewidth\":0,\"ticks\":\"\"}},\"marker\":{\"colorbar\":{\"outlinewidth\":0,\"ticks\":\"\"}}}],\"scattermapbox\":[{\"type\":\"scattermapbox\",\"marker\":{\"colorbar\":{\"outlinewidth\":0,\"ticks\":\"\"}}}],\"scatterternary\":[{\"type\":\"scatterternary\",\"marker\":{\"colorbar\":{\"outlinewidth\":0,\"ticks\":\"\"}}}],\"scattercarpet\":[{\"type\":\"scattercarpet\",\"marker\":{\"colorbar\":{\"outlinewidth\":0,\"ticks\":\"\"}}}],\"carpet\":[{\"aaxis\":{\"endlinecolor\":\"#2a3f5f\",\"gridcolor\":\"white\",\"linecolor\":\"white\",\"minorgridcolor\":\"white\",\"startlinecolor\":\"#2a3f5f\"},\"baxis\":{\"endlinecolor\":\"#2a3f5f\",\"gridcolor\":\"white\",\"linecolor\":\"white\",\"minorgridcolor\":\"white\",\"startlinecolor\":\"#2a3f5f\"},\"type\":\"carpet\"}],\"table\":[{\"cells\":{\"fill\":{\"color\":\"#EBF0F8\"},\"line\":{\"color\":\"white\"}},\"header\":{\"fill\":{\"color\":\"#C8D4E3\"},\"line\":{\"color\":\"white\"}},\"type\":\"table\"}],\"barpolar\":[{\"marker\":{\"line\":{\"color\":\"#E5ECF6\",\"width\":0.5},\"pattern\":{\"fillmode\":\"overlay\",\"size\":10,\"solidity\":0.2}},\"type\":\"barpolar\"}],\"pie\":[{\"automargin\":true,\"type\":\"pie\"}]},\"layout\":{\"autotypenumbers\":\"strict\",\"colorway\":[\"#636efa\",\"#EF553B\",\"#00cc96\",\"#ab63fa\",\"#FFA15A\",\"#19d3f3\",\"#FF6692\",\"#B6E880\",\"#FF97FF\",\"#FECB52\"],\"font\":{\"color\":\"#2a3f5f\"},\"hovermode\":\"closest\",\"hoverlabel\":{\"align\":\"left\"},\"paper_bgcolor\":\"white\",\"plot_bgcolor\":\"#E5ECF6\",\"polar\":{\"bgcolor\":\"#E5ECF6\",\"angularaxis\":{\"gridcolor\":\"white\",\"linecolor\":\"white\",\"ticks\":\"\"},\"radialaxis\":{\"gridcolor\":\"white\",\"linecolor\":\"white\",\"ticks\":\"\"}},\"ternary\":{\"bgcolor\":\"#E5ECF6\",\"aaxis\":{\"gridcolor\":\"white\",\"linecolor\":\"white\",\"ticks\":\"\"},\"baxis\":{\"gridcolor\":\"white\",\"linecolor\":\"white\",\"ticks\":\"\"},\"caxis\":{\"gridcolor\":\"white\",\"linecolor\":\"white\",\"ticks\":\"\"}},\"coloraxis\":{\"colorbar\":{\"outlinewidth\":0,\"ticks\":\"\"}},\"colorscale\":{\"sequential\":[[0.0,\"#0d0887\"],[0.1111111111111111,\"#46039f\"],[0.2222222222222222,\"#7201a8\"],[0.3333333333333333,\"#9c179e\"],[0.4444444444444444,\"#bd3786\"],[0.5555555555555556,\"#d8576b\"],[0.6666666666666666,\"#ed7953\"],[0.7777777777777778,\"#fb9f3a\"],[0.8888888888888888,\"#fdca26\"],[1.0,\"#f0f921\"]],\"sequentialminus\":[[0.0,\"#0d0887\"],[0.1111111111111111,\"#46039f\"],[0.2222222222222222,\"#7201a8\"],[0.3333333333333333,\"#9c179e\"],[0.4444444444444444,\"#bd3786\"],[0.5555555555555556,\"#d8576b\"],[0.6666666666666666,\"#ed7953\"],[0.7777777777777778,\"#fb9f3a\"],[0.8888888888888888,\"#fdca26\"],[1.0,\"#f0f921\"]],\"diverging\":[[0,\"#8e0152\"],[0.1,\"#c51b7d\"],[0.2,\"#de77ae\"],[0.3,\"#f1b6da\"],[0.4,\"#fde0ef\"],[0.5,\"#f7f7f7\"],[0.6,\"#e6f5d0\"],[0.7,\"#b8e186\"],[0.8,\"#7fbc41\"],[0.9,\"#4d9221\"],[1,\"#276419\"]]},\"xaxis\":{\"gridcolor\":\"white\",\"linecolor\":\"white\",\"ticks\":\"\",\"title\":{\"standoff\":15},\"zerolinecolor\":\"white\",\"automargin\":true,\"zerolinewidth\":2},\"yaxis\":{\"gridcolor\":\"white\",\"linecolor\":\"white\",\"ticks\":\"\",\"title\":{\"standoff\":15},\"zerolinecolor\":\"white\",\"automargin\":true,\"zerolinewidth\":2},\"scene\":{\"xaxis\":{\"backgroundcolor\":\"#E5ECF6\",\"gridcolor\":\"white\",\"linecolor\":\"white\",\"showbackground\":true,\"ticks\":\"\",\"zerolinecolor\":\"white\",\"gridwidth\":2},\"yaxis\":{\"backgroundcolor\":\"#E5ECF6\",\"gridcolor\":\"white\",\"linecolor\":\"white\",\"showbackground\":true,\"ticks\":\"\",\"zerolinecolor\":\"white\",\"gridwidth\":2},\"zaxis\":{\"backgroundcolor\":\"#E5ECF6\",\"gridcolor\":\"white\",\"linecolor\":\"white\",\"showbackground\":true,\"ticks\":\"\",\"zerolinecolor\":\"white\",\"gridwidth\":2}},\"shapedefaults\":{\"line\":{\"color\":\"#2a3f5f\"}},\"annotationdefaults\":{\"arrowcolor\":\"#2a3f5f\",\"arrowhead\":0,\"arrowwidth\":1},\"geo\":{\"bgcolor\":\"white\",\"landcolor\":\"#E5ECF6\",\"subunitcolor\":\"white\",\"showland\":true,\"showlakes\":true,\"lakecolor\":\"white\"},\"title\":{\"x\":0.05},\"mapbox\":{\"style\":\"light\"}}},\"legend\":{\"title\":{\"text\":\"color\"},\"tracegroupgap\":0},\"margin\":{\"t\":60},\"dragmode\":\"select\"},                        {\"responsive\": true}                    ).then(function(){\n                            \nvar gd = document.getElementById('3c1af263-f406-47d7-9bce-d077f3840810');\nvar x = new MutationObserver(function (mutations, observer) {{\n        var display = window.getComputedStyle(gd).display;\n        if (!display || display === 'none') {{\n            console.log([gd, 'removed!']);\n            Plotly.purge(gd);\n            observer.disconnect();\n        }}\n}});\n\n// Listen for the removal of the full notebook cells\nvar notebookContainer = gd.closest('#notebook-container');\nif (notebookContainer) {{\n    x.observe(notebookContainer, {childList: true});\n}}\n\n// Listen for the clearing of the current output cell\nvar outputEl = gd.closest('.output');\nif (outputEl) {{\n    x.observe(outputEl, {childList: true});\n}}\n\n                        })                };                });            </script>        </div>"
     },
     "metadata": {},
     "output_type": "display_data"
    }
   ],
   "source": [
    "pca(full_data,birch(full_data, n_clusters=2).labels_)"
   ],
   "metadata": {
    "collapsed": false,
    "pycharm": {
     "name": "#%%\n"
    }
   }
  },
  {
   "cell_type": "code",
   "execution_count": 100,
   "outputs": [
    {
     "name": "stderr",
     "output_type": "stream",
     "text": [
      "D:\\anaconda3\\lib\\site-packages\\sklearn\\cluster\\_kmeans.py:881: UserWarning: KMeans is known to have a memory leak on Windows with MKL, when there are less chunks than available threads. You can avoid it by setting the environment variable OMP_NUM_THREADS=1.\n",
      "  warnings.warn(\n"
     ]
    },
    {
     "data": {
      "text/plain": "<Figure size 432x288 with 1 Axes>",
      "image/png": "[encoded data removed]"
     },
     "metadata": {
      "needs_background": "light"
     },
     "output_type": "display_data"
    },
    {
     "data": {
      "text/plain": "<Figure size 432x288 with 1 Axes>",
      "image/png": "[encoded data removed]"
     },
     "metadata": {
      "needs_background": "light"
     },
     "output_type": "display_data"
    }
   ],
   "source": [
    "#### Spectral\n",
    "c = range(1,7)\n",
    "num_clu = []\n",
    "num_noise = []\n",
    "for i in c:\n",
    "    model = Spectral(MF_scores, i)\n",
    "    n_clusters_ = len(set(model.labels_)) - (1 if -1 in model.labels_ else 0)\n",
    "    num_clu.append(n_clusters_)\n",
    "    n_noise_ = list(model.labels_).count(-1)\n",
    "    num_noise.append(n_noise_)\n",
    "\n",
    "fig, ax = plt.subplots()\n",
    "ax.scatter(c, num_clu, linewidth=2.0)\n",
    "plt.show()\n",
    "\n",
    "fig, ax = plt.subplots()\n",
    "ax.plot(c, num_noise, linewidth=2.0)\n",
    "plt.show()"
   ],
   "metadata": {
    "collapsed": false,
    "pycharm": {
     "name": "#%%\n"
    }
   }
  }
 ],
 "metadata": {
  "kernelspec": {
   "display_name": "Python 3",
   "language": "python",
   "name": "python3"
  },
  "language_info": {
   "codemirror_mode": {
    "name": "ipython",
    "version": 2
   },
   "file_extension": ".py",
   "mimetype": "text/x-python",
   "name": "python",
   "nbconvert_exporter": "python",
   "pygments_lexer": "ipython2",
   "version": "2.7.6"
  }
 },
 "nbformat": 4,
 "nbformat_minor": 0
}